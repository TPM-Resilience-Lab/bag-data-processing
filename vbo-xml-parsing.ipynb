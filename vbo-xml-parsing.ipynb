{
 "cells": [
  {
   "cell_type": "code",
   "execution_count": 109,
   "metadata": {},
   "outputs": [],
   "source": [
    "from xml.dom import minidom\n",
    "import pandas as pd\n",
    "pd.options.display.max_columns=100\n",
    "pd.options.display.max_rows=1000\n",
    "import xmltodict\n",
    "import json\n",
    "import glob\n",
    "from tqdm import tqdm\n",
    "import geopandas as gpd\n",
    "tqdm.pandas()\n",
    "import shapely\n",
    "from shapely import geometry\n",
    "from shapely import wkt\n",
    "import re"
   ]
  },
  {
   "cell_type": "code",
   "execution_count": 2,
   "metadata": {},
   "outputs": [],
   "source": [
    "foldername = \"BAGGEM0518L-15122020/0518GEM15122020/0518VBO15122020/\"\n",
    "files = [file for file in glob.glob(f\"{foldername}/*.xml\")]"
   ]
  },
  {
   "cell_type": "code",
   "execution_count": 3,
   "metadata": {},
   "outputs": [
    {
     "name": "stderr",
     "output_type": "stream",
     "text": [
      "100%|██████████████████████████████████████████████████████████████████████████████████| 50/50 [01:51<00:00,  2.23s/it]\n"
     ]
    }
   ],
   "source": [
    "res = []\n",
    "for file in tqdm(files, total=len(files)):\n",
    "    with open(file) as xml_file:\n",
    "        data_dict = xmltodict.parse(xml_file.read())\n",
    "    \n",
    "    json_data = json.dumps(data_dict)\n",
    "    res.append(json.loads(json_data))"
   ]
  },
  {
   "cell_type": "code",
   "execution_count": 28,
   "metadata": {},
   "outputs": [],
   "source": [
    "issues = []\n",
    "a=res[0]['sl-bag-extract:bagStand'].get('sl:standBestand')[\"sl:stand\"][0]['sl-bag-extract:bagObject']['Objecten:Verblijfsobject']\n",
    "res_keys = {k:[] for k in a.keys()}\n",
    "k=0\n",
    "for data in res:\n",
    "    for num in range(len(data['sl-bag-extract:bagStand'].get('sl:standBestand')[\"sl:stand\"])):\n",
    "        k+=1\n",
    "        a=data['sl-bag-extract:bagStand'].get('sl:standBestand')[\"sl:stand\"][num]['sl-bag-extract:bagObject']['Objecten:Verblijfsobject']\n",
    "        for index, key in enumerate(a.keys()):\n",
    "            try:\n",
    "                res_keys[key].append(a[key])\n",
    "            except:\n",
    "                issues.append(k)\n",
    "                continue"
   ]
  },
  {
   "cell_type": "code",
   "execution_count": 29,
   "metadata": {},
   "outputs": [],
   "source": [
    "df = pd.DataFrame(columns = list(res_keys.keys()))\n",
    "for index, key in enumerate(res_keys.keys()):\n",
    "    df[key] = res_keys[key]"
   ]
  },
  {
   "cell_type": "code",
   "execution_count": 30,
   "metadata": {},
   "outputs": [],
   "source": [
    "# ok = df[~df.index.isin(issues)]\n",
    "# problematic = df.iloc[issues].copy()\n",
    "\n",
    "# problematic.columns = ['Objecten:heeftAlsHoofdadres', 'Objecten:voorkomen', 'Objecten:maaktDeelUitVan', 'Objecten:identificatie', 'Objecten:geometrie',\n",
    "#                            'Objecten:gebruiksdoel', 'Objecten:oppervlakte', 'Objecten:status', 'Objecten:geconstateerd', 'Objecten:documentdatum',\n",
    "#                            'Objecten:documentnummer']\n",
    "# df = pd.concat([ok, problematic])"
   ]
  },
  {
   "cell_type": "code",
   "execution_count": 31,
   "metadata": {},
   "outputs": [
    {
     "name": "stderr",
     "output_type": "stream",
     "text": [
      "100%|███████████████████████████████████████████████████████████████████████| 499354/499354 [00:05<00:00, 93836.65it/s]\n"
     ]
    }
   ],
   "source": [
    "# keynames = list(df['Objecten:heeftAlsHoofdadres'][100].get('Objecten-ref:NummeraanduidingRef').keys())\n",
    "_keys = {k:[] for k in df['Objecten:heeftAlsHoofdadres'][100].get('Objecten-ref:NummeraanduidingRef').keys()}\n",
    "for i in tqdm(range(len(df)), total=len(df)):\n",
    "    for index, key in enumerate(_keys.keys()):\n",
    "        try:\n",
    "            _keys[key].append(df['Objecten:heeftAlsHoofdadres'][i].get('Objecten-ref:NummeraanduidingRef').get(key))\n",
    "        except:\n",
    "            _keys[key].append(None)"
   ]
  },
  {
   "cell_type": "code",
   "execution_count": 32,
   "metadata": {},
   "outputs": [],
   "source": [
    "new_keys = [f\"heeftAlsHoofdadres-{k}\" for k in _keys.keys()]\n",
    "for key,n_key in zip(_keys.keys(), new_keys):\n",
    "    _keys[n_key] = _keys.pop(key)"
   ]
  },
  {
   "cell_type": "code",
   "execution_count": 33,
   "metadata": {},
   "outputs": [],
   "source": [
    "heeftAlsHoofdadres = pd.DataFrame(columns = _keys.keys())\n",
    "for index, key in enumerate(_keys.keys()):\n",
    "    heeftAlsHoofdadres[key] = _keys[key]\n",
    "    \n",
    "df = pd.concat([df, heeftAlsHoofdadres],axis=1)"
   ]
  },
  {
   "cell_type": "code",
   "execution_count": 34,
   "metadata": {},
   "outputs": [
    {
     "name": "stderr",
     "output_type": "stream",
     "text": [
      "100%|███████████████████████████████████████████████████████████████████████| 499354/499354 [00:09<00:00, 50667.94it/s]\n"
     ]
    }
   ],
   "source": [
    "_keys = {k:[] for k in df['Objecten:voorkomen'][100].get('Historie:Voorkomen').keys()}\n",
    "for i in tqdm(range(len(df)), total=len(df)):\n",
    "    for index, key in enumerate(_keys.keys()):\n",
    "        try:\n",
    "            _keys[key].append(df['Objecten:voorkomen'][i].get('Historie:Voorkomen').get(key))\n",
    "        except:\n",
    "            _keys[key].append(None)"
   ]
  },
  {
   "cell_type": "code",
   "execution_count": 35,
   "metadata": {},
   "outputs": [],
   "source": [
    "# new_keys = [f\"voor-{k}\" for k in _keys.keys()]\n",
    "# for key,n_key in zip(_keys.keys(), new_keys):\n",
    "#     _keys[n_key] = _keys.pop(key)"
   ]
  },
  {
   "cell_type": "code",
   "execution_count": 36,
   "metadata": {},
   "outputs": [],
   "source": [
    "voorkomen = pd.DataFrame(columns = _keys.keys())\n",
    "for index, key in enumerate(_keys.keys()):\n",
    "    voorkomen[key] = _keys[key]\n",
    "    \n",
    "df = pd.concat([df, voorkomen],axis=1)"
   ]
  },
  {
   "cell_type": "code",
   "execution_count": 37,
   "metadata": {},
   "outputs": [
    {
     "name": "stderr",
     "output_type": "stream",
     "text": [
      "100%|██████████████████████████████████████████████████████████████████████| 499354/499354 [00:02<00:00, 184466.13it/s]\n"
     ]
    }
   ],
   "source": [
    "_keys = {k:[] for k in df['Historie:BeschikbaarLV'][100].keys()}\n",
    "for i in tqdm(range(len(df)), total=len(df)):\n",
    "    for index, key in enumerate(_keys.keys()):\n",
    "        try:\n",
    "            _keys[key].append(df['Historie:BeschikbaarLV'][i].get(key))\n",
    "        except:\n",
    "            _keys[key].append(None)"
   ]
  },
  {
   "cell_type": "code",
   "execution_count": 38,
   "metadata": {},
   "outputs": [],
   "source": [
    "new_keys = [f\"Historie-{k}\" for k in _keys.keys()]\n",
    "for key,n_key in zip(_keys.keys(), new_keys):\n",
    "    _keys[n_key] = _keys.pop(key)"
   ]
  },
  {
   "cell_type": "code",
   "execution_count": 39,
   "metadata": {},
   "outputs": [],
   "source": [
    "Historie = pd.DataFrame(columns = _keys.keys())\n",
    "for index, key in enumerate(_keys.keys()):\n",
    "    Historie[key] = _keys[key]\n",
    "    \n",
    "df = pd.concat([df, Historie],axis=1)"
   ]
  },
  {
   "cell_type": "code",
   "execution_count": 40,
   "metadata": {},
   "outputs": [
    {
     "name": "stderr",
     "output_type": "stream",
     "text": [
      "100%|██████████████████████████████████████████████████████████████████████| 499354/499354 [00:04<00:00, 100577.43it/s]\n"
     ]
    }
   ],
   "source": [
    "# keynames = list(df[\"Objecten:identificatie\"][100].keys())\n",
    "_keys = {k:[] for k in df[\"Objecten:identificatie\"][100].keys()}\n",
    "for i in tqdm(range(len(df)), total=len(df)):\n",
    "    for index, key in enumerate(_keys.keys()):\n",
    "        try:\n",
    "            _keys[key].append(df[\"Objecten:identificatie\"][i].get(key))\n",
    "        except:\n",
    "            _keys[key.append(None)]"
   ]
  },
  {
   "cell_type": "code",
   "execution_count": 41,
   "metadata": {},
   "outputs": [],
   "source": [
    "new_keys = [f\"identificatie-{k}\" for k in _keys.keys()]\n",
    "for key,n_key in zip(_keys.keys(), new_keys):\n",
    "    _keys[n_key] = _keys.pop(key)"
   ]
  },
  {
   "cell_type": "code",
   "execution_count": 42,
   "metadata": {},
   "outputs": [],
   "source": [
    "identificatie = pd.DataFrame(columns = _keys.keys())\n",
    "for index, key in enumerate(_keys.keys()):\n",
    "    identificatie[key] = _keys[key]\n",
    "    \n",
    "df = pd.concat([df, identificatie],axis=1)"
   ]
  },
  {
   "cell_type": "code",
   "execution_count": 43,
   "metadata": {},
   "outputs": [
    {
     "name": "stderr",
     "output_type": "stream",
     "text": [
      "100%|███████████████████████████████████████████████████████████████████████| 499354/499354 [00:07<00:00, 66507.71it/s]\n"
     ]
    }
   ],
   "source": [
    "# keynames = list(df['Objecten:geometrie'][100].get('Objecten:punt').get(\"gml:Point\").keys())\n",
    "_keys = {k:[] for k in df['Objecten:geometrie'][100].get('Objecten:punt').get(\"gml:Point\").keys()}\n",
    "for i in tqdm(range(len(df)), total=len(df)):\n",
    "    for index, key in enumerate(_keys.keys()):\n",
    "        try:\n",
    "            _keys[key].append(df['Objecten:geometrie'][i].get('Objecten:punt').get(\"gml:Point\").get(key))\n",
    "        except:\n",
    "            _keys[key].append(None)"
   ]
  },
  {
   "cell_type": "code",
   "execution_count": 44,
   "metadata": {},
   "outputs": [],
   "source": [
    "new_keys = [f\"geometrie-{k}\" for k in _keys.keys()]\n",
    "for key,n_key in zip(_keys.keys(), new_keys):\n",
    "    _keys[n_key] = _keys.pop(key)"
   ]
  },
  {
   "cell_type": "code",
   "execution_count": 45,
   "metadata": {},
   "outputs": [],
   "source": [
    "geometries = pd.DataFrame(columns = _keys.keys())\n",
    "for index, key in enumerate(_keys.keys()):\n",
    "    geometries[key] = _keys[key]\n",
    "    \n",
    "df = pd.concat([df, geometries],axis=1)"
   ]
  },
  {
   "cell_type": "code",
   "execution_count": 46,
   "metadata": {},
   "outputs": [
    {
     "name": "stderr",
     "output_type": "stream",
     "text": [
      "100%|███████████████████████████████████████████████████████████████████████| 499354/499354 [00:05<00:00, 99867.70it/s]\n"
     ]
    }
   ],
   "source": [
    "_keys = {k:[] for k in df['Objecten:maaktDeelUitVan'][100].get('Objecten-ref:PandRef').keys()}\n",
    "for i in tqdm(range(len(df)), total=len(df)):\n",
    "    for index, key in enumerate(_keys.keys()):\n",
    "        try:\n",
    "            _keys[key].append(df['Objecten:maaktDeelUitVan'][i].get('Objecten-ref:PandRef').get(key))\n",
    "        except:\n",
    "            _keys[key].append(None)"
   ]
  },
  {
   "cell_type": "code",
   "execution_count": 47,
   "metadata": {},
   "outputs": [],
   "source": [
    "new_keys = [f\"maaktDeelUitVan-{k}\" for k in _keys.keys()]\n",
    "for key,n_key in zip(_keys.keys(), new_keys):\n",
    "    _keys[n_key] = _keys.pop(key)"
   ]
  },
  {
   "cell_type": "code",
   "execution_count": 48,
   "metadata": {},
   "outputs": [],
   "source": [
    "maaktDeelUitVan = pd.DataFrame(columns = _keys.keys())\n",
    "for index, key in enumerate(_keys.keys()):\n",
    "    maaktDeelUitVan[key] = _keys[key]\n",
    "    \n",
    "df = pd.concat([df, maaktDeelUitVan],axis=1)"
   ]
  },
  {
   "cell_type": "code",
   "execution_count": 58,
   "metadata": {},
   "outputs": [],
   "source": [
    "df.to_csv(\"VBO.csv\", index=False)"
   ]
  },
  {
   "cell_type": "code",
   "execution_count": 52,
   "metadata": {},
   "outputs": [],
   "source": [
    "df_clear = df.copy()\n",
    "del df['Objecten:gebruiksdoel']\n",
    "del df['Objecten:maaktDeelUitVan']"
   ]
  },
  {
   "cell_type": "code",
   "execution_count": 56,
   "metadata": {},
   "outputs": [],
   "source": [
    "df.to_parquet(\"VBO.parquet\")"
   ]
  },
  {
   "cell_type": "markdown",
   "metadata": {},
   "source": []
  },
  {
   "cell_type": "markdown",
   "metadata": {},
   "source": [
    "## Loading from parquet and converting to gdf."
   ]
  },
  {
   "cell_type": "code",
   "execution_count": 112,
   "metadata": {},
   "outputs": [],
   "source": [
    "df = pd.read_parquet(\"VBO.parquet\")"
   ]
  },
  {
   "cell_type": "code",
   "execution_count": 113,
   "metadata": {},
   "outputs": [],
   "source": [
    "def wkt_loads(x):\n",
    "    try:\n",
    "        geom = wkt.loads(x)\n",
    "    except:\n",
    "        geom=None\n",
    "    return geom"
   ]
  },
  {
   "cell_type": "code",
   "execution_count": 114,
   "metadata": {},
   "outputs": [
    {
     "name": "stderr",
     "output_type": "stream",
     "text": [
      "  4%|███▏                                                                    | 22145/499354 [00:00<00:06, 72398.06it/s]ParseException: Expected number but encountered word: 'None'\n",
      " 43%|██████████████████████████████▋                                        | 215816/499354 [00:03<00:03, 73912.51it/s]ParseException: Expected number but encountered word: 'None'\n",
      " 90%|███████████████████████████████████████████████████████████████▉       | 449383/499354 [00:09<00:00, 57263.10it/s]ParseException: Expected number but encountered word: 'None'\n",
      "ParseException: Expected number but encountered word: 'None'\n",
      " 91%|████████████████████████████████████████████████████████████████▉      | 456772/499354 [00:09<00:00, 60479.56it/s]ParseException: Expected number but encountered word: 'None'\n",
      "ParseException: Expected number but encountered word: 'None'\n",
      "ParseException: Expected number but encountered word: 'None'\n",
      " 93%|█████████████████████████████████████████████████████████████████▉     | 464033/499354 [00:10<00:00, 62355.89it/s]ParseException: Expected number but encountered word: 'None'\n",
      "ParseException: Expected number but encountered word: 'None'\n",
      "ParseException: Expected number but encountered word: 'None'\n",
      " 97%|█████████████████████████████████████████████████████████████████████  | 485961/499354 [00:10<00:00, 68593.22it/s]ParseException: Expected number but encountered word: 'None'\n",
      " 99%|██████████████████████████████████████████████████████████████████████▏| 493232/499354 [00:10<00:00, 69778.15it/s]ParseException: Expected number but encountered word: 'None'\n",
      "100%|███████████████████████████████████████████████████████████████████████| 499354/499354 [00:10<00:00, 47446.36it/s]\n"
     ]
    }
   ],
   "source": [
    "df['geometry'] = [f\"POINT({i})\" for i in df[\"geometrie-gml:pos\"]]\n",
    "df['geometry'] = df['geometry'].progress_apply(lambda x: wkt_loads(x))"
   ]
  },
  {
   "cell_type": "code",
   "execution_count": 115,
   "metadata": {},
   "outputs": [],
   "source": [
    "df = gpd.GeoDataFrame(df, geometry=\"geometry\")"
   ]
  },
  {
   "cell_type": "code",
   "execution_count": 116,
   "metadata": {},
   "outputs": [
    {
     "data": {
      "text/plain": [
       "<AxesSubplot:>"
      ]
     },
     "execution_count": 116,
     "metadata": {},
     "output_type": "execute_result"
    },
    {
     "data": {
      "image/png": "[encoded data removed]",
      "text/plain": [
       "<Figure size 432x288 with 1 Axes>"
      ]
     },
     "metadata": {
      "needs_background": "light"
     },
     "output_type": "display_data"
    }
   ],
   "source": [
    "df.plot(markersize=0.5, alpha=0.5)"
   ]
  }
 ],
 "metadata": {
  "kernelspec": {
   "display_name": "heros",
   "language": "python",
   "name": "heros"
  },
  "language_info": {
   "codemirror_mode": {
    "name": "ipython",
    "version": 3
   },
   "file_extension": ".py",
   "mimetype": "text/x-python",
   "name": "python",
   "nbconvert_exporter": "python",
   "pygments_lexer": "ipython3",
   "version": "3.7.9"
  }
 },
 "nbformat": 4,
 "nbformat_minor": 4
}
