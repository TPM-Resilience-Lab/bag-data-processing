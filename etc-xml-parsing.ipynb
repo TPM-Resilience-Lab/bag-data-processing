{
 "cells": [
  {
   "cell_type": "code",
   "execution_count": 1,
   "metadata": {},
   "outputs": [
    {
     "name": "stderr",
     "output_type": "stream",
     "text": [
      "C:\\Users\\jryap\\anaconda3\\envs\\heros\\lib\\site-packages\\tqdm\\std.py:670: FutureWarning: The Panel class is removed from pandas. Accessing it from the top-level namespace will also be removed in the next version\n",
      "  from pandas import Panel\n"
     ]
    }
   ],
   "source": [
    "from xml.dom import minidom\n",
    "import pandas as pd\n",
    "pd.options.display.max_columns=100\n",
    "pd.options.display.max_rows=1000\n",
    "import xmltodict\n",
    "import json\n",
    "import glob\n",
    "from tqdm import tqdm\n",
    "import geopandas as gpd\n",
    "tqdm.pandas()\n",
    "import shapely\n",
    "from shapely import geometry\n",
    "from shapely import wkt\n",
    "import re"
   ]
  },
  {
   "cell_type": "markdown",
   "metadata": {},
   "source": [
    "# InOnderzoek"
   ]
  },
  {
   "cell_type": "code",
   "execution_count": 2,
   "metadata": {},
   "outputs": [],
   "source": [
    "foldername = \"BAGGEM0518L-15122020/0518GEM15122020/0518InOnderzoek15122020/0518IOVBO15122020/\"\n",
    "files = [file for file in glob.glob(f\"{foldername}/*.xml\")]"
   ]
  },
  {
   "cell_type": "code",
   "execution_count": 5,
   "metadata": {},
   "outputs": [
    {
     "name": "stderr",
     "output_type": "stream",
     "text": [
      "100%|██████████████████████████████████████████████████████████████████████████████████| 10/10 [00:11<00:00,  1.14s/it]\n"
     ]
    }
   ],
   "source": [
    "res = []\n",
    "for file in tqdm(files, total=len(files)):\n",
    "    with open(file) as xml_file:\n",
    "        data_dict = xmltodict.parse(xml_file.read())\n",
    "    \n",
    "    json_data = json.dumps(data_dict)\n",
    "    res.append(json.loads(json_data))"
   ]
  },
  {
   "cell_type": "code",
   "execution_count": 21,
   "metadata": {},
   "outputs": [
    {
     "data": {
      "text/plain": [
       "{'KenmerkInOnderzoek:kenmerk': 'oppervlakte',\n",
       " 'KenmerkInOnderzoek:identificatieVanVerblijfsobject': {'@domein': 'NL.IMBAG.Verblijfsobject',\n",
       "  '#text': '0518010000355306'},\n",
       " 'KenmerkInOnderzoek:inOnderzoek': 'J',\n",
       " 'KenmerkInOnderzoek:documentdatum': '2010-12-20',\n",
       " 'KenmerkInOnderzoek:documentnummer': 'FV20101220-04',\n",
       " 'KenmerkInOnderzoek:historieInOnderzoek': {'Historie:HistorieInOnderzoek': {'Historie:tijdstipRegistratie': '2011-01-28T20:00:18.000',\n",
       "   'Historie:eindRegistratie': '2011-06-15T11:25:38.000',\n",
       "   'Historie:beginGeldigheid': '2010-12-20',\n",
       "   'Historie:eindGeldigheid': '2011-06-15',\n",
       "   'Historie:BeschikbaarLVInOnderzoek': {'Historie:tijdstipRegistratieLV': '2011-01-28T20:30:29.943',\n",
       "    'Historie:tijdstipEindRegistratieLV': '2011-06-15T11:31:46.872'}}}}"
      ]
     },
     "execution_count": 21,
     "metadata": {},
     "output_type": "execute_result"
    }
   ],
   "source": [
    "res[0].get('sl-bag-extract:bagStand').get('sl:standBestand').get('sl:stand')[0].get('sl-bag-extract:kenmerkInOnderzoek').get('KenmerkInOnderzoek:KenmerkVerblijfsobjectInOnderzoek')"
   ]
  },
  {
   "cell_type": "code",
   "execution_count": 26,
   "metadata": {},
   "outputs": [
    {
     "data": {
      "text/plain": [
       "{'sl-bag-extract:bagStand': {'@xmlns:DatatypenNEN3610': 'www.kadaster.nl/schemas/lvbag/imbag/datatypennen3610/v20200601',\n",
       "  '@xmlns:Objecten': 'www.kadaster.nl/schemas/lvbag/imbag/objecten/v20200601',\n",
       "  '@xmlns:gml': 'http://www.opengis.net/gml/3.2',\n",
       "  '@xmlns:Historie': 'www.kadaster.nl/schemas/lvbag/imbag/historie/v20200601',\n",
       "  '@xmlns:Objecten-ref': 'www.kadaster.nl/schemas/lvbag/imbag/objecten-ref/v20200601',\n",
       "  '@xmlns:nen5825': 'www.kadaster.nl/schemas/lvbag/imbag/nen5825/v20200601',\n",
       "  '@xmlns:KenmerkInOnderzoek': 'www.kadaster.nl/schemas/lvbag/imbag/kenmerkinonderzoek/v20200601',\n",
       "  '@xmlns:selecties-extract': 'http://www.kadaster.nl/schemas/lvbag/extract-selecties/v20200601',\n",
       "  '@xmlns:sl-bag-extract': 'http://www.kadaster.nl/schemas/lvbag/extract-deelbestand-lvc/v20200601',\n",
       "  '@xmlns:sl': 'http://www.kadaster.nl/schemas/standlevering-generiek/1.0',\n",
       "  '@xmlns:xsi': 'http://www.w3.org/2001/XMLSchema-instance',\n",
       "  '@xmlns:xs': 'http://www.w3.org/2001/XMLSchema',\n",
       "  '@xsi:schemaLocation': 'http://www.kadaster.nl/schemas/lvbag/extract-deelbestand-lvc/v20200601 http://www.kadaster.nl/schemas/bag-verstrekkingen/extract-deelbestand-lvc/v20200601/BagvsExtractDeelbestandExtractLvc-2.1.0.xsd',\n",
       "  'sl-bag-extract:bagInfo': {'selecties-extract:Gebied-Registratief': {'selecties-extract:Gebied-GEM': {'selecties-extract:GemeenteCollectie': {'selecties-extract:Gemeente': {'selecties-extract:GemeenteIdentificatie': '0518'}}}},\n",
       "   'selecties-extract:LVC-Extract': {'selecties-extract:StandTechnischeDatum': '2020-12-15'}},\n",
       "  'sl:standBestand': {'sl:dataset': 'LVBAG',\n",
       "   'sl:inhoud': {'sl:gebied': 'GEMEENTE',\n",
       "    'sl:leveringsId': '0000000001',\n",
       "    'sl:objectTypen': {'sl:objectType': 'WPL'}}}}}"
      ]
     },
     "execution_count": 26,
     "metadata": {},
     "output_type": "execute_result"
    }
   ],
   "source": [
    "with open('BAGGEM0518L-15122020/0518GEM15122020/0518InOnderzoek15122020/0518IOWPL15122020/0518IOWPL15122020-000001.xml') as xml_file:\n",
    "    data_dict = xmltodict.parse(xml_file.read())\n",
    "\n",
    "json_data = json.dumps(data_dict)\n",
    "res= json.loads(json_data)\n",
    "res"
   ]
  },
  {
   "cell_type": "code",
   "execution_count": 27,
   "metadata": {},
   "outputs": [
    {
     "data": {
      "text/plain": [
       "{'sl-bag-extract:bagStand': {'@xmlns:DatatypenNEN3610': 'www.kadaster.nl/schemas/lvbag/imbag/datatypennen3610/v20200601',\n",
       "  '@xmlns:Objecten': 'www.kadaster.nl/schemas/lvbag/imbag/objecten/v20200601',\n",
       "  '@xmlns:gml': 'http://www.opengis.net/gml/3.2',\n",
       "  '@xmlns:Historie': 'www.kadaster.nl/schemas/lvbag/imbag/historie/v20200601',\n",
       "  '@xmlns:Objecten-ref': 'www.kadaster.nl/schemas/lvbag/imbag/objecten-ref/v20200601',\n",
       "  '@xmlns:nen5825': 'www.kadaster.nl/schemas/lvbag/imbag/nen5825/v20200601',\n",
       "  '@xmlns:KenmerkInOnderzoek': 'www.kadaster.nl/schemas/lvbag/imbag/kenmerkinonderzoek/v20200601',\n",
       "  '@xmlns:selecties-extract': 'http://www.kadaster.nl/schemas/lvbag/extract-selecties/v20200601',\n",
       "  '@xmlns:sl-bag-extract': 'http://www.kadaster.nl/schemas/lvbag/extract-deelbestand-lvc/v20200601',\n",
       "  '@xmlns:sl': 'http://www.kadaster.nl/schemas/standlevering-generiek/1.0',\n",
       "  '@xmlns:xsi': 'http://www.w3.org/2001/XMLSchema-instance',\n",
       "  '@xmlns:xs': 'http://www.w3.org/2001/XMLSchema',\n",
       "  '@xsi:schemaLocation': 'http://www.kadaster.nl/schemas/lvbag/extract-deelbestand-lvc/v20200601 http://www.kadaster.nl/schemas/bag-verstrekkingen/extract-deelbestand-lvc/v20200601/BagvsExtractDeelbestandExtractLvc-2.1.0.xsd',\n",
       "  'sl-bag-extract:bagInfo': {'selecties-extract:Gebied-Registratief': {'selecties-extract:Gebied-GEM': {'selecties-extract:GemeenteCollectie': {'selecties-extract:Gemeente': {'selecties-extract:GemeenteIdentificatie': '0518'}}}},\n",
       "   'selecties-extract:LVC-Extract': {'selecties-extract:StandTechnischeDatum': '2020-12-15'}},\n",
       "  'sl:standBestand': {'sl:dataset': 'LVBAG',\n",
       "   'sl:inhoud': {'sl:gebied': 'GEMEENTE',\n",
       "    'sl:leveringsId': '0000000001',\n",
       "    'sl:objectTypen': {'sl:objectType': 'STA'}}}}}"
      ]
     },
     "execution_count": 27,
     "metadata": {},
     "output_type": "execute_result"
    }
   ],
   "source": [
    "with open('BAGGEM0518L-15122020/0518GEM15122020/0518InOnderzoek15122020/0518IOSTA15122020/0518IOSTA15122020-000001.xml') as xml_file:\n",
    "    data_dict = xmltodict.parse(xml_file.read())\n",
    "\n",
    "json_data = json.dumps(data_dict)\n",
    "res= json.loads(json_data)\n",
    "res"
   ]
  },
  {
   "cell_type": "code",
   "execution_count": 29,
   "metadata": {},
   "outputs": [],
   "source": [
    "with open('BAGGEM0518L-15122020/0518GEM15122020/0518InOnderzoek15122020/0518IOPND15122020/0518IOPND15122020-000001.xml') as xml_file:\n",
    "    data_dict = xmltodict.parse(xml_file.read())\n",
    "\n",
    "json_data = json.dumps(data_dict)\n",
    "res= json.loads(json_data)"
   ]
  },
  {
   "cell_type": "code",
   "execution_count": 38,
   "metadata": {},
   "outputs": [
    {
     "data": {
      "text/plain": [
       "{'KenmerkInOnderzoek:KenmerkPandInOnderzoek': {'KenmerkInOnderzoek:kenmerk': 'status',\n",
       "  'KenmerkInOnderzoek:identificatieVanPand': {'@domein': 'NL.IMBAG.Pand',\n",
       "   '#text': '0518100000203191'},\n",
       "  'KenmerkInOnderzoek:inOnderzoek': 'J',\n",
       "  'KenmerkInOnderzoek:documentdatum': '2017-11-02',\n",
       "  'KenmerkInOnderzoek:documentnummer': 'VMG20170161',\n",
       "  'KenmerkInOnderzoek:historieInOnderzoek': {'Historie:HistorieInOnderzoek': {'Historie:tijdstipRegistratie': '2017-11-02T16:45:00.000',\n",
       "    'Historie:eindRegistratie': '2017-12-21T09:24:17.000',\n",
       "    'Historie:beginGeldigheid': '2017-11-02',\n",
       "    'Historie:eindGeldigheid': '2017-12-21',\n",
       "    'Historie:BeschikbaarLVInOnderzoek': {'Historie:tijdstipRegistratieLV': '2017-11-02T17:00:55.373',\n",
       "     'Historie:tijdstipEindRegistratieLV': '2017-12-21T09:31:02.104'}}}}}"
      ]
     },
     "execution_count": 38,
     "metadata": {},
     "output_type": "execute_result"
    }
   ],
   "source": [
    "res.get('sl-bag-extract:bagStand').get('sl:standBestand').get('sl:stand')[0].get('sl-bag-extract:kenmerkInOnderzoek')"
   ]
  },
  {
   "cell_type": "code",
   "execution_count": 41,
   "metadata": {},
   "outputs": [],
   "source": [
    "with open('BAGGEM0518L-15122020/0518GEM15122020/0518InOnderzoek15122020/0518IOOPR15122020/0518IOOPR15122020-000001.xml') as xml_file:\n",
    "    data_dict = xmltodict.parse(xml_file.read())\n",
    "\n",
    "json_data = json.dumps(data_dict)\n",
    "res= json.loads(json_data)"
   ]
  },
  {
   "cell_type": "code",
   "execution_count": 50,
   "metadata": {},
   "outputs": [
    {
     "data": {
      "text/plain": [
       "{'sl-bag-extract:kenmerkInOnderzoek': {'KenmerkInOnderzoek:KenmerkOpenbareruimteInOnderzoek': {'KenmerkInOnderzoek:kenmerk': 'naam',\n",
       "   'KenmerkInOnderzoek:identificatieVanOpenbareruimte': {'@domein': 'NL.IMBAG.Openbareruimte',\n",
       "    '#text': '0518300001659034'},\n",
       "   'KenmerkInOnderzoek:inOnderzoek': 'J',\n",
       "   'KenmerkInOnderzoek:documentdatum': '2014-03-18',\n",
       "   'KenmerkInOnderzoek:documentnummer': 'VMG20140234',\n",
       "   'KenmerkInOnderzoek:historieInOnderzoek': {'Historie:HistorieInOnderzoek': {'Historie:tijdstipRegistratie': '2014-03-18T13:28:14.000',\n",
       "     'Historie:eindRegistratie': '2014-04-23T10:42:32.000',\n",
       "     'Historie:beginGeldigheid': '2014-03-18',\n",
       "     'Historie:eindGeldigheid': '2014-04-08',\n",
       "     'Historie:BeschikbaarLVInOnderzoek': {'Historie:tijdstipRegistratieLV': '2014-03-18T13:35:33.095',\n",
       "      'Historie:tijdstipEindRegistratieLV': '2014-04-23T11:04:42.089'}}}}}}"
      ]
     },
     "execution_count": 50,
     "metadata": {},
     "output_type": "execute_result"
    }
   ],
   "source": [
    "res.get('sl-bag-extract:bagStand').get('sl:standBestand').get('sl:stand')[0]"
   ]
  },
  {
   "cell_type": "code",
   "execution_count": 51,
   "metadata": {},
   "outputs": [],
   "source": [
    "foldername = \"BAGGEM0518L-15122020/0518GEM15122020/0518InOnderzoek15122020/0518IONUM15122020/\"\n",
    "files = [file for file in glob.glob(f\"{foldername}/*.xml\")]"
   ]
  },
  {
   "cell_type": "code",
   "execution_count": 52,
   "metadata": {},
   "outputs": [
    {
     "name": "stderr",
     "output_type": "stream",
     "text": [
      "100%|████████████████████████████████████████████████████████████████████████████████████| 5/5 [00:04<00:00,  1.04it/s]\n"
     ]
    }
   ],
   "source": [
    "res = []\n",
    "for file in tqdm(files, total=len(files)):\n",
    "    with open(file) as xml_file:\n",
    "        data_dict = xmltodict.parse(xml_file.read())\n",
    "    \n",
    "    json_data = json.dumps(data_dict)\n",
    "    res.append(json.loads(json_data))"
   ]
  },
  {
   "cell_type": "code",
   "execution_count": 60,
   "metadata": {},
   "outputs": [
    {
     "data": {
      "text/plain": [
       "{'KenmerkInOnderzoek:KenmerkNummeraanduidingInOnderzoek': {'KenmerkInOnderzoek:kenmerk': 'huisnummer',\n",
       "  'KenmerkInOnderzoek:identificatieVanNummeraanduiding': {'@domein': 'NL.IMBAG.Nummeraanduiding',\n",
       "   '#text': '0518200000355792'},\n",
       "  'KenmerkInOnderzoek:inOnderzoek': 'J',\n",
       "  'KenmerkInOnderzoek:documentdatum': '2012-10-31',\n",
       "  'KenmerkInOnderzoek:documentnummer': 'PVC001070',\n",
       "  'KenmerkInOnderzoek:historieInOnderzoek': {'Historie:HistorieInOnderzoek': {'Historie:tijdstipRegistratie': '2012-10-31T10:24:54.000',\n",
       "    'Historie:beginGeldigheid': '2012-10-31',\n",
       "    'Historie:BeschikbaarLVInOnderzoek': {'Historie:tijdstipRegistratieLV': '2012-10-31T10:45:34.289'}}}}}"
      ]
     },
     "execution_count": 60,
     "metadata": {},
     "output_type": "execute_result"
    }
   ],
   "source": [
    "res[0].get('sl-bag-extract:bagStand').get('sl:standBestand').get('sl:stand')[0].get('sl-bag-extract:kenmerkInOnderzoek')"
   ]
  },
  {
   "cell_type": "code",
   "execution_count": 61,
   "metadata": {},
   "outputs": [],
   "source": [
    "with open('BAGGEM0518L-15122020/0518GEM15122020/0518InOnderzoek15122020/0518IOLIG15122020/0518IOLIG15122020-000001.xml') as xml_file:\n",
    "    data_dict = xmltodict.parse(xml_file.read())\n",
    "\n",
    "json_data = json.dumps(data_dict)\n",
    "res= json.loads(json_data)"
   ]
  },
  {
   "cell_type": "code",
   "execution_count": 65,
   "metadata": {},
   "outputs": [
    {
     "data": {
      "text/plain": [
       "{'sl:dataset': 'LVBAG',\n",
       " 'sl:inhoud': {'sl:gebied': 'GEMEENTE',\n",
       "  'sl:leveringsId': '0000000001',\n",
       "  'sl:objectTypen': {'sl:objectType': 'LIG'}}}"
      ]
     },
     "execution_count": 65,
     "metadata": {},
     "output_type": "execute_result"
    }
   ],
   "source": [
    "res.get('sl-bag-extract:bagStand').get('sl:standBestand')"
   ]
  },
  {
   "cell_type": "markdown",
   "metadata": {},
   "source": [
    "# WPL"
   ]
  },
  {
   "cell_type": "code",
   "execution_count": 228,
   "metadata": {},
   "outputs": [],
   "source": [
    "with open('BAGGEM0518L-15122020/0518GEM15122020/0518WPL15122020/0518WPL15122020-000001.xml') as xml_file:\n",
    "    data_dict = xmltodict.parse(xml_file.read())\n",
    "\n",
    "json_data = json.dumps(data_dict)\n",
    "res= json.loads(json_data)"
   ]
  },
  {
   "cell_type": "code",
   "execution_count": 229,
   "metadata": {},
   "outputs": [],
   "source": [
    "a = res.get('sl-bag-extract:bagStand').get('sl:standBestand').get('sl:stand')[0].get('sl-bag-extract:bagObject').get('Objecten:Woonplaats')\n",
    "res_keys = {k:[] for k in a.keys()}\n",
    "k=0\n",
    "for i in range(len(res.get('sl-bag-extract:bagStand').get('sl:standBestand').get('sl:stand'))):\n",
    "    a = res.get('sl-bag-extract:bagStand').get('sl:standBestand').get('sl:stand')[i].get('sl-bag-extract:bagObject').get('Objecten:Woonplaats')\n",
    "    for index, key in enumerate(a.keys()):\n",
    "        try:\n",
    "            res_keys[key].append(a[key])\n",
    "        except:\n",
    "            issues.append(k)\n",
    "            continue"
   ]
  },
  {
   "cell_type": "code",
   "execution_count": 230,
   "metadata": {},
   "outputs": [],
   "source": [
    "df = pd.DataFrame(columns = list(res_keys.keys()))\n",
    "for index, key in enumerate(res_keys.keys()):\n",
    "    df[key] = res_keys[key]"
   ]
  },
  {
   "cell_type": "code",
   "execution_count": 231,
   "metadata": {},
   "outputs": [
    {
     "name": "stderr",
     "output_type": "stream",
     "text": [
      "100%|██████████████████████████████████████████████████████████████████████████████████| 2/2 [00:00<00:00, 1987.82it/s]\n"
     ]
    }
   ],
   "source": [
    "# keynames = list(df['Objecten:geometrie'][100].get('Objecten:punt').get(\"gml:Point\").keys())\n",
    "_keys = {k:[] for k in df['Objecten:geometrie'][0].get('Objecten:vlak').get('gml:Polygon').keys()}\n",
    "for i in tqdm(range(len(df)), total=len(df)):\n",
    "    for index, key in enumerate(_keys.keys()):\n",
    "        try:\n",
    "            _keys[key].append(df['Objecten:geometrie'][i].get('Objecten:vlak').get('gml:Polygon').get(key))\n",
    "        except:\n",
    "            _keys[key].append(None)"
   ]
  },
  {
   "cell_type": "code",
   "execution_count": 232,
   "metadata": {},
   "outputs": [],
   "source": [
    "new_keys = [f\"geometrie-{k}\" for k in _keys.keys()]\n",
    "for key,n_key in zip(_keys.keys(), new_keys):\n",
    "    _keys[n_key] = _keys.pop(key)"
   ]
  },
  {
   "cell_type": "code",
   "execution_count": 233,
   "metadata": {},
   "outputs": [],
   "source": [
    "geometries = pd.DataFrame(columns = _keys.keys())\n",
    "for index, key in enumerate(_keys.keys()):\n",
    "    geometries[key] = _keys[key]\n",
    "    \n",
    "df = pd.concat([df, geometries],axis=1)"
   ]
  },
  {
   "cell_type": "code",
   "execution_count": 234,
   "metadata": {},
   "outputs": [
    {
     "name": "stderr",
     "output_type": "stream",
     "text": [
      "100%|████████████████████████████████████████████████████████████████████████████████████████████| 2/2 [00:00<?, ?it/s]\n"
     ]
    }
   ],
   "source": [
    "# keynames = list(df['Objecten:geometrie'][100].get('Objecten:punt').get(\"gml:Point\").keys())\n",
    "_keys = {k:[] for k in df['Objecten:geometrie'][0].get('Objecten:vlak').get('gml:Polygon').get('gml:exterior').get('gml:LinearRing').get('gml:posList').keys()}\n",
    "for i in tqdm(range(len(df)), total=len(df)):\n",
    "    for index, key in enumerate(_keys.keys()):\n",
    "        try:\n",
    "            _keys[key].append(df['Objecten:geometrie'][i].get('Objecten:vlak').get('gml:Polygon').get('gml:exterior').get('gml:LinearRing').get('gml:posList').get(key))\n",
    "        except:\n",
    "            _keys[key].append(None)"
   ]
  },
  {
   "cell_type": "code",
   "execution_count": 235,
   "metadata": {},
   "outputs": [],
   "source": [
    "new_keys = [f\"geometrie-{k}\" for k in _keys.keys()]\n",
    "for key,n_key in zip(_keys.keys(), new_keys):\n",
    "    _keys[n_key] = _keys.pop(key)"
   ]
  },
  {
   "cell_type": "code",
   "execution_count": 236,
   "metadata": {},
   "outputs": [],
   "source": [
    "geometries = pd.DataFrame(columns = _keys.keys())\n",
    "for index, key in enumerate(_keys.keys()):\n",
    "    geometries[key] = _keys[key]\n",
    "    \n",
    "df = pd.concat([df, geometries],axis=1)"
   ]
  },
  {
   "cell_type": "code",
   "execution_count": 237,
   "metadata": {},
   "outputs": [],
   "source": [
    "def to_polygon(row):\n",
    "    pointList = [f\"POINT({x})\" for x in re.split(r'(.*?\\s.*?)\\s', row) if x]\n",
    "    pointList = [wkt.loads(i) for i in pointList]\n",
    "    return geometry.Polygon([[p.x, p.y] for p in pointList])"
   ]
  },
  {
   "cell_type": "code",
   "execution_count": 204,
   "metadata": {},
   "outputs": [],
   "source": [
    "df['geometrie-#text'] = df['geometrie-#text'].apply(lambda x: to_polygon(x))"
   ]
  },
  {
   "cell_type": "code",
   "execution_count": 205,
   "metadata": {},
   "outputs": [
    {
     "data": {
      "image/svg+xml": [
       "<svg xmlns=\"http://www.w3.org/2000/svg\" xmlns:xlink=\"http://www.w3.org/1999/xlink\" width=\"300\" height=\"300\" viewBox=\"71906.83784000001 447299.64284 17581.40531999999 14678.861320000025\" preserveAspectRatio=\"xMinYMin meet\"><g transform=\"matrix(1,0,0,-1,0,909278.147)\"><path fill-rule=\"evenodd\" fill=\"#66cc99\" stroke=\"#555555\" stroke-width=\"117.20936879999994\" opacity=\"0.6\" d=\"M 87383.246,452130.041 L 87400.642,452150.721 L 87405.008,452145.301 L 87418.138,452129.002 L 87473.654,452117.176 L 87475.981,452114.331 L 87547.83,452101.444 L 87546.329,452099.881 L 87578.315,452095.168 L 87624.617,452088.013 L 87625.709,452086.646 L 87637.218,452085.175 L 87675.201,452080.14 L 87688.933,452078.401 L 87698.627,452077.174 L 87771.139,452067.994 L 87815.356,452062.232 L 87860.445,452056.313 L 87911.999,452049.466 L 87912.076,452049.53 L 87913.179,452051.182 L 87929.016,452048.994 L 87926.474,452045.263 L 87948.41,452042.472 L 87956.066,452041.488 L 87998.499,452036.033 L 88049.705,452029.36 L 88055.787,452028.634 L 88056.416,452027.914 L 88062.089,452027.2 L 88065.204,452026.807 L 88066.758,452026.613 L 88068.91,452027.475 L 88069.169,452026.917 L 88074.932,452028.999 L 88074.677,452029.682 L 88077.462,452030.826 L 88077.57,452030.249 L 88078.302,452030.478 L 88079.229,452027.973 L 88078.422,452027.723 L 88079.26,452025.596 L 88078.63,452025.416 L 88078.794,452025.035 L 88079.915,452024.878 L 88083.141,452024.459 L 88101.344,452022.101 L 88101.159,452022.581 L 88126.082,452019.503 L 88171.607,452013.573 L 88241.397,452004.357 L 88294.48,451997.743 L 88303.954,451996.563 L 88298.747,451992.184 L 88296.822,451990.566 L 88328.024,451986.622 L 88396.096,451977.581 L 88474.342,451967.493 L 88529.755,451960.124 L 88622.149,451948.022 L 88714.073,451936.111 L 88796.136,451925.142 L 88800.301,451924.585 L 88787.043,451941.829 L 88785.703,451943.574 L 88778.858,451952.478 L 88757.328,451980.591 L 88756.826,451981.248 L 88751.895,451987.685 L 88750.127,451989.996 L 88705.675,452047.854 L 88638.127,452135.715 L 88572.324,452221.649 L 88505.567,452308.384 L 88441.034,452392.405 L 88340.641,452522.781 L 88339.003,452524.908 L 88341.472,452526.525 L 88349.24,452531.611 L 88350.87,452572.421 L 88399.674,452569.926 L 88399.809,452569.92 L 88390.92,452562.511 L 88493.429,452559.66 L 88634.907,452555.879 L 88637.809,452555.801 L 88678.14,452554.6 L 88700.109,452544.431 L 88709.37,452551.98 L 88713.35,452554.93 L 88763.809,452547.54 L 88822.93,452538.56 L 88825.86,452538.991 L 88827.609,452541.011 L 88837.08,452538.421 L 88835.603,452544.269 L 88830.914,452562.835 L 88829.653,452567.828 L 88827.164,452577.685 L 88825.701,452583.232 L 88819.262,452607.66 L 88811.274,452637.957 L 88810.834,452639.63 L 88799.449,452683.111 L 88798.055,452688.462 L 88778.988,452761.627 L 88759.222,452837.054 L 88759.32,452837.116 L 88758.526,452840.616 L 88745.334,452902.393 L 88727.629,452984.153 L 88717.535,453030.197 L 88708.756,453069.866 L 88707.685,453072.992 L 88703.629,453083.576 L 88702.683,453086.227 L 88702.086,453087.453 L 88701.413,453088.379 L 88700.239,453089.581 L 88698.99,453090.459 L 88697.767,453091.486 L 88696.444,453092.813 L 88695.67,453093.79 L 88694.923,453094.992 L 88694.124,453096.544 L 88694.911,453096.746 L 88695.694,453096.96 L 88696.474,453097.188 L 88697.249,453097.429 L 88698.02,453097.684 L 88698.787,453097.951 L 88699.549,453098.233 L 88700.305,453098.525 L 88701.058,453098.833 L 88701.804,453099.151 L 88702.545,453099.483 L 88703.195,453099.806 L 88703.837,453100.143 L 88704.472,453100.493 L 88705.1,453100.854 L 88705.72,453101.229 L 88706.333,453101.618 L 88706.937,453102.016 L 88707.535,453102.429 L 88708.123,453102.852 L 88708.703,453103.287 L 88709.273,453103.735 L 88709.835,453104.193 L 88710.387,453104.662 L 88710.93,453105.144 L 88711.463,453105.636 L 88711.986,453106.137 L 88712.655,453106.925 L 88713.313,453107.724 L 88713.96,453108.53 L 88714.595,453109.348 L 88715.218,453110.172 L 88715.828,453111.007 L 88716.427,453111.849 L 88717.014,453112.701 L 88717.589,453113.561 L 88718.152,453114.428 L 88718.702,453115.305 L 88719.335,453116.335 L 88719.956,453117.372 L 88720.565,453118.415 L 88721.163,453119.466 L 88721.749,453120.522 L 88722.324,453121.586 L 88722.886,453122.655 L 88723.437,453123.732 L 88723.975,453124.813 L 88724.5,453125.902 L 88725.015,453126.995 L 88725.517,453128.096 L 88725.783,453128.824 L 88726.035,453129.555 L 88726.272,453130.293 L 88726.497,453131.035 L 88726.708,453131.779 L 88726.905,453132.529 L 88727.088,453133.282 L 88727.256,453134.039 L 88727.41,453134.798 L 88727.551,453135.559 L 88727.676,453136.323 L 88727.788,453137.091 L 88731.408,453139.133 L 88728.92,453177.679 L 88727.93,453203.37 L 88726.77,453220.639 L 88724.86,453230.809 L 88722.98,453236.629 L 88718.67,453244.069 L 88669.18,453311.449 L 88638.97,453349.739 L 88590.894,453413.204 L 88577.019,453431.52 L 88539.19,453482.73 L 88490.719,453547.55 L 88484.57,453557.01 L 88479.77,453565.939 L 88472.14,453582.809 L 88466.09,453598.31 L 88444.86,453645.61 L 88435.19,453664.72 L 88418.56,453697.399 L 88410.199,453713.11 L 88382.374,453761.298 L 88382.05,453761.86 L 88353.35,453807.389 L 88338.029,453832.68 L 88311.179,453879.51 L 88282.46,453930.259 L 88269.845,453953.806 L 88248.279,453994.06 L 88220.0,454043.03 L 88169.839,454136.82 L 88152.94,454165.399 L 88143.865,454186.599 L 88136.499,454203.81 L 88134.572,454206.518 L 88125.509,454219.259 L 88026.715,454342.351 L 87989.18,454389.119 L 87908.384,454489.891 L 87897.039,454504.04 L 87739.719,454700.13 L 87700.174,454750.216 L 87698.49,454752.35 L 87689.29,454764.22 L 87687.841,454766.007 L 87678.628,454758.744 L 87672.659,454754.038 L 87665.592,454761.952 L 87659.142,454769.173 L 87656.293,454772.365 L 87654.557,454774.306 L 87650.658,454778.673 L 87645.637,454784.297 L 87645.629,454784.304 L 87643.852,454786.138 L 87640.545,454790.847 L 87639.798,454792.175 L 87638.762,454794.221 L 87638.079,454795.849 L 87638.051,454795.826 L 87623.374,454813.915 L 87615.152,454825.133 L 87605.447,454838.339 L 87594.929,454852.982 L 87589.595,454848.18 L 87562.725,454823.99 L 87521.35,454787.058 L 87431.908,454713.976 L 87419.28,454728.487 L 87386.975,454696.567 L 87395.251,454687.488 L 87334.025,454644.783 L 87285.0,454610.773 L 87206.49,454560.848 L 87169.328,454537.216 L 87121.984,454516.461 L 87107.999,454532.0 L 87078.0,454544.0 L 87027.494,454561.637 L 87001.486,454591.752 L 86954.342,454646.015 L 86910.191,454597.235 L 86848.831,454562.768 L 86806.997,454539.268 L 86767.146,454516.884 L 86739.389,454501.292 L 86728.356,454492.798 L 86675.63,454452.201 L 86674.347,454450.958 L 86673.396,454449.933 L 86672.722,454449.026 L 86672.171,454448.04 L 86671.803,454447.349 L 86671.632,454446.554 L 86671.767,454444.999 L 86671.939,454443.918 L 86672.289,454442.96 L 86683.753,454428.209 L 86687.966,454422.787 L 86687.956,454422.388 L 86687.565,454421.772 L 86687.152,454421.233 L 86686.13,454420.434 L 86617.653,454369.72 L 86616.94,454369.37 L 86616.308,454369.263 L 86615.478,454369.281 L 86614.741,454369.38 L 86610.925,454370.622 L 86607.536,454371.741 L 86602.529,454374.253 L 86599.592,454372.147 L 86590.525,454365.643 L 86588.058,454363.874 L 86584.074,454361.016 L 86560.449,454344.07 L 86556.38,454347.505 L 86554.979,454345.03 L 86552.34,454340.362 L 86552.129,454339.989 L 86540.564,454325.312 L 86539.639,454326.06 L 86530.047,454333.822 L 86525.975,454338.828 L 86524.531,454339.72 L 86522.798,454339.882 L 86521.874,454340.377 L 86512.254,454351.583 L 86508.971,454355.394 L 86506.681,454357.169 L 86501.801,454363.141 L 86457.481,454416.705 L 86444.073,454434.27 L 86426.608,454459.12 L 86410.626,454481.862 L 86397.93,454501.374 L 86387.528,454516.571 L 86363.353,454554.464 L 86336.857,454594.497 L 86310.716,454632.995 L 86288.509,454662.95 L 86286.867,454665.124 L 86279.103,454675.41 L 86266.669,454691.89 L 86198.95,454656.828 L 86155.776,454633.929 L 86124.912,454617.427 L 86116.503,454612.825 L 86095.813,454600.062 L 86049.442,454574.864 L 86047.335,454574.065 L 86019.092,454563.249 L 86008.093,454559.2 L 85999.263,454555.754 L 85989.42,454551.216 L 85981.042,454547.326 L 85970.983,454541.833 L 85956.052,454533.871 L 85949.941,454530.56 L 85940.831,454522.57 L 85921.125,454504.894 L 85898.135,454483.79 L 85873.243,454460.28 L 85842.66,454431.457 L 85817.476,454407.216 L 85803.12,454393.525 L 85801.222,454391.714 L 85790.655,454381.751 L 85776.205,454368.179 L 85763.043,454355.774 L 85760.17,454353.281 L 85753.995,454348.79 L 85749.657,454345.55 L 85744.658,454341.779 L 85732.199,454330.009 L 85723.617,454321.123 L 85719.17,454316.167 L 85709.995,454305.586 L 85693.868,454287.023 L 85684.283,454277.799 L 85665.36,454259.296 L 85639.109,454234.645 L 85612.885,454210.143 L 85585.668,454184.077 L 85553.733,454153.283 L 85511.037,454112.904 L 85457.082,454063.243 L 85408.859,454017.472 L 85356.373,453966.096 L 85354.038,453963.827 L 85347.818,453957.235 L 85335.843,453944.546 L 85260.558,453874.779 L 85239.418,453855.891 L 85225.718,453844.297 L 85210.258,453830.844 L 85165.725,453790.537 L 85135.206,453760.664 L 85120.045,453745.691 L 85115.279,453741.71 L 85100.642,453729.392 L 85053.725,453685.135 L 85030.532,453662.867 L 85015.733,453647.579 L 84999.823,453631.394 L 84988.737,453621.778 L 84980.286,453617.167 L 84974.898,453612.994 L 84955.191,453599.67 L 84942.06,453591.61 L 84902.599,453567.394 L 84869.566,453534.369 L 84817.533,453470.635 L 84816.951,453469.895 L 84813.81,453465.126 L 84813.247,453464.315 L 84810.488,453461.667 L 84807.521,453458.666 L 84789.883,453440.423 L 84782.746,453433.08 L 84778.419,453428.612 L 84773.379,453423.341 L 84769.0,453418.785 L 84763.955,453413.834 L 84758.455,453408.523 L 84745.816,453397.511 L 84736.589,453389.313 L 84730.958,453384.583 L 84726.057,453380.849 L 84721.085,453377.082 L 84705.97,453366.499 L 84697.33,453360.549 L 84679.346,453347.602 L 84666.525,453338.441 L 84645.838,453324.083 L 84637.635,453318.651 L 84625.368,453310.593 L 84613.201,453302.889 L 84602.647,453296.404 L 84589.091,453288.03 L 84529.062,453248.866 L 84518.915,453242.087 L 84513.255,453238.292 L 84468.959,453209.911 L 84458.74,453203.449 L 84442.493,453192.816 L 84410.036,453171.306 L 84397.052,453162.657 L 84383.208,453153.914 L 84364.46,453141.916 L 84358.452,453138.148 L 84344.879,453129.696 L 84341.992,453127.681 L 84330.695,453119.566 L 84308.958,453103.695 L 84306.647,453102.035 L 84306.138,453101.671 L 84301.741,453098.834 L 84295.654,453094.759 L 84284.901,453087.626 L 84299.239,453071.895 L 84299.514,453071.593 L 84326.755,453041.707 L 84359.501,453003.971 L 84422.501,452931.394 L 84427.503,452925.796 L 84443.094,452909.872 L 84475.663,452872.339 L 84509.706,452833.029 L 84540.244,452796.891 L 84544.969,452791.241 L 84567.712,452764.048 L 84570.468,452760.752 L 84571.273,452761.246 L 84581.795,452770.454 L 84587.259,452764.244 L 84610.204,452738.169 L 84597.282,452727.103 L 84584.219,452715.917 L 84562.038,452742.503 L 84558.203,452739.155 L 84529.184,452713.818 L 84524.117,452709.393 L 84550.549,452678.875 L 84540.02,452669.593 L 84533.172,452663.557 L 84526.4,452657.589 L 84513.646,452646.346 L 84539.659,452616.543 L 84525.968,452604.451 L 84525.427,452605.063 L 84515.518,452596.179 L 84498.907,452615.121 L 84481.003,452597.594 L 84469.469,452586.303 L 84461.182,452578.192 L 84454.062,452571.22 L 84440.302,452586.708 L 84429.389,452575.563 L 84429.361,452575.537 L 84427.0,452573.065 L 84424.101,452570.032 L 84396.046,452540.677 L 84394.229,452530.336 L 84392.594,452526.166 L 84389.812,452520.918 L 84385.764,452513.286 L 84385.742,452512.237 L 84386.109,452511.176 L 84386.839,452510.336 L 84377.24,452501.901 L 84373.46,452498.124 L 84372.18,452497.695 L 84368.314,452495.277 L 84360.395,452503.484 L 84383.745,452527.809 L 84384.227,452528.311 L 84377.393,452535.875 L 84376.6,452536.755 L 84375.374,452535.483 L 84352.98,452560.969 L 84354.12,452561.972 L 84346.005,452570.975 L 84344.96,452570.057 L 84329.468,452587.636 L 84328.383,452586.671 L 84318.219,452601.667 L 84318.2,452601.689 L 84309.804,452611.233 L 84293.336,452629.953 L 84285.311,452639.076 L 84269.682,452656.742 L 84261.244,452666.282 L 84256.01,452672.199 L 84252.994,452675.655 L 84244.978,452684.837 L 84236.768,452694.243 L 84228.225,452703.9 L 84219.916,452713.292 L 84219.797,452713.425 L 84205.7,452729.413 L 84201.095,452734.636 L 84186.812,452750.831 L 84186.723,452750.933 L 84178.136,452760.697 L 84168.919,452771.178 L 84141.356,452802.521 L 84139.116,452805.068 L 84138.029,452806.306 L 84113.835,452784.35 L 84095.515,452767.727 L 84068.524,452796.939 L 84069.425,452797.703 L 84068.412,452798.891 L 84066.176,452801.511 L 84066.134,452801.56 L 84040.908,452831.456 L 84039.36,452833.486 L 84025.701,452849.477 L 84006.303,452826.56 L 83977.374,452791.621 L 83967.873,452780.453 L 83950.472,452760.948 L 83933.361,452742.186 L 83912.379,452719.251 L 83887.963,452692.191 L 83870.4,452672.443 L 83861.788,452662.676 L 83859.63,452660.179 L 83856.476,452657.098 L 83833.268,452635.279 L 83810.807,452614.637 L 83785.58,452591.604 L 83769.304,452576.412 L 83765.674,452572.545 L 83757.742,452563.625 L 83748.572,452553.478 L 83745.512,452550.172 L 83745.188,452549.823 L 83738.066,452543.835 L 83732.771,452539.195 L 83727.731,452531.488 L 83712.974,452552.345 L 83711.141,452554.968 L 83690.056,452585.135 L 83688.601,452585.546 L 83683.397,452593.279 L 83664.129,452621.504 L 83640.729,452655.836 L 83622.23,452682.692 L 83605.616,452707.136 L 83590.956,452728.829 L 83578.705,452746.943 L 83550.487,452788.935 L 83533.166,452814.588 L 83503.619,452868.856 L 83474.565,452899.069 L 83468.333,452894.7 L 83467.045,452893.799 L 83459.457,452901.669 L 83450.885,452911.731 L 83442.907,452921.401 L 83439.029,452926.518 L 83430.918,452937.615 L 83423.699,452947.475 L 83416.133,452957.5 L 83410.278,452964.892 L 83401.109,452976.133 L 83394.689,452983.773 L 83386.76,452994.389 L 83381.92,452998.345 L 83380.154,453001.289 L 83372.25,453010.849 L 83359.299,453026.539 L 83348.568,453039.116 L 83336.847,453053.01 L 83365.032,453075.408 L 83387.95,453093.315 L 83390.972,453095.675 L 83391.944,453094.531 L 83392.419,453094.728 L 83394.584,453096.209 L 83411.582,453108.331 L 83429.891,453121.706 L 83445.329,453132.954 L 83453.882,453139.32 L 83461.372,453145.147 L 83491.925,453169.172 L 83497.686,453173.781 L 83499.28,453175.057 L 83500.859,453176.319 L 83510.39,453184.092 L 83518.412,453187.611 L 83522.788,453190.925 L 83523.872,453191.747 L 83529.557,453196.052 L 83584.304,453237.251 L 83629.32,453271.018 L 83632.579,453273.496 L 83635.711,453275.977 L 83644.651,453283.571 L 83656.263,453293.299 L 83662.385,453298.367 L 83679.003,453311.826 L 83687.434,453318.975 L 83695.66,453326.062 L 83724.757,453351.336 L 83737.847,453362.799 L 83738.845,453364.048 L 83739.73,453365.401 L 83740.22,453366.581 L 83740.572,453367.939 L 83740.715,453369.202 L 83740.69,453370.525 L 83740.453,453372.004 L 83738.178,453379.225 L 83737.989,453380.143 L 83737.963,453380.967 L 83738.041,453381.9 L 83738.281,453382.829 L 83738.724,453383.819 L 83739.372,453384.618 L 83742.754,453387.596 L 83771.138,453411.991 L 83771.543,453412.452 L 83771.728,453412.997 L 83771.545,453415.731 L 83773.439,453417.531 L 83776.356,453416.85 L 83776.626,453416.865 L 83777.369,453417.456 L 83827.647,453460.836 L 83852.465,453482.331 L 83861.129,453489.999 L 83887.185,453512.174 L 83904.644,453527.545 L 83911.903,453533.719 L 83917.401,453538.288 L 83923.137,453542.663 L 83927.224,453545.702 L 83931.239,453548.502 L 83945.653,453557.745 L 83952.171,453562.08 L 83974.753,453577.491 L 83978.251,453579.915 L 83979.004,453580.437 L 83980.315,453581.516 L 83981.128,453582.222 L 83987.516,453588.087 L 83990.873,453590.881 L 84003.888,453601.422 L 84007.51,453604.342 L 84007.698,453604.892 L 84007.509,453605.915 L 84007.053,453607.056 L 84006.567,453607.845 L 84009.155,453609.995 L 84010.847,453608.869 L 84011.202,453608.697 L 84011.486,453608.663 L 84011.872,453608.881 L 84015.95,453611.915 L 84019.837,453614.856 L 84023.794,453617.906 L 84038.767,453630.094 L 84042.424,453633.087 L 84043.89,453634.41 L 84050.494,453640.563 L 84050.462,453641.712 L 84050.712,453642.968 L 84051.174,453644.194 L 84051.691,453645.118 L 84052.283,453645.973 L 84053.481,453647.664 L 84056.736,453651.57 L 84059.194,453654.337 L 84060.992,453656.108 L 84062.25,453657.359 L 84063.137,453658.374 L 84064.268,453659.854 L 84066.403,453662.936 L 84067.359,453664.341 L 84068.559,453665.716 L 84071.718,453668.88 L 84074.266,453671.525 L 84076.69,453674.221 L 84078.518,453676.343 L 84080.1,453678.497 L 84081.647,453680.547 L 84083.216,453682.263 L 84084.315,453683.316 L 84086.064,453684.891 L 84088.077,453686.487 L 84091.262,453688.927 L 84097.458,453693.699 L 84124.814,453714.705 L 84130.047,453718.765 L 84134.019,453721.845 L 84145.246,453730.922 L 84160.366,453743.107 L 84176.319,453756.256 L 84180.831,453759.913 L 84185.872,453763.823 L 84189.093,453766.264 L 84190.37,453767.179 L 84189.616,453768.231 L 84190.651,453768.896 L 84191.459,453767.723 L 84195.231,453769.869 L 84201.708,453773.354 L 84209.223,453777.259 L 84216.614,453781.118 L 84228.955,453787.385 L 84228.771,453788.019 L 84228.783,453788.567 L 84229.004,453789.187 L 84229.353,453789.615 L 84229.968,453789.889 L 84231.065,453789.654 L 84228.184,453791.278 L 84232.061,453793.567 L 84240.631,453798.646 L 84243.162,453800.145 L 84245.391,453801.321 L 84248.451,453802.522 L 84261.365,453808.159 L 84253.59,453812.496 L 84254.669,453813.29 L 84187.92,453851.244 L 84171.982,453860.406 L 84147.011,453874.757 L 84098.575,453902.279 L 84097.548,453901.712 L 84056.127,453925.405 L 84050.184,453928.803 L 83986.601,453965.194 L 83984.945,453963.831 L 83967.132,453974.112 L 83894.577,454015.63 L 83891.742,454017.253 L 83890.782,454018.78 L 83865.643,454033.274 L 83862.091,454035.299 L 83834.333,454051.126 L 83824.109,454057.028 L 83810.164,454065.075 L 83800.309,454070.764 L 83754.215,454097.124 L 83753.986,454098.343 L 83734.974,454109.328 L 83657.97,454153.449 L 83618.656,454176.066 L 83576.589,454200.094 L 83528.11,454228.048 L 83531.467,454229.725 L 83527.192,454232.05 L 83500.562,454247.31 L 83442.456,454280.432 L 83419.801,454293.411 L 83398.709,454305.493 L 83345.131,454336.12 L 83298.798,454362.797 L 83269.507,454379.54 L 83267.167,454387.758 L 83263.608,454400.273 L 83261.778,454399.418 L 83259.347,454407.971 L 83258.618,454410.83 L 83252.578,454420.705 L 83249.686,454424.244 L 83245.827,454428.968 L 83243.232,454427.828 L 83217.248,454416.402 L 83210.36,454413.373 L 83204.367,454416.803 L 83156.933,454444.023 L 83091.708,454481.423 L 83051.989,454504.208 L 83051.147,454503.781 L 83023.462,454519.619 L 83023.582,454519.867 L 83002.274,454532.101 L 82959.522,454556.682 L 82957.416,454555.557 L 82937.689,454566.929 L 82925.586,454573.859 L 82926.76,454574.698 L 82898.69,454590.912 L 82899.151,454591.628 L 82880.382,454602.509 L 82903.368,454618.585 L 82956.167,454655.287 L 82999.798,454685.78 L 83013.204,454695.115 L 83014.072,454695.717 L 83018.224,454698.633 L 83049.003,454720.242 L 83056.734,454725.649 L 83057.906,454726.469 L 83085.408,454745.706 L 83093.667,454751.483 L 83130.795,454777.28 L 83147.656,454789.046 L 83152.647,454782.076 L 83168.456,454773.208 L 83212.058,454803.703 L 83265.117,454840.633 L 83275.948,454848.22 L 83307.765,454861.777 L 83325.229,454869.359 L 83335.951,454876.84 L 83360.257,454893.602 L 83395.656,454918.445 L 83436.472,454946.884 L 83482.327,454978.59 L 83520.206,455004.902 L 83552.77,455027.489 L 83571.359,455040.394 L 83591.081,455054.089 L 83565.519,455091.178 L 83570.809,455094.638 L 83575.208,455097.568 L 83577.166,455098.872 L 83574.991,455102.025 L 83591.674,455113.133 L 83591.815,455112.924 L 83596.87,455105.428 L 83604.944,455111.106 L 83647.038,455140.7 L 83679.061,455163.022 L 83683.438,455166.073 L 83686.284,455162.226 L 83699.666,455144.139 L 83700.633,455144.88 L 83704.606,455147.926 L 83704.979,455147.268 L 83704.935,455153.9 L 83704.769,455178.171 L 83714.976,455185.308 L 83737.805,455201.271 L 83772.985,455225.933 L 83817.938,455257.242 L 83845.765,455276.538 L 83844.105,455278.763 L 83899.562,455317.489 L 83905.699,455321.782 L 83906.463,455322.317 L 83919.798,455331.645 L 83920.995,455332.482 L 83933.312,455341.099 L 83984.386,455376.746 L 84037.104,455413.996 L 84037.453,455413.502 L 84096.665,455454.869 L 84127.865,455476.57 L 84141.58,455486.11 L 84195.681,455523.906 L 84242.757,455556.683 L 84280.083,455582.734 L 84308.928,455602.702 L 84341.27,455626.013 L 84348.864,455631.843 L 84361.995,455641.28 L 84367.181,455645.008 L 84374.793,455650.48 L 84376.162,455651.465 L 84376.641,455651.808 L 84389.61,455662.004 L 84391.692,455663.64 L 84398.199,455668.561 L 84399.082,455669.269 L 84401.25,455671.207 L 84409.888,455677.3 L 84439.467,455698.138 L 84466.102,455716.782 L 84504.167,455743.541 L 84504.718,455742.851 L 84521.361,455754.444 L 84573.254,455790.592 L 84610.328,455816.988 L 84653.958,455848.075 L 84697.612,455878.996 L 84739.72,455909.256 L 84777.949,455936.741 L 84807.935,455958.233 L 84860.609,455996.045 L 84891.83,456018.471 L 84936.744,456050.646 L 84964.396,456070.477 L 84971.614,456075.654 L 84999.967,456096.122 L 85025.885,456114.802 L 85044.681,456128.19 L 85084.559,456156.714 L 85113.31,456177.36 L 85122.39,456183.898 L 85133.279,456191.353 L 85133.849,456191.744 L 85170.633,456218.09 L 85236.964,456265.597 L 85240.513,456268.139 L 85246.129,456272.161 L 85325.765,456329.055 L 85373.649,456363.322 L 85406.233,456386.586 L 85454.097,456425.561 L 85474.723,456442.274 L 85532.891,456489.405 L 85527.617,456495.05 L 85527.492,456495.184 L 85526.544,456496.198 L 85508.637,456517.228 L 85506.297,456519.976 L 85484.594,456545.465 L 85462.92,456571.517 L 85448.032,456589.646 L 85444.535,456593.907 L 85435.662,456604.309 L 85424.378,456617.456 L 85406.275,456637.259 L 85398.114,456645.874 L 85394.963,456662.456 L 85399.252,456667.933 L 85410.298,456683.266 L 85412.354,456686.122 L 85442.329,456722.581 L 85473.168,456756.52 L 85480.416,456764.498 L 85481.564,456765.613 L 85459.851,456798.076 L 85455.109,456803.626 L 85424.797,456839.1 L 85383.138,456878.311 L 85359.629,456900.0 L 85329.46,456930.259 L 85302.933,456911.835 L 85300.0,456915.642 L 85278.118,456946.134 L 85256.747,456974.195 L 85230.515,457010.294 L 85213.392,457033.859 L 85202.236,457050.231 L 85189.634,457066.871 L 85166.59,457099.834 L 85164.41,457102.631 L 85161.71,457106.508 L 85157.599,457112.324 L 85151.142,457121.725 L 85145.304,457130.04 L 85142.365,457134.187 L 85130.533,457151.275 L 85126.943,457156.375 L 85118.14,457168.891 L 85107.01,457184.883 L 85072.55,457236.009 L 85053.511,457264.8 L 85034.477,457290.652 L 85022.405,457301.799 L 85011.817,457313.161 L 84993.344,457328.903 L 84980.196,457340.106 L 84977.683,457342.885 L 84966.761,457358.551 L 84949.624,457393.733 L 84936.427,457416.479 L 84927.358,457433.379 L 84918.986,457451.331 L 84912.064,457469.772 L 84910.458,457474.044 L 84899.485,457497.108 L 84898.795,457498.557 L 84888.799,457517.956 L 84873.431,457544.038 L 84859.301,457562.108 L 84849.593,457555.267 L 84844.097,457563.017 L 84843.13,457564.382 L 84842.128,457565.795 L 84841.475,457566.715 L 84842.556,457568.885 L 84843.495,457571.593 L 84844.05,457574.407 L 84844.206,457577.27 L 84844.199,457577.737 L 84843.92,457581.409 L 84843.245,457585.028 L 84842.183,457588.554 L 84842.044,457588.882 L 84840.743,457591.942 L 84838.945,457595.156 L 84835.688,457600.0 L 84805.856,457644.895 L 84781.026,457681.642 L 84747.455,457731.711 L 84726.154,457763.826 L 84708.263,457788.438 L 84700.5,457799.926 L 84692.621,457811.045 L 84648.387,457872.248 L 84640.676,457882.255 L 84639.431,457883.459 L 84636.019,457885.186 L 84630.576,457890.862 L 84600.636,457923.521 L 84579.455,457946.538 L 84570.487,457956.335 L 84560.474,457966.372 L 84556.47,457970.16 L 84555.77,457970.822 L 84549.622,457976.642 L 84547.982,457975.033 L 84533.626,457989.267 L 84533.031,457989.857 L 84532.664,457990.53 L 84534.14,457991.764 L 84524.503,458001.839 L 84485.97,457948.536 L 84406.84,457873.168 L 84289.649,457773.734 L 84195.068,457697.561 L 84070.143,457594.208 L 84059.551,457585.676 L 83938.588,457485.642 L 83877.906,457441.563 L 83795.467,457380.908 L 83699.61,457305.496 L 83688.712,457298.898 L 83623.493,457241.547 L 83511.605,457172.408 L 83501.754,457164.6 L 83501.74,457164.588 L 83498.392,457161.934 L 83487.29,457153.133 L 83435.207,457117.851 L 83431.825,457115.56 L 83409.513,457100.445 L 83403.438,457096.558 L 83399.111,457103.169 L 83373.446,457142.377 L 83358.415,457165.562 L 83339.311,457193.251 L 83335.232,457192.958 L 83313.083,457178.631 L 83302.172,457171.512 L 83290.335,457165.377 L 83281.473,457161.295 L 83272.451,457157.578 L 83263.283,457154.235 L 83254.398,457151.394 L 83240.878,457147.429 L 83212.754,457132.986 L 83210.272,457131.703 L 83146.783,457095.027 L 83119.726,457139.339 L 83085.015,457197.374 L 83074.755,457215.329 L 83058.457,457244.821 L 83050.114,457236.123 L 83041.446,457227.656 L 83025.999,457213.448 L 83008.353,457199.919 L 82999.999,457194.511 L 82973.953,457177.646 L 82973.413,457172.975 L 82971.795,457169.72 L 82967.112,457167.382 L 82960.878,457164.273 L 82951.804,457181.103 L 82930.79,457167.643 L 82784.626,457083.933 L 82746.154,457064.774 L 82741.555,457062.621 L 82707.784,457047.01 L 82706.204,457046.281 L 82704.018,457045.309 L 82608.942,457000.0 L 82600.0,456995.689 L 82587.025,456989.334 L 82572.355,456982.148 L 82567.994,456980.088 L 82564.419,456978.399 L 82526.988,456961.558 L 82500.0,456950.132 L 82499.031,456949.723 L 82453.776,456929.575 L 82447.264,456926.267 L 82443.221,456924.348 L 82441.153,456923.367 L 82410.633,456911.341 L 82401.591,456907.296 L 82392.718,456902.892 L 82387.342,456900.0 L 82384.592,456898.596 L 82383.963,456898.275 L 82374.47,456913.33 L 82315.601,457000.0 L 82299.792,457023.274 L 82291.341,457035.536 L 82283.291,457047.22 L 82240.777,457108.916 L 82236.1,457115.602 L 82191.385,457179.537 L 82187.614,457184.927 L 82180.432,457195.197 L 82155.553,457230.768 L 82142.291,457250.0 L 82101.962,457308.489 L 82106.958,457311.849 L 82121.214,457321.229 L 82143.255,457335.708 L 82152.042,457341.494 L 82165.155,457350.167 L 82179.595,457359.591 L 82191.101,457367.241 L 82200.204,457373.244 L 82211.799,457380.877 L 82222.646,457387.919 L 82226.046,457390.247 L 82235.076,457396.353 L 82244.142,457402.407 L 82259.619,457412.406 L 82269.388,457419.158 L 82278.279,457424.986 L 82295.648,457436.447 L 82305.638,457443.145 L 82319.307,457452.265 L 82352.764,457474.636 L 82385.98,457496.689 L 82390.815,457499.999 L 82396.962,457504.209 L 82402.749,457508.095 L 82435.611,457530.215 L 82463.27,457548.214 L 82463.038,457548.596 L 82500.0,457573.317 L 82539.896,457600.0 L 82600.0,457638.825 L 82658.257,457677.633 L 82707.002,457709.756 L 82705.871,457711.54 L 82723.56,457724.883 L 82717.451,457731.699 L 82701.041,457750.0 L 82694.207,457757.622 L 82653.386,457803.114 L 82623.169,457836.952 L 82600.183,457862.559 L 82597.468,457865.784 L 82596.27,457867.206 L 82592.288,457871.664 L 82600.105,457877.291 L 82622.623,457889.551 L 82622.771,457889.637 L 82628.466,457893.19 L 82633.938,457897.074 L 82639.169,457901.279 L 82642.808,457904.499 L 82646.339,457908.146 L 82649.574,457912.061 L 82652.49,457916.218 L 82655.069,457920.591 L 82656.432,457922.59 L 82658.853,457925.566 L 82661.571,457928.271 L 82688.45,457950.0 L 82747.498,457996.562 L 82752.092,458000.001 L 82757.936,458004.377 L 82775.651,458018.245 L 82782.451,458023.436 L 82773.911,458036.046 L 82770.441,458041.173 L 82770.192,458041.54 L 82763.417,458051.544 L 82745.229,458078.192 L 82745.189,458078.249 L 82731.247,458098.676 L 82723.09,458110.628 L 82690.299,458158.96 L 82646.412,458223.48 L 82619.463,458263.188 L 82600.0,458291.868 L 82594.293,458300.0 L 82569.467,458336.77 L 82564.051,458343.405 L 82537.284,458376.195 L 82525.76,458390.313 L 82525.609,458390.497 L 82509.302,458410.474 L 82476.366,458450.821 L 82436.221,458500.001 L 82360.276,458593.035 L 82351.592,458603.685 L 82343.703,458613.357 L 82314.404,458650.001 L 82282.698,458689.022 L 82229.228,458754.829 L 82197.314,458793.986 L 82150.001,458852.73 L 82056.145,458967.978 L 81995.152,459042.744 L 81956.776,459089.838 L 81875.524,459189.68 L 81867.556,459199.485 L 81835.761,459238.611 L 81832.411,459242.733 L 81824.4,459252.549 L 81787.553,459297.695 L 81754.443,459338.528 L 81753.691,459339.454 L 81745.138,459350.0 L 81725.577,459374.083 L 81700.001,459405.571 L 81643.8,459474.642 L 81460.432,459700.0 L 81277.589,459924.593 L 81243.422,459966.563 L 81217.278,459998.682 L 81172.441,460053.765 L 81168.532,460058.571 L 81163.225,460065.092 L 81136.367,460098.105 L 81135.536,460099.126 L 81116.529,460122.487 L 81105.755,460135.73 L 81086.596,460159.28 L 81085.934,460160.092 L 80969.024,460303.788 L 80967.269,460305.947 L 80890.746,460400.001 L 80805.693,460504.25 L 80775.924,460540.743 L 80759.26,460561.174 L 80727.364,460600.277 L 80651.77,460685.199 L 79886.222,461327.341 L 79666.373,461072.33 L 78975.564,460466.044 L 78654.937,460162.409 L 78499.795,460000.0 L 78118.564,459600.908 L 77579.237,458976.01 L 77500.0,458915.116 L 77464.876,458888.123 L 76957.678,458833.005 L 76631.273,458661.253 L 76328.425,458218.909 L 76239.619,457964.07 L 76306.722,457499.999 L 76309.363,457481.731 L 75523.209,456587.101 L 75010.009,455973.551 L 75000.001,455961.585 L 74909.975,455853.956 L 74397.948,455290.031 L 74130.296,455000.0 L 73968.206,454824.358 L 73659.132,454493.489 L 73335.862,454149.919 L 72993.8,453781.642 L 72558.001,453254.999 L 73324.402,452599.876 L 73329.956,452587.006 L 73359.63,452518.251 L 73401.257,452416.127 L 73403.341,452411.049 L 73416.964,452377.881 L 73421.191,452367.934 L 73422.477,452364.911 L 73488.346,452206.612 L 73549.34,452055.398 L 73518.457,452030.777 L 73487.22,451965.75 L 73513.454,451918.582 L 73519.167,451902.528 L 73532.44,451866.288 L 73536.199,451859.326 L 73580.999,451792.309 L 73624.033,451754.318 L 73648.086,451732.28 L 73659.203,451721.147 L 73682.462,451690.738 L 73694.019,451670.558 L 73710.492,451640.502 L 73736.879,451586.163 L 73767.269,451517.136 L 73769.877,451511.867 L 73838.05,451374.157 L 73839.093,451372.051 L 73840.374,451369.463 L 73843.865,451362.408 L 73840.382,451359.948 L 73844.862,451349.456 L 73845.216,451348.628 L 73850.445,451336.381 L 73867.777,451296.772 L 73888.837,451248.978 L 73892.717,451240.335 L 73903.954,451215.014 L 73914.578,451189.541 L 73926.71,451158.885 L 74052.715,450887.746 L 74090.893,450806.839 L 74124.904,450734.76 L 74191.23,450592.333 L 74255.073,450454.732 L 74256.808,450450.993 L 74285.478,450389.605 L 74389.974,450174.036 L 74378.631,450170.891 L 74374.96,450169.872 L 74341.017,450159.939 L 74315.694,450152.711 L 74307.707,450150.45 L 74291.593,450146.833 L 74283.8,450145.859 L 74275.077,450144.376 L 74259.377,450143.703 L 74244.432,450143.397 L 74222.253,450141.196 L 74207.646,450138.313 L 74193.754,450135.111 L 74197.933,450126.954 L 74198.87,450125.125 L 74211.399,450100.544 L 74251.104,450030.731 L 74257.032,450020.305 L 74315.426,449913.334 L 74320.235,449904.45 L 74371.815,449809.176 L 74372.757,449807.436 L 74374.243,449804.691 L 74403.547,449829.666 L 74434.547,449866.05 L 74463.329,449904.491 L 74478.338,449922.301 L 74482.533,449924.913 L 74501.279,449932.314 L 74505.503,449934.112 L 74508.424,449935.356 L 74524.763,449942.866 L 74555.39,449953.351 L 74569.362,449960.353 L 74597.944,449977.452 L 74627.393,450000.515 L 74641.579,450010.729 L 74659.359,450025.717 L 74685.363,450042.852 L 74702.372,450059.602 L 74712.682,450066.61 L 74740.58,450080.999 L 74769.163,450092.314 L 74780.677,450096.863 L 74794.318,450102.779 L 74822.371,450115.398 L 74845.225,450129.197 L 74855.492,450133.558 L 74878.867,450141.97 L 74899.146,450148.263 L 74907.809,450150.292 L 74914.338,450151.427 L 74923.629,450152.038 L 74944.072,450155.208 L 74953.816,450156.745 L 74973.365,450159.544 L 74995.096,450166.262 L 75022.275,450176.86 L 75025.518,450178.444 L 75031.298,450180.328 L 75052.654,450184.891 L 75092.992,450194.335 L 75113.222,450199.55 L 75131.471,450202.463 L 75148.137,450203.558 L 75182.305,450208.586 L 75226.144,450211.635 L 75239.086,450212.04 L 75262.962,450211.736 L 75296.959,450211.244 L 75345.07,450212.963 L 75351.922,450214.685 L 75367.262,450220.639 L 75373.652,450222.154 L 75400.278,450226.608 L 75403.023,450226.815 L 75418.059,450227.949 L 75427.746,450227.897 L 75439.871,450227.724 L 75473.512,450224.024 L 75478.232,450223.504 L 75481.457,450224.27 L 75483.375,450225.617 L 75485.54,450227.2 L 75487.889,450229.266 L 75491.343,450233.036 L 75500.001,450242.433 L 75559.897,450307.454 L 75737.274,450500.0 L 75761.376,450526.171 L 75883.821,450658.355 L 75920.78,450700.417 L 75948.585,450734.595 L 75951.524,450729.734 L 75952.406,450728.279 L 75952.671,450727.84 L 75954.878,450724.19 L 75955.128,450723.775 L 75960.362,450715.12 L 75960.904,450711.497 L 75961.224,450708.607 L 75961.772,450706.284 L 75962.758,450703.208 L 75964.996,450698.11 L 75967.612,450692.858 L 75976.02,450674.203 L 75994.507,450639.972 L 76001.965,450626.142 L 76027.665,450582.716 L 76029.811,450577.772 L 76035.684,450566.673 L 76059.713,450522.41 L 76068.737,450503.142 L 76081.913,450474.977 L 76095.976,450449.331 L 76108.755,450425.098 L 76114.679,450411.932 L 76129.295,450385.589 L 76139.86,450364.141 L 76153.576,450339.419 L 76170.207,450306.503 L 76183.757,450281.584 L 76195.158,450260.508 L 76205.616,450238.907 L 76211.611,450227.937 L 76219.896,450209.315 L 76227.259,450193.238 L 76233.747,450180.876 L 76239.567,450170.739 L 76257.135,450138.438 L 76270.603,450120.069 L 76272.601,450116.823 L 76274.517,450113.188 L 76279.191,450103.591 L 76285.394,450085.232 L 76290.812,450075.452 L 76305.372,450046.331 L 76310.155,450037.913 L 76330.439,449997.095 L 76345.903,449968.752 L 76351.671,449957.395 L 76353.84,449953.699 L 76375.509,449909.046 L 76383.234,449896.694 L 76390.779,449881.474 L 76393.658,449876.914 L 76418.884,449827.884 L 76426.458,449811.848 L 76431.226,449802.28 L 76450.064,449764.004 L 76474.984,449721.208 L 76485.102,449700.876 L 76496.482,449679.251 L 76509.45,449653.839 L 76518.035,449638.037 L 76526.676,449620.81 L 76534.704,449608.112 L 76541.004,449596.996 L 76549.574,449585.055 L 76555.852,449574.218 L 76561.122,449569.17 L 76564.574,449564.326 L 76569.598,449559.474 L 76579.35,449554.214 L 76585.154,449552.23 L 76599.765,449551.111 L 76609.497,449540.778 L 76616.297,449530.343 L 76631.575,449496.29 L 76637.955,449487.325 L 76641.215,449484.32 L 76644.646,449479.461 L 76649.887,449470.229 L 76653.091,449463.534 L 76671.566,449428.731 L 76685.81,449404.641 L 76705.706,449373.039 L 76721.895,449345.864 L 76733.191,449324.12 L 76747.43,449298.073 L 76771.997,449258.277 L 76783.362,449239.788 L 76804.187,449202.626 L 76808.102,449194.875 L 76813.97,449181.772 L 76821.441,449167.914 L 76829.798,449155.127 L 76832.539,449157.137 L 76835.852,449159.557 L 76839.082,449161.914 L 76858.362,449175.795 L 76881.768,449192.212 L 76895.792,449202.212 L 76898.294,449203.995 L 76904.816,449208.647 L 76908.503,449210.697 L 76910.758,449212.358 L 76911.27,449212.736 L 76930.914,449227.216 L 76955.295,449244.968 L 76989.088,449270.228 L 76998.187,449274.851 L 77008.106,449282.215 L 77011.764,449284.883 L 77025.029,449294.553 L 77032.877,449300.586 L 77046.587,449310.89 L 77050.214,449313.617 L 77058.926,449320.405 L 77072.518,449330.741 L 77082.6,449338.751 L 77090.977,449345.073 L 77095.627,449348.173 L 77101.246,449351.252 L 77116.735,449362.848 L 77129.602,449372.383 L 77165.175,449398.164 L 77179.451,449408.958 L 77203.111,449425.328 L 77206.639,449428.321 L 77210.925,449431.646 L 77212.846,449433.471 L 77214.617,449434.783 L 77230.835,449446.807 L 77240.828,449453.524 L 77245.585,449456.723 L 77293.165,449488.807 L 77298.432,449492.691 L 77303.58,449496.252 L 77305.483,449497.52 L 77311.223,449487.009 L 77312.441,449484.732 L 77327.335,449487.386 L 77339.165,449488.695 L 77363.171,449488.234 L 77382.842,449485.081 L 77384.78,449486.442 L 77391.837,449491.393 L 77398.491,449496.009 L 77399.747,449496.858 L 77401.253,449497.878 L 77403.797,449499.601 L 77421.915,449512.652 L 77450.97,449532.754 L 77478.962,449552.098 L 77499.366,449566.066 L 77523.335,449582.576 L 77550.695,449601.507 L 77563.024,449609.941 L 77563.616,449610.345 L 77583.014,449624.356 L 77583.255,449624.53 L 77585.246,449625.969 L 77610.37,449644.311 L 77618.584,449650.427 L 77622.408,449653.276 L 77642.81,449668.135 L 77667.319,449686.029 L 77709.259,449716.429 L 77712.863,449718.948 L 77716.211,449721.159 L 77732.772,449732.454 L 77736.36,449734.905 L 77744.912,449740.642 L 77753.156,449746.369 L 77758.457,449750.001 L 77765.978,449755.15 L 77772.242,449759.574 L 77782.249,449766.441 L 77791.567,449772.985 L 77802.837,449780.736 L 77813.294,449787.905 L 77822.785,449794.396 L 77832.988,449801.344 L 77841.719,449807.376 L 77851.084,449813.744 L 77857.513,449818.577 L 77865.669,449824.597 L 77872.424,449829.373 L 77881.675,449836.244 L 77886.781,449840.006 L 77895.242,449846.194 L 77895.84,449846.632 L 77899.646,449849.418 L 77900.09,449849.742 L 77903.6,449852.31 L 77914.548,449860.243 L 77924.253,449867.354 L 77937.458,449877.062 L 77957.491,449891.847 L 77961.008,449894.438 L 77965.449,449897.684 L 77973.007,449903.244 L 77978.694,449907.17 L 77986.178,449912.756 L 77990.594,449915.7 L 78000.001,449922.874 L 78010.83,449930.796 L 78019.972,449937.41 L 78029.582,449944.445 L 78039.417,449951.616 L 78047.513,449957.578 L 78054.74,449962.936 L 78062.368,449968.439 L 78069.179,449973.539 L 78077.174,449979.363 L 78085.674,449985.633 L 78094.754,449992.261 L 78106.394,449999.98 L 78106.424,450000.0 L 78128.975,450016.147 L 78135.89,450021.099 L 78137.039,450021.936 L 78138.272,450022.834 L 78139.189,450023.501 L 78142.774,450026.188 L 78154.5,450021.627 L 78157.486,450020.022 L 78161.055,450017.392 L 78162.168,450015.407 L 78161.967,450013.054 L 78177.295,450026.292 L 78180.658,450026.583 L 78181.915,450027.015 L 78183.138,450027.432 L 78189.575,450033.019 L 78218.828,450058.306 L 78243.21,450079.69 L 78244.704,450081.0 L 78269.944,450102.096 L 78295.015,450123.608 L 78314.136,450139.866 L 78321.16,450146.165 L 78353.928,450174.997 L 78369.432,450189.048 L 78421.679,450232.76 L 78464.783,450268.281 L 78501.045,450298.178 L 78525.694,450318.498 L 78546.334,450273.811 L 78552.451,450260.08 L 78572.758,450212.205 L 78579.792,450195.671 L 78597.263,450153.984 L 78629.584,450081.077 L 78629.652,450080.922 L 78647.034,450040.716 L 78661.156,450008.373 L 78687.064,449947.742 L 78706.646,449904.82 L 78713.895,449888.931 L 78722.721,449868.809 L 78740.115,449830.06 L 78748.427,449835.875 L 78750.027,449836.995 L 78754.47,449840.106 L 78763.334,449846.306 L 78763.81,449846.639 L 78772.789,449852.921 L 78784.083,449860.824 L 78792.647,449866.816 L 78798.507,449870.916 L 78801.212,449872.808 L 78809.776,449878.797 L 78818.344,449884.788 L 78827.267,449891.029 L 78828.28,449891.734 L 78839.514,449899.56 L 78849.418,449906.459 L 78855.644,449912.224 L 78871.991,449927.361 L 78875.684,449930.781 L 78877.462,449932.672 L 78886.484,449912.4 L 78890.966,449902.686 L 78892.693,449905.487 L 78895.196,449899.784 L 78897.835,449893.807 L 78898.925,449891.338 L 78899.744,449889.647 L 78903.122,449882.136 L 78907.746,449871.858 L 78909.111,449868.823 L 78909.233,449868.551 L 78911.316,449863.928 L 78911.476,449863.566 L 78916.079,449853.336 L 78918.444,449848.078 L 78918.663,449847.593 L 78918.811,449847.257 L 78920.861,449842.59 L 78925.078,449832.988 L 78925.107,449832.923 L 78926.934,449828.882 L 78931.668,449818.437 L 78931.731,449818.297 L 78938.382,449803.494 L 78945.041,449788.671 L 78951.702,449773.848 L 78953.924,449768.9 L 78958.357,449759.023 L 78965.009,449744.198 L 78969.13,449735.013 L 78970.153,449732.731 L 78976.096,449719.432 L 78982.807,449704.401 L 78983.495,449702.857 L 78989.327,449689.935 L 78991.803,449684.45 L 78996.825,449673.318 L 78997.391,449672.064 L 79000.001,449666.283 L 79007.045,449650.497 L 79015.317,449631.962 L 79015.924,449630.6 L 79017.299,449627.593 L 79017.44,449627.273 L 79031.836,449594.767 L 79053.567,449545.773 L 79073.697,449500.0 L 79075.817,449494.855 L 79077.555,449489.975 L 79097.641,449443.337 L 79100.841,449436.081 L 79107.091,449421.907 L 79118.671,449395.93 L 79121.115,449390.256 L 79124.633,449382.189 L 79128.735,449372.78 L 79132.125,449364.934 L 79134.723,449364.475 L 79134.888,449363.285 L 79135.263,449363.145 L 79136.427,449360.461 L 79145.555,449363.51 L 79170.42,449372.053 L 79174.543,449373.47 L 79190.888,449379.085 L 79191.978,449379.48 L 79201.547,449382.944 L 79205.783,449384.477 L 79207.228,449385.514 L 79207.388,449385.141 L 79213.563,449370.739 L 79216.747,449363.313 L 79218.876,449358.35 L 79221.011,449353.388 L 79222.333,449350.321 L 79223.15,449348.427 L 79225.287,449343.466 L 79227.435,449338.478 L 79231.059,449330.066 L 79233.203,449325.089 L 79237.462,449315.285 L 79239.626,449310.304 L 79239.888,449309.699 L 79241.778,449305.35 L 79243.929,449300.396 L 79246.081,449295.442 L 79247.301,449292.632 L 79248.222,449290.483 L 79251.945,449281.795 L 79253.224,449283.179 L 79264.721,449290.872 L 79277.39,449298.291 L 79283.645,449301.662 L 79283.737,449301.712 L 79297.283,449310.68 L 79306.619,449316.983 L 79322.223,449327.516 L 79329.412,449331.991 L 79330.77,449332.836 L 79346.064,449342.202 L 79354.131,449347.214 L 79371.029,449357.713 L 79374.977,449360.278 L 79381.075,449345.578 L 79382.236,449342.692 L 79386.801,449331.758 L 79390.151,449323.673 L 79395.328,449311.371 L 79398.535,449304.756 L 79398.601,449304.616 L 79399.958,449301.817 L 79401.402,449298.841 L 79406.752,449286.915 L 79413.81,449270.416 L 79414.272,449269.117 L 79416.897,449254.878 L 79414.148,449253.813 L 79404.445,449250.016 L 79395.4,449246.429 L 79388.826,449243.821 L 79385.938,449242.675 L 79379.956,449240.3 L 79371.106,449236.785 L 79364.679,449234.232 L 79363.49,449233.766 L 79359.05,449232.024 L 79372.982,449219.162 L 79381.725,449211.074 L 79389.528,449202.986 L 79392.704,449199.696 L 79399.81,449192.136 L 79399.912,449192.027 L 79399.65,449191.791 L 79392.656,449185.518 L 79385.737,449179.308 L 79385.377,449178.987 L 79381.601,449175.235 L 79379.807,449173.614 L 79378.94,449172.831 L 79371.989,449166.557 L 79364.55,449159.908 L 79364.822,449159.628 L 79372.736,449151.425 L 79378.261,449145.7 L 79379.698,449144.332 L 79391.773,449132.837 L 79416.91,449108.685 L 79444.187,449081.395 L 79484.685,449040.252 L 79524.802,449000.0 L 79532.808,448991.817 L 79542.254,448982.353 L 79546.259,448978.343 L 79556.049,448968.639 L 79568.178,448956.373 L 79573.944,448950.532 L 79575.004,448949.459 L 79573.556,448948.588 L 79567.454,448944.597 L 79559.12,448939.006 L 79553.644,448934.92 L 79548.121,448930.409 L 79545.543,448928.26 L 79537.179,448921.289 L 79525.841,448911.764 L 79519.144,448906.27 L 79516.854,448904.389 L 79504.996,448894.434 L 79495.06,448886.248 L 79492.691,448884.298 L 79479.222,448873.149 L 79469.325,448865.04 L 79474.654,448861.184 L 79486.138,448852.876 L 79530.479,448817.499 L 79638.311,448730.922 L 79717.982,448667.477 L 79723.05,448663.395 L 79727.905,448659.486 L 79759.716,448633.869 L 79868.357,448547.741 L 79900.333,448522.112 L 79985.6,448453.77 L 79966.433,448442.611 L 79957.534,448437.429 L 79949.171,448432.56 L 79946.7,448431.122 L 79940.608,448427.577 L 79932.107,448422.626 L 79920.763,448416.022 L 79909.36,448409.384 L 79909.062,448409.21 L 79908.916,448409.126 L 79900.884,448404.411 L 79892.329,448399.391 L 79883.879,448394.438 L 79875.3,448389.4 L 79874.865,448389.145 L 79866.875,448384.455 L 79858.268,448379.405 L 79849.955,448374.526 L 79844.82,448371.514 L 79840.282,448368.901 L 79829.461,448362.672 L 79826.355,448360.828 L 79813.938,448353.452 L 79807.53,448349.629 L 79804.413,448347.768 L 79803.931,448347.501 L 79789.013,448339.218 L 79775.893,448331.416 L 79767.852,448326.734 L 79759.086,448321.631 L 79741.748,448311.538 L 79706.766,448291.253 L 79666.41,448268.21 L 79672.171,448263.104 L 79682.861,448253.628 L 79801.904,448158.105 L 79891.329,448085.816 L 79904.398,448075.253 L 79915.434,448066.332 L 80058.196,447950.806 L 80094.685,447988.33 L 80130.59,448025.251 L 80153.57,448048.88 L 80166.849,448062.535 L 80238.888,448136.614 L 80274.535,448173.271 L 80300.085,448189.29 L 80316.268,448199.437 L 80324.996,448204.981 L 80350.29,448221.044 L 80360.308,448227.359 L 80375.824,448237.139 L 80400.761,448252.859 L 80445.101,448281.111 L 80463.747,448254.008 L 80551.855,448125.857 L 80556.958,448128.979 L 80572.027,448138.2 L 80595.405,448152.502 L 80605.178,448158.481 L 80614.683,448164.297 L 80639.584,448179.531 L 80683.019,448206.105 L 80702.053,448217.75 L 80727.034,448233.263 L 80770.575,448260.303 L 80782.363,448243.277 L 80819.209,448263.542 L 80864.601,448288.508 L 80890.967,448303.008 L 80896.064,448305.812 L 80861.066,448374.491 L 80762.371,448566.597 L 80684.294,448717.625 L 80675.937,448734.115 L 80675.526,448734.928 L 80672.88,448740.148 L 80672.464,448740.967 L 80671.086,448743.689 L 80663.855,448757.957 L 80663.058,448759.457 L 80646.488,448791.729 L 80629.684,448824.813 L 80606.422,448870.844 L 80584.29,448913.497 L 80558.647,448963.906 L 80380.319,449311.401 L 80354.734,449361.07 L 80336.365,449396.581 L 80320.214,449428.641 L 80303.637,449460.632 L 80291.022,449485.778 L 80282.625,449502.274 L 80273.45,449521.057 L 80264.664,449538.616 L 80256.906,449552.554 L 80252.395,449561.048 L 80250.647,449564.26 L 80248.459,449568.281 L 80244.958,449577.159 L 80245.383,449578.794 L 80246.327,449580.145 L 80247.431,449581.108 L 80249.775,449581.761 L 80252.371,449582.765 L 80254.992,449583.433 L 80256.249,449583.755 L 80265.641,449586.941 L 80280.09,449591.757 L 80286.502,449594.122 L 80290.888,449595.906 L 80293.42,449597.233 L 80295.404,449598.563 L 80296.963,449599.774 L 80297.52,449600.719 L 80298.005,449602.09 L 80298.09,449603.464 L 80297.955,449605.342 L 80297.698,449607.669 L 80297.196,449610.4 L 80296.574,449612.371 L 80296.27,449613.334 L 80292.629,449623.571 L 80283.776,449647.511 L 80274.084,449672.735 L 80270.526,449680.896 L 80266.397,449689.488 L 80264.216,449694.76 L 80256.417,449716.139 L 80247.204,449742.108 L 80239.213,449764.289 L 80232.117,449783.087 L 80221.884,449809.591 L 80213.976,449829.546 L 80205.306,449851.558 L 80195.276,449878.285 L 80186.0,449902.354 L 80176.355,449927.302 L 80166.171,449953.43 L 80157.604,449975.818 L 80150.015,449995.145 L 80147.664,450001.344 L 80096.902,450135.809 L 80052.533,450250.366 L 80027.961,450315.181 L 80003.146,450380.903 L 80002.061,450383.625 L 79982.517,450432.728 L 79956.024,450499.443 L 79937.769,450544.916 L 79915.943,450601.497 L 79896.582,450650.508 L 79868.296,450722.306 L 79844.398,450782.741 L 79843.337,450785.424 L 79836.119,450805.119 L 79811.74,450870.911 L 79796.036,450913.051 L 79790.027,450928.607 L 79792.659,450930.048 L 79793.144,450930.314 L 79845.02,450958.125 L 79885.094,450979.518 L 79899.813,450987.364 L 79911.177,450993.095 L 79939.918,451007.536 L 79962.348,451018.697 L 79984.251,451029.531 L 79989.099,451032.003 L 79991.553,451033.221 L 79964.114,451091.742 L 79982.028,451100.111 L 79995.173,451106.256 L 79998.327,451107.74 L 80029.101,451119.683 L 80052.729,451128.973 L 80083.899,451141.275 L 80094.97,451144.482 L 80106.028,451147.513 L 80114.346,451147.875 L 80122.31,451148.186 L 80136.23,451150.166 L 80172.575,451155.584 L 80176.895,451156.182 L 80188.537,451160.096 L 80189.151,451160.338 L 80192.589,451162.304 L 80193.083,451162.625 L 80206.332,451174.084 L 80212.896,451180.478 L 80218.801,451186.274 L 80221.324,451191.418 L 80224.888,451192.397 L 80235.006,451195.491 L 80247.747,451199.308 L 80249.793,451200.061 L 80238.584,451227.337 L 80226.904,451255.525 L 80256.567,451269.071 L 80286.519,451282.615 L 80296.568,451287.213 L 80329.859,451302.857 L 80323.945,451316.775 L 80304.563,451362.401 L 80305.367,451364.186 L 80326.013,451373.663 L 80335.147,451377.475 L 80340.346,451379.365 L 80356.216,451386.103 L 80362.292,451389.072 L 80394.59,451403.909 L 80423.57,451416.989 L 80459.467,451432.812 L 80487.457,451445.251 L 80491.543,451447.089 L 80515.285,451457.569 L 80518.178,451459.843 L 80536.438,451467.834 L 80544.018,451472.063 L 80546.049,451474.703 L 80548.906,451481.727 L 80552.297,451483.205 L 80556.837,451480.953 L 80559.87,451480.139 L 80564.129,451480.062 L 80566.757,451480.46 L 80572.435,451483.008 L 80588.171,451490.584 L 80642.71,451515.628 L 80652.379,451520.598 L 80676.169,451471.752 L 80676.771,451470.719 L 80678.477,451468.048 L 80681.292,451464.411 L 80682.391,451462.801 L 80684.188,451463.596 L 80706.886,451473.627 L 80739.043,451488.882 L 80745.345,451491.733 L 80760.79,451500.001 L 80768.199,451504.33 L 80770.285,451505.579 L 80778.786,451510.676 L 80781.814,451512.49 L 80782.973,451513.114 L 80865.133,451558.7 L 80871.459,451562.245 L 80878.137,451565.562 L 80891.116,451573.963 L 80911.36,451584.476 L 80899.367,451608.552 L 80925.731,451623.265 L 80939.53,451631.115 L 80950.503,451636.469 L 80952.849,451637.672 L 80956.352,451639.77 L 80959.814,451641.939 L 80961.105,451642.711 L 80962.404,451643.469 L 80968.403,451646.894 L 80974.454,451650.226 L 81000.0,451664.694 L 81005.684,451667.829 L 81010.675,451670.634 L 81034.797,451684.265 L 81049.893,451658.138 L 81052.462,451659.783 L 81060.908,451665.196 L 81068.959,451670.77 L 81094.361,451687.43 L 81121.407,451704.971 L 81124.057,451706.69 L 81126.473,451708.089 L 81132.302,451711.466 L 81136.012,451713.614 L 81136.811,451714.1 L 81153.314,451724.128 L 81188.7,451746.444 L 81191.911,451748.736 L 81195.143,451751.042 L 81212.988,451762.368 L 81232.744,451775.143 L 81264.007,451794.878 L 81265.83,451796.029 L 81263.851,451800.834 L 81257.564,451812.538 L 81261.107,451815.156 L 81268.123,451819.792 L 81276.579,451825.496 L 81280.275,451828.119 L 81284.66,451831.128 L 81290.663,451835.568 L 81297.415,451840.198 L 81310.082,451848.882 L 81313.879,451852.407 L 81316.609,451854.662 L 81319.613,451856.835 L 81322.221,451858.176 L 81327.379,451860.118 L 81343.255,451864.11 L 81350.1,451865.878 L 81369.977,451871.013 L 81381.261,451874.565 L 81392.61,451876.112 L 81432.237,451892.357 L 81504.904,451922.146 L 81509.437,451913.939 L 81520.77,451919.87 L 81525.1,451922.136 L 81537.934,451928.623 L 81573.693,451946.699 L 81601.248,451955.383 L 81624.274,451966.875 L 81624.748,451969.07 L 81625.668,451973.334 L 81632.901,451977.374 L 81704.448,452014.06 L 81722.196,452020.393 L 81742.019,452030.843 L 81744.114,452031.944 L 81775.851,452048.854 L 81791.773,452058.334 L 81828.024,452102.92 L 81853.136,452116.584 L 81858.62,452119.775 L 81858.92,452119.951 L 81931.206,452173.029 L 81932.457,452174.013 L 81931.202,452179.021 L 81925.169,452189.493 L 81919.748,452198.061 L 81917.416,452203.226 L 81925.539,452217.072 L 81930.284,452224.046 L 81938.779,452233.867 L 81949.151,452244.962 L 81950.433,452247.425 L 81898.569,452343.063 L 81896.975,452346.001 L 81896.59,452346.854 L 81896.592,452347.79 L 81896.981,452348.641 L 81897.473,452349.124 L 81899.274,452350.088 L 81927.939,452367.275 L 81936.581,452372.402 L 81985.025,452400.981 L 81991.965,452404.93 L 81993.827,452405.919 L 82035.928,452429.074 L 82048.219,452436.356 L 82069.509,452449.721 L 82073.061,452451.762 L 82088.517,452460.538 L 82097.876,452465.851 L 82102.53,452466.803 L 82105.471,452464.231 L 82108.411,452459.194 L 82113.628,452448.987 L 82118.706,452439.053 L 82126.407,452423.982 L 82134.988,452420.28 L 82137.762,452421.134 L 82140.174,452421.877 L 82154.139,452430.352 L 82161.951,452435.093 L 82167.581,452437.581 L 82171.701,452434.826 L 82174.212,452430.433 L 82176.075,452431.853 L 82176.3,452432.024 L 82181.558,452436.031 L 82185.197,452438.806 L 82293.054,452519.0 L 82298.228,452522.865 L 82304.659,452527.13 L 82328.575,452545.462 L 82330.306,452546.636 L 82329.085,452553.055 L 82323.433,452562.522 L 82317.739,452572.061 L 82317.101,452576.879 L 82317.417,452580.221 L 82317.848,452582.155 L 82319.946,452589.261 L 82325.11,452595.873 L 82332.12,452601.151 L 82339.967,452604.594 L 82344.367,452605.152 L 82349.819,452604.972 L 82355.776,452603.525 L 82362.983,452599.746 L 82366.807,452596.75 L 82368.991,452594.084 L 82371.001,452591.108 L 82373.2,452587.511 L 82391.135,452558.164 L 82392.489,452557.318 L 82393.881,452556.448 L 82394.943,452556.956 L 82397.756,452555.987 L 82399.366,452555.962 L 82400.599,452556.276 L 82404.569,452557.146 L 82443.232,452587.395 L 82458.259,452598.726 L 82463.472,452602.513 L 82474.158,452610.498 L 82494.553,452626.869 L 82507.107,452635.257 L 82512.469,452638.962 L 82524.889,452647.252 L 82543.248,452659.905 L 82551.97,452668.353 L 82554.942,452672.317 L 82562.878,452677.524 L 82591.003,452698.505 L 82594.881,452701.361 L 82605.015,452710.141 L 82617.064,452719.683 L 82617.218,452719.795 L 82623.592,452724.429 L 82630.692,452729.469 L 82645.63,452739.908 L 82654.899,452746.386 L 82664.802,452754.391 L 82669.213,452758.14 L 82673.819,452761.943 L 82678.581,452765.874 L 82682.826,452769.378 L 82683.052,452769.549 L 82687.941,452773.266 L 82692.951,452777.076 L 82695.54,452779.044 L 82697.988,452780.843 L 82704.232,452785.429 L 82710.477,452790.018 L 82714.805,452792.867 L 82714.811,452792.872 L 82717.185,452794.434 L 82719.92,452796.436 L 82724.577,452799.889 L 82729.071,452803.221 L 82733.647,452806.613 L 82740.059,452811.366 L 82746.461,452816.112 L 82752.863,452820.86 L 82759.289,452825.625 L 82765.7,452830.377 L 82772.102,452835.124 L 82777.151,452838.867 L 82782.208,452842.614 L 82787.264,452846.364 L 82792.399,452850.171 L 82794.892,452852.019 L 82800.096,452855.919 L 82809.486,452862.955 L 82833.565,452881.12 L 82837.573,452884.144 L 82839.555,452885.2 L 82841.249,452886.78 L 82843.554,452888.927 L 82850.037,452892.549 L 82851.313,452892.721 L 82853.315,452892.993 L 82856.724,452895.85 L 82862.095,452900.348 L 82864.216,452902.125 L 82870.33,452905.905 L 82876.408,452910.23 L 82879.034,452911.883 L 82881.846,452913.655 L 82886.641,452916.141 L 82901.542,452926.193 L 82910.546,452932.597 L 82913.373,452934.644 L 82923.217,452940.94 L 82930.724,452945.613 L 82937.445,452950.007 L 82943.913,452954.425 L 82949.882,452958.923 L 82956.132,452963.356 L 82960.986,452966.568 L 82964.382,452968.996 L 82972.715,452975.999 L 82978.436,452980.224 L 82984.31,452986.038 L 82990.46,452989.81 L 82995.157,452993.612 L 82999.614,452997.951 L 83005.124,453002.759 L 83011.82,453007.677 L 83026.677,453018.329 L 83039.346,453027.357 L 83045.358,453032.27 L 83051.676,453037.7 L 83051.99,453038.104 L 83054.141,453040.865 L 83067.068,453049.278 L 83087.119,453061.29 L 83094.532,453065.966 L 83098.468,453068.488 L 83105.774,453072.858 L 83112.945,453077.828 L 83118.783,453081.768 L 83124.339,453085.146 L 83131.243,453089.533 L 83142.258,453096.645 L 83151.433,453102.916 L 83164.724,453112.627 L 83170.03,453116.655 L 83176.912,453121.269 L 83183.424,453125.326 L 83190.592,453129.82 L 83203.603,453116.989 L 83216.689,453104.089 L 83220.75,453100.119 L 83228.556,453092.473 L 83235.194,453085.831 L 83282.041,453038.962 L 83324.853,452987.976 L 83326.896,452985.54 L 83339.685,452969.48 L 83350.441,452955.821 L 83351.006,452955.106 L 83351.735,452954.186 L 83352.791,452952.805 L 83355.724,452949.094 L 83358.688,452945.344 L 83360.625,452942.871 L 83362.027,452941.065 L 83364.976,452937.311 L 83368.988,452932.2 L 83369.515,452931.558 L 83370.057,452930.899 L 83374.251,452925.522 L 83377.18,452921.76 L 83378.282,452920.403 L 83378.872,452919.649 L 83380.537,452917.508 L 83383.495,452913.74 L 83386.427,452910.009 L 83387.535,452908.626 L 83388.133,452907.861 L 83388.723,452907.108 L 83389.787,452905.785 L 83392.798,452901.967 L 83397.461,452896.048 L 83402.086,452890.16 L 83406.737,452884.246 L 83408.418,452882.121 L 83411.368,452878.363 L 83413.895,452875.146 L 83416.625,452871.698 L 83419.135,452868.525 L 83422.818,452863.872 L 83435.29,452848.111 L 83468.748,452831.523 L 83476.401,452824.689 L 83485.47,452816.679 L 83491.568,452811.299 L 83496.713,452806.757 L 83497.453,452806.099 L 83498.183,452805.431 L 83498.903,452804.751 L 83499.615,452804.063 L 83500.318,452803.365 L 83501.01,452802.658 L 83501.693,452801.941 L 83502.365,452801.216 L 83503.048,452800.456 L 83503.72,452799.687 L 83504.38,452798.907 L 83505.03,452798.119 L 83505.669,452797.322 L 83506.295,452796.516 L 83506.911,452795.7 L 83507.515,452794.876 L 83508.107,452794.045 L 83508.688,452793.204 L 83536.3,452750.911 L 83564.339,452708.941 L 83616.089,452631.611 L 83628.065,452606.454 L 83632.73,452598.536 L 83634.47,452595.461 L 83638.059,452588.803 L 83642.63,452579.287 L 83645.722,452571.857 L 83649.606,452559.291 L 83651.568,452550.455 L 83652.37,452546.832 L 83652.666,452544.446 L 83653.121,452541.989 L 83653.351,452540.835 L 83653.429,452539.892 L 83653.502,452538.998 L 83653.793,452537.28 L 83654.069,452535.074 L 83654.283,452533.106 L 83654.349,452532.305 L 83654.343,452530.144 L 83654.607,452527.914 L 83654.595,452525.61 L 83654.477,452524.332 L 83654.477,452522.116 L 83654.407,452519.67 L 83654.176,452517.187 L 83654.145,452515.257 L 83654.042,452513.793 L 83653.893,452511.677 L 83653.671,452509.903 L 83653.4,452507.015 L 83652.884,452504.293 L 83652.532,452502.595 L 83652.39,452501.909 L 83651.984,452499.572 L 83651.297,452496.988 L 83650.744,452494.952 L 83650.318,452493.122 L 83649.38,452490.431 L 83648.918,452488.996 L 83648.206,452486.878 L 83647.455,452484.92 L 83646.613,452482.839 L 83645.819,452480.903 L 83645.498,452480.201 L 83645.029,452478.983 L 83643.378,452475.814 L 83639.145,452467.62 L 83638.327,452466.172 L 83635.788,452461.672 L 83634.806,452459.977 L 83633.947,452458.601 L 83631.027,452454.221 L 83630.094,452452.874 L 83627.342,452449.343 L 83622.453,452443.346 L 83622.067,452442.9 L 83626.698,452436.213 L 83628.418,452433.727 L 83626.342,452431.249 L 83600.477,452401.28 L 83588.104,452386.787 L 83573.572,452369.966 L 83555.35,452348.628 L 83539.641,452330.189 L 83523.998,452312.014 L 83506.217,452291.281 L 83497.924,452280.991 L 83483.816,452263.299 L 83504.077,452242.182 L 83512.336,452233.575 L 83514.864,452230.991 L 83544.363,452200.835 L 83564.28,452180.73 L 83585.657,452158.406 L 83597.886,452146.42 L 83602.641,452142.237 L 83604.442,452139.814 L 83624.516,452119.127 L 83638.049,452105.455 L 83653.448,452089.9 L 83657.638,452085.668 L 83664.236,452079.13 L 83674.346,452069.113 L 83676.818,452066.664 L 83684.245,452058.931 L 83692.255,452050.592 L 83694.149,452048.641 L 83699.769,452042.855 L 83704.038,452038.458 L 83713.823,452028.382 L 83723.713,452018.195 L 83726.917,452014.896 L 83733.772,452008.005 L 83741.733,452000.001 L 83743.737,451997.956 L 83753.592,451987.893 L 83754.439,451987.029 L 83760.054,451981.296 L 83763.574,451977.717 L 83773.542,451967.585 L 83783.385,451957.575 L 83791.804,451949.017 L 83792.754,451948.051 L 83818.74,451921.916 L 83823.071,451917.561 L 83842.95,451897.267 L 83938.237,451800.244 L 83945.382,451790.914 L 83952.567,451784.221 L 83999.564,451737.315 L 84023.287,451713.64 L 84033.874,451703.366 L 84000.336,451668.382 L 84004.657,451656.551 L 84007.599,451648.49 L 84009.67,451615.291 L 84010.129,451599.471 L 84003.869,451598.78 L 84002.682,451598.603 L 84001.496,451598.412 L 84000.312,451598.205 L 83999.132,451597.984 L 83997.954,451597.747 L 83996.779,451597.493 L 83995.607,451597.226 L 83994.439,451596.945 L 83993.276,451596.647 L 83992.115,451596.336 L 83990.96,451596.01 L 83989.808,451595.667 L 83988.66,451595.311 L 83987.517,451594.94 L 83986.379,451594.556 L 83985.246,451594.155 L 83984.119,451593.741 L 83982.996,451593.313 L 83981.879,451592.869 L 83980.769,451592.412 L 83979.663,451591.94 L 83978.565,451591.456 L 83977.473,451590.955 L 83976.386,451590.443 L 83975.306,451589.915 L 83974.233,451589.373 L 83973.168,451588.819 L 83972.11,451588.251 L 83971.058,451587.669 L 83970.015,451587.073 L 83968.98,451586.464 L 83967.951,451585.844 L 83966.931,451585.209 L 83965.919,451584.56 L 83964.916,451583.9 L 83963.921,451583.226 L 83962.936,451582.54 L 83961.958,451581.841 L 83960.99,451581.131 L 83959.623,451580.138 L 83958.266,451579.135 L 83956.919,451578.121 L 83955.579,451577.093 L 83954.247,451576.055 L 83952.926,451575.005 L 83951.614,451573.945 L 83950.31,451572.873 L 83949.015,451571.79 L 83947.731,451570.695 L 83946.456,451569.591 L 83945.19,451568.473 L 83943.933,451567.346 L 83942.687,451566.209 L 83941.45,451565.06 L 83939.529,451563.41 L 83937.601,451561.77 L 83935.661,451560.141 L 83933.715,451558.523 L 83931.758,451556.916 L 83929.791,451555.321 L 83927.817,451553.737 L 83925.833,451552.163 L 83923.84,451550.602 L 83921.839,451549.05 L 83919.829,451547.51 L 83914.13,451543.24 L 83910.569,451540.691 L 83904.849,451536.71 L 83899.29,451532.991 L 83893.759,451529.05 L 83883.579,451522.78 L 83873.88,451517.621 L 83872.522,451516.864 L 83871.157,451516.119 L 83869.784,451515.388 L 83868.405,451514.67 L 83867.021,451513.962 L 83865.629,451513.269 L 83864.231,451512.589 L 83862.827,451511.921 L 83861.417,451511.265 L 83860.002,451510.623 L 83858.58,451509.994 L 83857.153,451509.378 L 83855.719,451508.774 L 83854.332,451508.204 L 83852.939,451507.647 L 83851.541,451507.102 L 83850.139,451506.569 L 83848.731,451506.048 L 83847.32,451505.54 L 83846.241,451505.187 L 83845.157,451504.846 L 83844.068,451504.522 L 83842.976,451504.211 L 83841.88,451503.916 L 83840.78,451503.636 L 83839.675,451503.37 L 83838.569,451503.12 L 83837.457,451502.884 L 83836.343,451502.664 L 83835.227,451502.46 L 83834.107,451502.27 L 83832.984,451502.094 L 83831.861,451501.935 L 83830.735,451501.791 L 83829.605,451501.662 L 83828.477,451501.548 L 83827.345,451501.45 L 83826.213,451501.367 L 83825.079,451501.299 L 83823.944,451501.247 L 83822.81,451501.21 L 83822.365,451501.162 L 83821.922,451501.097 L 83821.482,451501.016 L 83821.045,451500.92 L 83820.611,451500.809 L 83820.181,451500.683 L 83819.757,451500.541 L 83819.338,451500.386 L 83818.923,451500.215 L 83818.516,451500.031 L 83818.116,451499.83 L 83817.723,451499.617 L 83817.336,451499.391 L 83816.959,451499.15 L 83816.591,451498.897 L 83816.231,451498.631 L 83815.881,451498.352 L 83815.54,451498.06 L 83815.211,451497.759 L 83814.892,451497.445 L 83814.584,451497.12 L 83814.288,451496.783 L 83814.004,451496.438 L 83813.732,451496.082 L 83813.474,451495.717 L 83813.227,451495.343 L 83812.995,451494.96 L 83812.776,451494.571 L 83812.57,451494.174 L 83812.379,451493.768 L 83812.201,451493.357 L 83812.04,451492.941 L 83811.774,451491.899 L 83811.521,451490.854 L 83811.282,451489.806 L 83811.056,451488.754 L 83810.842,451487.701 L 83810.641,451486.643 L 83810.453,451485.586 L 83810.279,451484.525 L 83810.116,451483.461 L 83809.967,451482.397 L 83809.828,451481.253 L 83809.702,451480.105 L 83809.593,451478.959 L 83809.5,451477.809 L 83809.422,451476.659 L 83809.36,451475.507 L 83809.313,451474.355 L 83809.281,451473.203 L 83809.266,451472.049 L 83809.266,451470.897 L 83809.28,451469.743 L 83809.311,451468.592 L 83809.358,451467.439 L 83809.421,451466.287 L 83809.498,451465.137 L 83809.591,451463.988 L 83809.7,451462.84 L 83789.839,451461.02 L 83775.4,451456.308 L 83774.239,451455.931 L 83752.04,451445.18 L 83748.556,451442.441 L 83744.432,451439.165 L 83706.999,451405.711 L 83694.523,451392.026 L 83680.0,451376.1 L 83655.0,451344.501 L 83652.396,451340.536 L 83632.999,451311.001 L 83615.355,451277.359 L 83612.52,451271.65 L 83603.841,451249.633 L 83598.063,451234.977 L 83587.539,451200.488 L 83574.716,451144.994 L 83627.109,451094.711 L 83629.419,451070.931 L 83632.038,451057.173 L 83595.698,451019.345 L 83689.614,450882.937 L 83834.06,450673.136 L 83845.03,450679.421 L 83850.219,450670.03 L 83855.179,450659.001 L 83865.418,450635.077 L 83863.259,450626.521 L 83862.32,450617.321 L 83863.53,450594.9 L 83869.77,450552.09 L 83882.789,450504.361 L 83912.6,450430.89 L 83935.891,450373.882 L 83951.5,450282.0 L 83968.21,450182.02 L 83969.849,450161.89 L 83973.26,450133.431 L 83977.749,450098.88 L 83981.98,450068.37 L 83986.87,450068.85 L 83998.169,450003.58 L 84000.379,449992.65 L 84017.729,449918.52 L 84042.85,449820.031 L 84068.1,449715.17 L 84082.849,449653.11 L 84154.94,449625.64 L 84197.155,449563.018 L 84207.502,449547.67 L 84222.049,449526.09 L 84233.139,449509.59 L 84254.999,449482.7 L 84265.091,449467.612 L 84313.64,449395.021 L 84352.05,449338.33 L 84355.269,449332.19 L 84357.179,449325.3 L 84357.849,449320.421 L 84356.17,449314.02 L 84351.299,449303.56 L 84345.799,449295.54 L 84337.671,449283.211 L 84334.087,449277.777 L 84332.047,449274.684 L 84331.716,449274.183 L 84338.608,449267.672 L 84338.604,449267.083 L 84338.484,449250.576 L 84338.389,449237.45 L 84352.17,449225.026 L 84379.825,449244.01 L 84411.261,449266.258 L 84425.544,449276.366 L 84487.499,449187.819 L 84564.602,449240.052 L 84573.175,449245.859 L 84581.68,449251.62 L 84582.196,449251.97 L 84671.124,449312.248 L 84671.496,449312.48 L 84680.672,449318.208 L 84693.978,449326.515 L 84702.389,449332.13 L 84722.819,449345.772 L 84723.142,449345.995 L 84738.363,449356.49 L 84748.296,449363.338 L 84761.124,449372.478 L 84917.516,449483.9 L 85048.799,449575.014 L 85060.883,449583.401 L 85061.177,449583.608 L 85083.71,449599.416 L 85124.382,449628.015 L 85172.501,449660.704 L 85176.726,449663.271 L 85184.081,449669.397 L 85259.735,449721.956 L 85296.739,449748.187 L 85324.995,449768.218 L 85357.667,449791.287 L 85390.425,449814.232 L 85423.268,449837.054 L 85439.118,449847.952 L 85441.409,449844.4 L 85443.466,449841.204 L 85445.464,449838.1 L 85446.342,449836.736 L 85453.577,449825.501 L 85455.958,449826.985 L 85636.781,449541.239 L 85640.06,449535.897 L 85641.098,449536.593 L 85645.022,449530.2 L 85643.985,449529.505 L 85678.541,449473.224 L 85707.14,449426.823 L 85806.989,449269.644 L 85807.239,449269.249 L 85815.567,449256.139 L 85816.597,449254.517 L 85824.255,449242.462 L 85826.009,449239.705 L 85826.702,449238.614 L 85828.973,449235.037 L 85852.741,449197.619 L 85853.998,449195.642 L 85857.97,449189.387 L 86002.503,449286.808 L 86043.057,449312.344 L 86064.933,449329.39 L 86135.331,449373.359 L 86146.014,449379.96 L 86158.976,449384.797 L 86174.201,449392.01 L 86179.25,449395.371 L 86190.537,449404.292 L 86216.971,449436.606 L 86219.816,449439.767 L 86231.702,449442.024 L 86289.956,449480.93 L 86309.373,449492.07 L 86370.357,449533.15 L 86422.904,449566.461 L 86458.388,449591.422 L 86473.738,449599.807 L 86515.918,449629.029 L 86546.568,449652.469 L 86607.022,449694.683 L 86696.163,449758.026 L 86740.049,449789.156 L 86783.852,449818.769 L 86822.692,449848.73 L 86826.555,449852.397 L 86838.839,449864.064 L 86841.226,449867.683 L 86842.265,449871.372 L 86842.395,449875.106 L 86841.615,449879.214 L 86836.776,449888.12 L 86837.225,449890.203 L 86835.5,449892.847 L 86834.083,449891.94 L 86831.648,449895.387 L 86828.532,449899.315 L 86820.688,449910.264 L 86817.531,449915.625 L 86812.509,449923.451 L 86812.485,449923.497 L 86811.502,449925.438 L 86809.253,449928.251 L 86807.865,449929.986 L 86805.865,449931.203 L 86802.581,449934.192 L 86795.688,449942.292 L 86793.026,449945.694 L 86788.655,449951.274 L 86783.485,449959.385 L 86777.04,449969.352 L 86774.367,449973.952 L 86772.743,449976.748 L 86764.701,449992.483 L 86762.369,449995.725 L 86760.458,449998.418 L 86758.391,450001.336 L 86755.815,450006.21 L 86755.465,450006.783 L 86742.186,450028.544 L 86731.781,450045.958 L 86731.537,450046.367 L 86723.431,450060.382 L 86717.435,450071.504 L 86717.132,450072.939 L 86714.242,450077.828 L 86711.886,450080.685 L 86711.325,450081.367 L 86707.169,450086.03 L 86699.567,450097.359 L 86695.572,450103.595 L 86690.772,450109.902 L 86684.991,450117.642 L 86682.156,450120.866 L 86676.977,450126.858 L 86676.77,450127.095 L 86669.462,450138.367 L 86664.779,450145.669 L 86662.046,450150.214 L 86659.879,450153.815 L 86657.631,450156.875 L 86650.576,450165.45 L 86646.298,450171.551 L 86645.166,450173.165 L 86640.128,450181.081 L 86636.874,450185.425 L 86634.165,450189.041 L 86632.622,450190.998 L 86629.08,450195.489 L 86624.414,450201.804 L 86621.616,450206.961 L 86619.952,450210.316 L 86615.162,450217.405 L 86614.789,450217.924 L 86611.054,450223.123 L 86609.658,450225.24 L 86607.56,450228.424 L 86607.331,450228.773 L 86605.029,450232.263 L 86602.688,450235.812 L 86594.62,450248.048 L 86587.192,450259.58 L 86585.977,450261.465 L 86575.587,450276.213 L 86566.761,450288.348 L 86565.652,450289.875 L 86559.884,450297.441 L 86548.894,450313.245 L 86543.736,450320.661 L 86537.927,450328.765 L 86534.085,450335.172 L 86531.073,450340.086 L 86530.907,450340.457 L 86530.522,450341.31 L 86529.857,450342.402 L 86528.442,450343.877 L 86524.555,450348.596 L 86519.389,450355.429 L 86511.15,450367.512 L 86504.205,450377.194 L 86493.466,450392.163 L 86488.013,450399.821 L 86487.998,450399.844 L 86471.606,450424.453 L 86465.852,450433.093 L 86464.736,450435.019 L 86459.475,450444.088 L 86455.584,450450.8 L 86454.327,450452.688 L 86452.086,450456.051 L 86441.637,450471.738 L 86437.005,450478.69 L 86432.843,450484.459 L 86428.709,450481.446 L 86425.081,450478.803 L 86421.621,450483.64 L 86415.203,450492.613 L 86410.71,450498.897 L 86408.529,450502.038 L 86406.364,450505.158 L 86404.703,450507.552 L 86397.378,450502.496 L 86368.378,450482.485 L 86365.955,450480.813 L 86366.216,450484.336 L 86348.486,450487.335 L 86314.999,450493.0 L 86192.999,450412.0 L 85972.0,450262.0 L 85932.545,450251.158 L 85925.049,450245.931 L 85916.146,450239.722 L 85880.633,450214.957 L 85879.705,450216.248 L 85858.442,450244.952 L 85855.425,450250.691 L 85851.154,450258.887 L 85847.91,450265.112 L 85832.038,450284.546 L 85800.707,450322.297 L 85780.981,450343.91 L 85718.638,450412.588 L 85597.079,450547.761 L 85536.218,450616.096 L 85464.175,450695.742 L 85393.827,450774.093 L 85393.478,450774.479 L 85395.208,450776.296 L 85599.531,450991.079 L 85606.533,450998.438 L 85609.631,451001.695 L 85642.179,451035.908 L 85642.941,451036.708 L 85673.153,451068.466 L 85673.684,451069.024 L 85675.269,451070.691 L 85690.104,451086.285 L 85704.081,451100.978 L 85726.483,451124.525 L 85734.548,451133.005 L 85759.607,451159.344 L 85764.326,451164.307 L 85786.612,451187.733 L 85813.858,451216.373 L 85854.488,451259.081 L 85858.052,451255.168 L 85868.75,451274.073 L 85908.938,451316.318 L 85913.418,451321.028 L 85925.852,451334.098 L 85929.872,451338.325 L 85975.571,451386.362 L 86004.655,451416.934 L 86006.457,451418.829 L 86006.636,451419.018 L 86014.336,451427.111 L 86046.592,451461.018 L 86111.572,451529.324 L 86123.744,451542.12 L 86143.784,451563.185 L 86154.107,451574.036 L 86176.394,451597.462 L 86208.937,451631.672 L 86210.439,451633.249 L 86241.62,451666.028 L 86241.695,451666.105 L 86278.102,451704.377 L 86306.487,451734.214 L 86308.638,451736.474 L 86330.727,451759.692 L 86332.837,451761.909 L 86405.5,451838.294 L 86456.112,451891.494 L 86458.944,451894.473 L 86459.777,451895.348 L 86464.428,451889.648 L 86480.617,451870.513 L 86489.045,451860.824 L 86492.986,451857.135 L 86493.352,451856.712 L 86496.671,451852.858 L 86497.512,451851.881 L 86500.087,451848.286 L 86503.251,451844.08 L 86506.547,451840.772 L 86511.016,451835.991 L 86518.073,451828.214 L 86525.132,451821.29 L 86528.122,451818.196 L 86534.985,451810.515 L 86557.734,451785.475 L 86564.673,451777.57 L 86566.588,451775.123 L 86569.393,451771.219 L 86575.676,451764.182 L 86580.416,451772.303 L 86598.149,451802.699 L 86601.309,451799.675 L 86602.804,451802.531 L 86624.018,451843.026 L 86627.578,451846.031 L 86627.818,451846.407 L 86680.941,451945.96 L 86699.4,451962.78 L 86687.309,451974.853 L 86678.501,451984.238 L 86683.307,451990.424 L 86686.769,451994.247 L 86701.751,452010.791 L 86705.853,452015.797 L 86709.807,452020.623 L 86718.258,452031.104 L 86732.687,452050.002 L 86734.727,452053.222 L 86742.85,452066.045 L 86748.615,452074.624 L 86751.577,452079.029 L 86760.509,452090.918 L 86761.138,452091.755 L 86762.647,452093.764 L 86768.288,452101.274 L 86780.181,452116.531 L 86799.327,452098.224 L 86816.564,452081.574 L 86822.041,452087.515 L 86822.532,452088.075 L 86824.665,452090.512 L 86837.833,452105.034 L 86840.435,452107.903 L 86836.941,452111.191 L 86841.919,452117.302 L 86847.383,452122.318 L 86859.62,452133.558 L 86861.2,452135.149 L 86849.821,452149.686 L 86849.489,452150.112 L 86848.166,452151.802 L 86847.844,452152.213 L 86867.936,452162.148 L 86885.01,452178.225 L 86893.075,452190.59 L 86904.351,452207.875 L 86908.999,452215.0 L 86930.333,452199.001 L 86932.999,452197.0 L 86933.999,452185.001 L 86935.549,452182.34 L 86940.852,452173.227 L 86946.065,452164.275 L 86948.189,452160.627 L 87003.554,452094.767 L 87178.693,451886.717 L 87180.429,451888.751 L 87208.314,451922.001 L 87209.108,451922.948 L 87211.022,451925.29 L 87238.018,451957.386 L 87285.236,452013.521 L 87316.885,452051.147 L 87345.742,452085.454 L 87355.48,452097.03 L 87361.04,452103.641 L 87362.126,452104.932 L 87383.246,452130.041 z\" /></g></svg>"
      ],
      "text/plain": [
       "<shapely.geometry.polygon.Polygon at 0x217d98b4d88>"
      ]
     },
     "execution_count": 205,
     "metadata": {},
     "output_type": "execute_result"
    }
   ],
   "source": [
    "df['geometrie-#text'][0]"
   ]
  },
  {
   "cell_type": "code",
   "execution_count": 238,
   "metadata": {},
   "outputs": [],
   "source": [
    "df.to_csv(\"WPL.csv\", index=False)\n",
    "df.to_parquet(\"WPL.parquet\")"
   ]
  },
  {
   "cell_type": "markdown",
   "metadata": {},
   "source": [
    "# STA"
   ]
  },
  {
   "cell_type": "code",
   "execution_count": 207,
   "metadata": {},
   "outputs": [],
   "source": [
    "with open('BAGGEM0518L-15122020/0518GEM15122020/0518STA15122020/0518STA15122020-000001.xml') as xml_file:\n",
    "    data_dict = xmltodict.parse(xml_file.read())\n",
    "\n",
    "json_data = json.dumps(data_dict)\n",
    "res= json.loads(json_data)"
   ]
  },
  {
   "cell_type": "code",
   "execution_count": 208,
   "metadata": {},
   "outputs": [],
   "source": [
    "a = res.get('sl-bag-extract:bagStand').get('sl:standBestand').get('sl:stand')[0].get('sl-bag-extract:bagObject').get('Objecten:Standplaats')\n",
    "res_keys = {k:[] for k in a.keys()}\n",
    "k=0\n",
    "for i in range(len(res.get('sl-bag-extract:bagStand').get('sl:standBestand').get('sl:stand'))):\n",
    "    a = res.get('sl-bag-extract:bagStand').get('sl:standBestand').get('sl:stand')[i].get('sl-bag-extract:bagObject').get('Objecten:Standplaats')\n",
    "    for index, key in enumerate(a.keys()):\n",
    "        try:\n",
    "            res_keys[key].append(a[key])\n",
    "        except:\n",
    "            issues.append(k)\n",
    "            continue"
   ]
  },
  {
   "cell_type": "code",
   "execution_count": 209,
   "metadata": {},
   "outputs": [],
   "source": [
    "df = pd.DataFrame(columns = list(res_keys.keys()))\n",
    "for index, key in enumerate(res_keys.keys()):\n",
    "    df[key] = res_keys[key]"
   ]
  },
  {
   "cell_type": "code",
   "execution_count": 210,
   "metadata": {},
   "outputs": [
    {
     "name": "stderr",
     "output_type": "stream",
     "text": [
      "100%|█████████████████████████████████████████████████████████████████████████████| 400/400 [00:00<00:00, 57065.36it/s]\n"
     ]
    }
   ],
   "source": [
    "# keynames = list(df['Objecten:geometrie'][100].get('Objecten:punt').get(\"gml:Point\").keys())\n",
    "_keys = {k:[] for k in df['Objecten:geometrie'][0].get('gml:Polygon').keys()}\n",
    "for i in tqdm(range(len(df)), total=len(df)):\n",
    "    for index, key in enumerate(_keys.keys()):\n",
    "        try:\n",
    "            _keys[key].append(df['Objecten:geometrie'][i].get('gml:Polygon').get(key))\n",
    "        except:\n",
    "            _keys[key].append(None)"
   ]
  },
  {
   "cell_type": "code",
   "execution_count": 211,
   "metadata": {},
   "outputs": [],
   "source": [
    "new_keys = [f\"geometrie-{k}\" for k in _keys.keys()]\n",
    "for key,n_key in zip(_keys.keys(), new_keys):\n",
    "    _keys[n_key] = _keys.pop(key)"
   ]
  },
  {
   "cell_type": "code",
   "execution_count": 212,
   "metadata": {},
   "outputs": [],
   "source": [
    "geometries = pd.DataFrame(columns = _keys.keys())\n",
    "for index, key in enumerate(_keys.keys()):\n",
    "    geometries[key] = _keys[key]\n",
    "    \n",
    "df = pd.concat([df, geometries],axis=1)"
   ]
  },
  {
   "cell_type": "code",
   "execution_count": 213,
   "metadata": {},
   "outputs": [
    {
     "name": "stderr",
     "output_type": "stream",
     "text": [
      "100%|█████████████████████████████████████████████████████████████████████████████| 400/400 [00:00<00:00, 79952.42it/s]\n"
     ]
    }
   ],
   "source": [
    "# keynames = list(df['Objecten:geometrie'][100].get('Objecten:punt').get(\"gml:Point\").keys())\n",
    "_keys = {k:[] for k in df['Objecten:geometrie'][0].get('gml:Polygon').get('gml:exterior').get('gml:LinearRing').get('gml:posList').keys()}\n",
    "for i in tqdm(range(len(df)), total=len(df)):\n",
    "    for index, key in enumerate(_keys.keys()):\n",
    "        try:\n",
    "            _keys[key].append(df['Objecten:geometrie'][i].get('gml:Polygon').get('gml:exterior').get('gml:LinearRing').get('gml:posList').get(key))\n",
    "        except:\n",
    "            _keys[key].append(None)"
   ]
  },
  {
   "cell_type": "code",
   "execution_count": 214,
   "metadata": {},
   "outputs": [],
   "source": [
    "new_keys = [f\"geometrie-{k}\" for k in _keys.keys()]\n",
    "for key,n_key in zip(_keys.keys(), new_keys):\n",
    "    _keys[n_key] = _keys.pop(key)"
   ]
  },
  {
   "cell_type": "code",
   "execution_count": 215,
   "metadata": {},
   "outputs": [],
   "source": [
    "geometries = pd.DataFrame(columns = _keys.keys())\n",
    "for index, key in enumerate(_keys.keys()):\n",
    "    geometries[key] = _keys[key]\n",
    "    \n",
    "df = pd.concat([df, geometries],axis=1)"
   ]
  },
  {
   "cell_type": "code",
   "execution_count": 226,
   "metadata": {},
   "outputs": [],
   "source": [
    "df.to_csv(\"STA.csv\", index=False)\n",
    "df.to_parquet(\"STA.parquet\")"
   ]
  },
  {
   "cell_type": "code",
   "execution_count": 217,
   "metadata": {},
   "outputs": [],
   "source": [
    "df['geometrie-#text'] = df['geometrie-#text'].apply(lambda x: to_polygon(x))"
   ]
  },
  {
   "cell_type": "code",
   "execution_count": 219,
   "metadata": {},
   "outputs": [],
   "source": [
    "df = gpd.GeoDataFrame(df, geometry=\"geometrie-#text\")"
   ]
  },
  {
   "cell_type": "code",
   "execution_count": 225,
   "metadata": {},
   "outputs": [
    {
     "data": {
      "text/plain": [
       "<AxesSubplot:>"
      ]
     },
     "execution_count": 225,
     "metadata": {},
     "output_type": "execute_result"
    },
    {
     "data": {
      "image/png": "[encoded data removed]",
      "text/plain": [
       "<Figure size 720x720 with 1 Axes>"
      ]
     },
     "metadata": {
      "needs_background": "light"
     },
     "output_type": "display_data"
    }
   ],
   "source": [
    "df.plot(color=\"black\", figsize=(10,10))"
   ]
  },
  {
   "cell_type": "markdown",
   "metadata": {},
   "source": [
    "# OPR"
   ]
  },
  {
   "cell_type": "code",
   "execution_count": 391,
   "metadata": {},
   "outputs": [],
   "source": [
    "with open('BAGGEM0518L-15122020/0518GEM15122020/0518OPR15122020/0518OPR15122020-000001.xml') as xml_file:\n",
    "    data_dict = xmltodict.parse(xml_file.read())\n",
    "\n",
    "json_data = json.dumps(data_dict)\n",
    "res= json.loads(json_data)"
   ]
  },
  {
   "cell_type": "code",
   "execution_count": 394,
   "metadata": {},
   "outputs": [],
   "source": [
    "issues = []\n",
    "a = res.get('sl-bag-extract:bagStand').get('sl:standBestand').get('sl:stand')[16].get('sl-bag-extract:bagObject').get('Objecten:OpenbareRuimte')\n",
    "res_keys = {k:[] for k in a.keys()}\n",
    "k=0\n",
    "for num in range(len(res.get('sl-bag-extract:bagStand').get('sl:standBestand').get('sl:stand'))):\n",
    "    k+=1\n",
    "    a=res.get('sl-bag-extract:bagStand').get('sl:standBestand').get('sl:stand')[num].get('sl-bag-extract:bagObject').get('Objecten:OpenbareRuimte')\n",
    "    for index, key in enumerate(res_keys.keys()):\n",
    "        try:\n",
    "            res_keys[key].append(a[key])\n",
    "        except:\n",
    "            res_keys[key].append(None)\n",
    "#                 print(k, a[key])\n",
    "#                 issues.append(k)\n",
    "            continue"
   ]
  },
  {
   "cell_type": "code",
   "execution_count": 396,
   "metadata": {},
   "outputs": [],
   "source": [
    "df = pd.DataFrame(columns = list(res_keys.keys()))\n",
    "for index, key in enumerate(res_keys.keys()):\n",
    "    df[key] = res_keys[key]"
   ]
  },
  {
   "cell_type": "code",
   "execution_count": 405,
   "metadata": {},
   "outputs": [
    {
     "name": "stderr",
     "output_type": "stream",
     "text": [
      "100%|██████████████████████████████████████████████████████████████████████████| 3599/3599 [00:00<00:00, 105181.27it/s]\n"
     ]
    }
   ],
   "source": [
    "# keynames = list(df['Objecten:geometrie'][100].get('Objecten:punt').get(\"gml:Point\").keys())\n",
    "_keys = {k:[] for k in df['Objecten:identificatie'][0].keys()}\n",
    "for i in tqdm(range(len(df)), total=len(df)):\n",
    "    for index, key in enumerate(_keys.keys()):\n",
    "        try:\n",
    "            _keys[key].append(df['Objecten:identificatie'][i].get(key))\n",
    "        except:\n",
    "            _keys[key].append(None)"
   ]
  },
  {
   "cell_type": "code",
   "execution_count": 406,
   "metadata": {},
   "outputs": [],
   "source": [
    "new_keys = [f\"identificatie-{k}\" for k in _keys.keys()]\n",
    "for key,n_key in zip(_keys.keys(), new_keys):\n",
    "    _keys[n_key] = _keys.pop(key)"
   ]
  },
  {
   "cell_type": "code",
   "execution_count": 407,
   "metadata": {},
   "outputs": [],
   "source": [
    "identificatie = pd.DataFrame(columns = _keys.keys())\n",
    "for index, key in enumerate(_keys.keys()):\n",
    "    identificatie[key] = _keys[key]\n",
    "    \n",
    "df = pd.concat([df, identificatie],axis=1)"
   ]
  },
  {
   "cell_type": "code",
   "execution_count": 408,
   "metadata": {},
   "outputs": [
    {
     "name": "stderr",
     "output_type": "stream",
     "text": [
      "100%|██████████████████████████████████████████████████████████████████████████| 3599/3599 [00:00<00:00, 102712.87it/s]\n"
     ]
    }
   ],
   "source": [
    "# keynames = list(df['Objecten:geometrie'][100].get('Objecten:punt').get(\"gml:Point\").keys())\n",
    "_keys = {k:[] for k in df['Objecten:ligtIn'][0].get('Objecten-ref:WoonplaatsRef').keys()}\n",
    "for i in tqdm(range(len(df)), total=len(df)):\n",
    "    for index, key in enumerate(_keys.keys()):\n",
    "        try:\n",
    "            _keys[key].append(df['Objecten:ligtIn'][i].get('Objecten-ref:WoonplaatsRef').get(key))\n",
    "        except:\n",
    "            _keys[key].append(None)"
   ]
  },
  {
   "cell_type": "code",
   "execution_count": 409,
   "metadata": {},
   "outputs": [],
   "source": [
    "new_keys = [f\"ligtIn-{k}\" for k in _keys.keys()]\n",
    "for key,n_key in zip(_keys.keys(), new_keys):\n",
    "    _keys[n_key] = _keys.pop(key)"
   ]
  },
  {
   "cell_type": "code",
   "execution_count": 410,
   "metadata": {},
   "outputs": [],
   "source": [
    "ligtIn = pd.DataFrame(columns = _keys.keys())\n",
    "for index, key in enumerate(_keys.keys()):\n",
    "    ligtIn[key] = _keys[key]\n",
    "    \n",
    "df = pd.concat([df, ligtIn],axis=1)"
   ]
  },
  {
   "cell_type": "code",
   "execution_count": 411,
   "metadata": {},
   "outputs": [
    {
     "name": "stderr",
     "output_type": "stream",
     "text": [
      "100%|███████████████████████████████████████████████████████████████████████████| 3599/3599 [00:00<00:00, 51347.18it/s]\n"
     ]
    }
   ],
   "source": [
    "# keynames = list(df['Objecten:geometrie'][100].get('Objecten:punt').get(\"gml:Point\").keys())\n",
    "_keys = {k:[] for k in df['Objecten:voorkomen'][0].get('Historie:Voorkomen').keys()}\n",
    "for i in tqdm(range(len(df)), total=len(df)):\n",
    "    for index, key in enumerate(_keys.keys()):\n",
    "        try:\n",
    "            _keys[key].append(df['Objecten:voorkomen'][i].get('Historie:Voorkomen').get(key))\n",
    "        except:\n",
    "            _keys[key].append(None)"
   ]
  },
  {
   "cell_type": "code",
   "execution_count": 412,
   "metadata": {},
   "outputs": [],
   "source": [
    "voorkomen = pd.DataFrame(columns = _keys.keys())\n",
    "for index, key in enumerate(_keys.keys()):\n",
    "    voorkomen[key] = _keys[key]\n",
    "    \n",
    "df = pd.concat([df, voorkomen],axis=1)"
   ]
  },
  {
   "cell_type": "code",
   "execution_count": 414,
   "metadata": {},
   "outputs": [
    {
     "name": "stderr",
     "output_type": "stream",
     "text": [
      "100%|██████████████████████████████████████████████████████████████████████████| 3599/3599 [00:00<00:00, 163127.18it/s]\n"
     ]
    }
   ],
   "source": [
    "# keynames = list(df['Objecten:geometrie'][100].get('Objecten:punt').get(\"gml:Point\").keys())\n",
    "_keys = {k:[] for k in df['Objecten:voorkomen'][0].get('Historie:Voorkomen').get('Historie:BeschikbaarLV').keys()}\n",
    "for i in tqdm(range(len(df)), total=len(df)):\n",
    "    for index, key in enumerate(_keys.keys()):\n",
    "        try:\n",
    "            _keys[key].append(df['Objecten:voorkomen'][i].get('Historie:Voorkomen').get('Historie:BeschikbaarLV').get(key))\n",
    "        except:\n",
    "            _keys[key].append(None)"
   ]
  },
  {
   "cell_type": "code",
   "execution_count": 415,
   "metadata": {},
   "outputs": [],
   "source": [
    "voorkomen = pd.DataFrame(columns = _keys.keys())\n",
    "for index, key in enumerate(_keys.keys()):\n",
    "    voorkomen[key] = _keys[key]\n",
    "    \n",
    "df = pd.concat([df, voorkomen],axis=1)"
   ]
  },
  {
   "cell_type": "code",
   "execution_count": 432,
   "metadata": {},
   "outputs": [
    {
     "name": "stderr",
     "output_type": "stream",
     "text": [
      "100%|██████████████████████████████████████████████████████████████████████████| 3599/3599 [00:00<00:00, 198220.71it/s]\n"
     ]
    }
   ],
   "source": [
    "# keynames = list(df['Objecten:geometrie'][100].get('Objecten:punt').get(\"gml:Point\").keys())\n",
    "_keys = {k:[] for k in df[~df[\"Objecten:verkorteNaam\"].isna()][\"Objecten:verkorteNaam\"].iloc[0].get('nen5825:VerkorteNaamOpenbareRuimte').keys()}\n",
    "for i in tqdm(range(len(df)), total=len(df)):\n",
    "    for index, key in enumerate(_keys.keys()):\n",
    "        try:\n",
    "            _keys[key].append(df['Objecten:verkorteNaam'][i].get('nen5825:VerkorteNaamOpenbareRuimte').get(key))\n",
    "        except:\n",
    "            _keys[key].append(None)"
   ]
  },
  {
   "cell_type": "code",
   "execution_count": 433,
   "metadata": {},
   "outputs": [],
   "source": [
    "new_keys = [f\"verkorteNaam-{k}\" for k in _keys.keys()]\n",
    "for key,n_key in zip(_keys.keys(), new_keys):\n",
    "    _keys[n_key] = _keys.pop(key)"
   ]
  },
  {
   "cell_type": "code",
   "execution_count": 434,
   "metadata": {},
   "outputs": [],
   "source": [
    "verkorteNaam = pd.DataFrame(columns = _keys.keys())\n",
    "for index, key in enumerate(_keys.keys()):\n",
    "    verkorteNaam[key] = _keys[key]\n",
    "    \n",
    "df = pd.concat([df, verkorteNaam],axis=1)"
   ]
  },
  {
   "cell_type": "code",
   "execution_count": 438,
   "metadata": {},
   "outputs": [],
   "source": [
    "df.to_csv(\"OPR.csv\", index=False)\n",
    "df.to_parquet(\"OPR.parquet\")"
   ]
  },
  {
   "cell_type": "markdown",
   "metadata": {},
   "source": [
    "# LIG"
   ]
  },
  {
   "cell_type": "code",
   "execution_count": 439,
   "metadata": {},
   "outputs": [],
   "source": [
    "with open('BAGGEM0518L-15122020/0518GEM15122020/0518LIG15122020/0518LIG15122020-000001.xml') as xml_file:\n",
    "    data_dict = xmltodict.parse(xml_file.read())\n",
    "\n",
    "json_data = json.dumps(data_dict)\n",
    "res= json.loads(json_data)"
   ]
  },
  {
   "cell_type": "code",
   "execution_count": 446,
   "metadata": {},
   "outputs": [],
   "source": [
    "issues=[]\n",
    "a = res.get('sl-bag-extract:bagStand').get('sl:standBestand').get('sl:stand')[0].get('sl-bag-extract:bagObject').get('Objecten:Ligplaats')\n",
    "res_keys = {k:[] for k in a.keys()}\n",
    "k=0\n",
    "for i in range(len(res.get('sl-bag-extract:bagStand').get('sl:standBestand').get('sl:stand'))):\n",
    "    a = res.get('sl-bag-extract:bagStand').get('sl:standBestand').get('sl:stand')[i].get('sl-bag-extract:bagObject').get('Objecten:Ligplaats')\n",
    "    for index, key in enumerate(a.keys()):\n",
    "        try:\n",
    "            res_keys[key].append(a[key])\n",
    "        except:\n",
    "            res_keys[key].append(None)\n",
    "            issues.append(k)\n",
    "            continue\n",
    "        k+=1"
   ]
  },
  {
   "cell_type": "code",
   "execution_count": 447,
   "metadata": {},
   "outputs": [],
   "source": [
    "df = pd.DataFrame(columns = list(res_keys.keys()))\n",
    "for index, key in enumerate(res_keys.keys()):\n",
    "    df[key] = res_keys[key]"
   ]
  },
  {
   "cell_type": "code",
   "execution_count": 453,
   "metadata": {},
   "outputs": [
    {
     "data": {
      "text/plain": [
       "{'@domein': 'NL.IMBAG.Nummeraanduiding', '#text': '0518200000896868'}"
      ]
     },
     "execution_count": 453,
     "metadata": {},
     "output_type": "execute_result"
    }
   ],
   "source": [
    "df['Objecten:heeftAlsHoofdadres'][100].get('Objecten-ref:NummeraanduidingRef')"
   ]
  },
  {
   "cell_type": "code",
   "execution_count": 454,
   "metadata": {},
   "outputs": [
    {
     "name": "stderr",
     "output_type": "stream",
     "text": [
      "100%|████████████████████████████████████████████████████████████████████████████| 230/230 [00:00<00:00, 114571.25it/s]\n"
     ]
    }
   ],
   "source": [
    "# keynames = list(df['Objecten:heeftAlsHoofdadres'][100].get('Objecten-ref:NummeraanduidingRef').keys())\n",
    "_keys = {k:[] for k in df['Objecten:heeftAlsHoofdadres'][100].get('Objecten-ref:NummeraanduidingRef').keys()}\n",
    "for i in tqdm(range(len(df)), total=len(df)):\n",
    "    for index, key in enumerate(_keys.keys()):\n",
    "        try:\n",
    "            _keys[key].append(df['Objecten:heeftAlsHoofdadres'][i].get('Objecten-ref:NummeraanduidingRef').get(key))\n",
    "        except:\n",
    "            _keys[key].append(None)"
   ]
  },
  {
   "cell_type": "code",
   "execution_count": 455,
   "metadata": {},
   "outputs": [],
   "source": [
    "new_keys = [f\"heeftAlsHoofdadres-{k}\" for k in _keys.keys()]\n",
    "for key,n_key in zip(_keys.keys(), new_keys):\n",
    "    _keys[n_key] = _keys.pop(key)"
   ]
  },
  {
   "cell_type": "code",
   "execution_count": 456,
   "metadata": {},
   "outputs": [],
   "source": [
    "heeftAlsHoofdadres = pd.DataFrame(columns = _keys.keys())\n",
    "for index, key in enumerate(_keys.keys()):\n",
    "    heeftAlsHoofdadres[key] = _keys[key]\n",
    "    \n",
    "df = pd.concat([df, heeftAlsHoofdadres],axis=1)"
   ]
  },
  {
   "cell_type": "code",
   "execution_count": 462,
   "metadata": {},
   "outputs": [
    {
     "name": "stderr",
     "output_type": "stream",
     "text": [
      "100%|█████████████████████████████████████████████████████████████████████████████| 230/230 [00:00<00:00, 46047.25it/s]\n"
     ]
    }
   ],
   "source": [
    "# keynames = list(df['Objecten:heeftAlsHoofdadres'][100].get('Objecten-ref:NummeraanduidingRef').keys())\n",
    "_keys = {k:[] for k in df['Objecten:voorkomen'][100].get('Historie:Voorkomen').keys()}\n",
    "for i in tqdm(range(len(df)), total=len(df)):\n",
    "    for index, key in enumerate(_keys.keys()):\n",
    "        try:\n",
    "            _keys[key].append(df['Objecten:voorkomen'][i].get('Historie:Voorkomen').get(key))\n",
    "        except:\n",
    "            _keys[key].append(None)"
   ]
  },
  {
   "cell_type": "code",
   "execution_count": 463,
   "metadata": {},
   "outputs": [],
   "source": [
    "voorkomen = pd.DataFrame(columns = _keys.keys())\n",
    "for index, key in enumerate(_keys.keys()):\n",
    "    voorkomen[key] = _keys[key]\n",
    "    \n",
    "df = pd.concat([df, voorkomen],axis=1)"
   ]
  },
  {
   "cell_type": "code",
   "execution_count": 468,
   "metadata": {},
   "outputs": [
    {
     "name": "stderr",
     "output_type": "stream",
     "text": [
      "100%|████████████████████████████████████████████████████████████████████████████| 230/230 [00:00<00:00, 115214.37it/s]\n"
     ]
    }
   ],
   "source": [
    "# keynames = list(df['Objecten:heeftAlsHoofdadres'][100].get('Objecten-ref:NummeraanduidingRef').keys())\n",
    "_keys = {k:[] for k in df['Objecten:voorkomen'][100].get('Historie:Voorkomen').get('Historie:BeschikbaarLV').keys()}\n",
    "for i in tqdm(range(len(df)), total=len(df)):\n",
    "    for index, key in enumerate(_keys.keys()):\n",
    "        try:\n",
    "            _keys[key].append(df['Objecten:voorkomen'][i].get('Historie:Voorkomen').get('Historie:BeschikbaarLV').get(key))\n",
    "        except:\n",
    "            _keys[key].append(None)"
   ]
  },
  {
   "cell_type": "code",
   "execution_count": 469,
   "metadata": {},
   "outputs": [],
   "source": [
    "voorkomen = pd.DataFrame(columns = _keys.keys())\n",
    "for index, key in enumerate(_keys.keys()):\n",
    "    voorkomen[key] = _keys[key]\n",
    "    \n",
    "df = pd.concat([df, voorkomen],axis=1)"
   ]
  },
  {
   "cell_type": "code",
   "execution_count": 473,
   "metadata": {},
   "outputs": [
    {
     "name": "stderr",
     "output_type": "stream",
     "text": [
      "100%|█████████████████████████████████████████████████████████████████████████████| 230/230 [00:00<00:00, 76678.32it/s]\n"
     ]
    }
   ],
   "source": [
    "# keynames = list(df['Objecten:heeftAlsHoofdadres'][100].get('Objecten-ref:NummeraanduidingRef').keys())\n",
    "_keys = {k:[] for k in df['Objecten:identificatie'][100].keys()}\n",
    "for i in tqdm(range(len(df)), total=len(df)):\n",
    "    for index, key in enumerate(_keys.keys()):\n",
    "        try:\n",
    "            _keys[key].append(df['Objecten:identificatie'][i].get(key))\n",
    "        except:\n",
    "            _keys[key].append(None)"
   ]
  },
  {
   "cell_type": "code",
   "execution_count": 474,
   "metadata": {},
   "outputs": [],
   "source": [
    "new_keys = [f\"identificatie-{k}\" for k in _keys.keys()]\n",
    "for key,n_key in zip(_keys.keys(), new_keys):\n",
    "    _keys[n_key] = _keys.pop(key)"
   ]
  },
  {
   "cell_type": "code",
   "execution_count": 475,
   "metadata": {},
   "outputs": [],
   "source": [
    "identificatie = pd.DataFrame(columns = _keys.keys())\n",
    "for index, key in enumerate(_keys.keys()):\n",
    "    identificatie[key] = _keys[key]\n",
    "    \n",
    "df = pd.concat([df, identificatie],axis=1)"
   ]
  },
  {
   "cell_type": "code",
   "execution_count": 485,
   "metadata": {},
   "outputs": [
    {
     "name": "stderr",
     "output_type": "stream",
     "text": [
      "100%|█████████████████████████████████████████████████████████████████████████████| 230/230 [00:00<00:00, 76855.47it/s]\n"
     ]
    }
   ],
   "source": [
    "# keynames = list(df['Objecten:heeftAlsHoofdadres'][100].get('Objecten-ref:NummeraanduidingRef').keys())\n",
    "_keys = {k:[] for k in df['Objecten:geometrie'][100].get('gml:Polygon').keys()}\n",
    "for i in tqdm(range(len(df)), total=len(df)):\n",
    "    for index, key in enumerate(_keys.keys()):\n",
    "        try:\n",
    "            _keys[key].append(df['Objecten:geometrie'][i].get('gml:Polygon').get(key))\n",
    "        except:\n",
    "            _keys[key].append(None)"
   ]
  },
  {
   "cell_type": "code",
   "execution_count": 486,
   "metadata": {},
   "outputs": [],
   "source": [
    "new_keys = [f\"geometrie-{k}\" for k in _keys.keys()]\n",
    "for key,n_key in zip(_keys.keys(), new_keys):\n",
    "    _keys[n_key] = _keys.pop(key)"
   ]
  },
  {
   "cell_type": "code",
   "execution_count": 487,
   "metadata": {},
   "outputs": [],
   "source": [
    "geometrie = pd.DataFrame(columns = _keys.keys())\n",
    "for index, key in enumerate(_keys.keys()):\n",
    "    geometrie[key] = _keys[key]\n",
    "    \n",
    "df = pd.concat([df, geometrie],axis=1)"
   ]
  },
  {
   "cell_type": "code",
   "execution_count": 488,
   "metadata": {},
   "outputs": [
    {
     "name": "stderr",
     "output_type": "stream",
     "text": [
      "100%|████████████████████████████████████████████████████████████████████████████████████████| 230/230 [00:00<?, ?it/s]\n"
     ]
    }
   ],
   "source": [
    "# keynames = list(df['Objecten:heeftAlsHoofdadres'][100].get('Objecten-ref:NummeraanduidingRef').keys())\n",
    "_keys = {k:[] for k in df['Objecten:geometrie'][100].get('gml:Polygon').get('gml:exterior').get('gml:LinearRing').get('gml:posList').keys()}\n",
    "for i in tqdm(range(len(df)), total=len(df)):\n",
    "    for index, key in enumerate(_keys.keys()):\n",
    "        try:\n",
    "            _keys[key].append(df['Objecten:geometrie'][i].get('gml:Polygon').get('gml:exterior').get('gml:LinearRing').get('gml:posList').get(key))\n",
    "        except:\n",
    "            _keys[key].append(None)"
   ]
  },
  {
   "cell_type": "code",
   "execution_count": 489,
   "metadata": {},
   "outputs": [],
   "source": [
    "new_keys = [f\"geometrie-{k}\" for k in _keys.keys()]\n",
    "for key,n_key in zip(_keys.keys(), new_keys):\n",
    "    _keys[n_key] = _keys.pop(key)"
   ]
  },
  {
   "cell_type": "code",
   "execution_count": 490,
   "metadata": {},
   "outputs": [],
   "source": [
    "geometrie = pd.DataFrame(columns = _keys.keys())\n",
    "for index, key in enumerate(_keys.keys()):\n",
    "    geometrie[key] = _keys[key]\n",
    "    \n",
    "df = pd.concat([df, geometrie],axis=1)"
   ]
  },
  {
   "cell_type": "code",
   "execution_count": 492,
   "metadata": {},
   "outputs": [],
   "source": [
    "df.to_csv(\"LIG.csv\", index=False)\n",
    "df.to_parquet(\"LIG.parquet\")"
   ]
  },
  {
   "cell_type": "code",
   "execution_count": 494,
   "metadata": {},
   "outputs": [],
   "source": [
    "df['geometrie-#text'] = df['geometrie-#text'].apply(lambda x: to_polygon(x))"
   ]
  },
  {
   "cell_type": "code",
   "execution_count": 496,
   "metadata": {},
   "outputs": [],
   "source": [
    "df = gpd.GeoDataFrame(df, geometry='geometrie-#text')"
   ]
  },
  {
   "cell_type": "code",
   "execution_count": 499,
   "metadata": {},
   "outputs": [
    {
     "data": {
      "text/plain": [
       "<AxesSubplot:>"
      ]
     },
     "execution_count": 499,
     "metadata": {},
     "output_type": "execute_result"
    },
    {
     "data": {
      "image/png": "[encoded data removed]",
      "text/plain": [
       "<Figure size 720x720 with 1 Axes>"
      ]
     },
     "metadata": {
      "needs_background": "light"
     },
     "output_type": "display_data"
    }
   ],
   "source": [
    "df.plot(color=\"r\", figsize=(10,10))"
   ]
  },
  {
   "cell_type": "markdown",
   "metadata": {},
   "source": [
    "# Nietbag"
   ]
  },
  {
   "cell_type": "code",
   "execution_count": 509,
   "metadata": {},
   "outputs": [
    {
     "data": {
      "text/plain": [
       "{'@xmlns:DatatypenNEN3610': 'www.kadaster.nl/schemas/lvbag/imbag/datatypennen3610/v20200601',\n",
       " '@xmlns:Objecten': 'www.kadaster.nl/schemas/lvbag/imbag/objecten/v20200601',\n",
       " '@xmlns:gml': 'http://www.opengis.net/gml/3.2',\n",
       " '@xmlns:Historie': 'www.kadaster.nl/schemas/lvbag/imbag/historie/v20200601',\n",
       " '@xmlns:Objecten-ref': 'www.kadaster.nl/schemas/lvbag/imbag/objecten-ref/v20200601',\n",
       " '@xmlns:nen5825': 'www.kadaster.nl/schemas/lvbag/imbag/nen5825/v20200601',\n",
       " '@xmlns:KenmerkInOnderzoek': 'www.kadaster.nl/schemas/lvbag/imbag/kenmerkinonderzoek/v20200601',\n",
       " '@xmlns:selecties-extract': 'http://www.kadaster.nl/schemas/lvbag/extract-selecties/v20200601',\n",
       " '@xmlns:sl-bag-extract': 'http://www.kadaster.nl/schemas/lvbag/extract-deelbestand-lvc/v20200601',\n",
       " '@xmlns:sl': 'http://www.kadaster.nl/schemas/standlevering-generiek/1.0',\n",
       " '@xmlns:xsi': 'http://www.w3.org/2001/XMLSchema-instance',\n",
       " '@xmlns:xs': 'http://www.w3.org/2001/XMLSchema',\n",
       " '@xsi:schemaLocation': 'http://www.kadaster.nl/schemas/lvbag/extract-deelbestand-lvc/v20200601 http://www.kadaster.nl/schemas/bag-verstrekkingen/extract-deelbestand-lvc/v20200601/BagvsExtractDeelbestandExtractLvc-2.1.0.xsd',\n",
       " 'sl-bag-extract:bagInfo': {'selecties-extract:Gebied-Registratief': {'selecties-extract:Gebied-GEM': {'selecties-extract:GemeenteCollectie': {'selecties-extract:Gemeente': {'selecties-extract:GemeenteIdentificatie': '0518'}}}},\n",
       "  'selecties-extract:LVC-Extract': {'selecties-extract:StandTechnischeDatum': '2020-12-15'}},\n",
       " 'sl:standBestand': {'sl:dataset': 'LVBAG',\n",
       "  'sl:inhoud': {'sl:gebied': 'GEMEENTE',\n",
       "   'sl:leveringsId': '0000000001',\n",
       "   'sl:objectTypen': {'sl:objectType': 'LIG'}}}}"
      ]
     },
     "execution_count": 509,
     "metadata": {},
     "output_type": "execute_result"
    }
   ],
   "source": [
    "with open('BAGGEM0518L-15122020/0518GEM15122020/0518NietBag15122020/0518NBLIG15122020/0518NBLIG15122020-000001.xml') as xml_file:\n",
    "    data_dict = xmltodict.parse(xml_file.read())\n",
    "\n",
    "json_data = json.dumps(data_dict)\n",
    "res= json.loads(json_data)\n",
    "res.get('sl-bag-extract:bagStand')"
   ]
  },
  {
   "cell_type": "code",
   "execution_count": 575,
   "metadata": {},
   "outputs": [],
   "source": [
    "with open('BAGGEM0518L-15122020/0518GEM15122020/0518NietBag15122020/0518NBNUM15122020/0518NBNUM15122020-000001.xml') as xml_file:\n",
    "    data_dict = xmltodict.parse(xml_file.read())\n",
    "\n",
    "json_data = json.dumps(data_dict)\n",
    "res= json.loads(json_data)"
   ]
  },
  {
   "cell_type": "code",
   "execution_count": 576,
   "metadata": {},
   "outputs": [],
   "source": [
    "issues=[]\n",
    "a = res.get('sl-bag-extract:bagStand').get('sl:standBestand').get('sl:stand')[3].get('sl-bag-extract:bagObject').get('Objecten:Nummeraanduiding')\n",
    "dict_keys = list(a.keys())\n",
    "dict_keys += ['Objecten:huisnummertoevoeging']\n",
    "res_keys = {k:[] for k in dict_keys}\n",
    "k=0\n",
    "for i in range(len(res.get('sl-bag-extract:bagStand').get('sl:standBestand').get('sl:stand'))):\n",
    "    a = res.get('sl-bag-extract:bagStand').get('sl:standBestand').get('sl:stand')[i].get('sl-bag-extract:bagObject').get('Objecten:Nummeraanduiding')\n",
    "    for index, key in enumerate(res_keys.keys()):\n",
    "        try:\n",
    "            res_keys[key].append(a[key])\n",
    "        except:\n",
    "            res_keys[key].append(None)\n",
    "            issues.append(k)\n",
    "            continue\n",
    "        k+=1"
   ]
  },
  {
   "cell_type": "code",
   "execution_count": 577,
   "metadata": {},
   "outputs": [],
   "source": [
    "df = pd.DataFrame(columns = list(res_keys.keys()))\n",
    "for index, key in enumerate(res_keys.keys()):\n",
    "    df[key] = res_keys[key]"
   ]
  },
  {
   "cell_type": "code",
   "execution_count": 578,
   "metadata": {},
   "outputs": [
    {
     "name": "stderr",
     "output_type": "stream",
     "text": [
      "100%|█████████████████████████████████████████████████████████████████████████████| 794/794 [00:00<00:00, 99420.17it/s]\n"
     ]
    }
   ],
   "source": [
    "# keynames = list(df['Objecten:heeftAlsHoofdadres'][100].get('Objecten-ref:NummeraanduidingRef').keys())\n",
    "_keys = {k:[] for k in df['Objecten:identificatie'][100].keys()}\n",
    "for i in tqdm(range(len(df)), total=len(df)):\n",
    "    for index, key in enumerate(_keys.keys()):\n",
    "        try:\n",
    "            _keys[key].append(df['Objecten:identificatie'][i].get(key))\n",
    "        except:\n",
    "            _keys[key].append(None)"
   ]
  },
  {
   "cell_type": "code",
   "execution_count": 579,
   "metadata": {},
   "outputs": [],
   "source": [
    "new_keys = [f\"identificatie-{k}\" for k in _keys.keys()]\n",
    "for key,n_key in zip(_keys.keys(), new_keys):\n",
    "    _keys[n_key] = _keys.pop(key)"
   ]
  },
  {
   "cell_type": "code",
   "execution_count": 580,
   "metadata": {},
   "outputs": [],
   "source": [
    "identificatie = pd.DataFrame(columns = _keys.keys())\n",
    "for index, key in enumerate(_keys.keys()):\n",
    "    identificatie[key] = _keys[key]\n",
    "    \n",
    "df = pd.concat([df, identificatie],axis=1)"
   ]
  },
  {
   "cell_type": "code",
   "execution_count": 581,
   "metadata": {},
   "outputs": [
    {
     "name": "stderr",
     "output_type": "stream",
     "text": [
      "100%|█████████████████████████████████████████████████████████████████████████████| 794/794 [00:00<00:00, 56747.39it/s]\n"
     ]
    }
   ],
   "source": [
    "# keynames = list(df['Objecten:heeftAlsHoofdadres'][100].get('Objecten-ref:NummeraanduidingRef').keys())\n",
    "_keys = {k:[] for k in df['Objecten:voorkomen'][100].get('Historie:Voorkomen').keys()}\n",
    "for i in tqdm(range(len(df)), total=len(df)):\n",
    "    for index, key in enumerate(_keys.keys()):\n",
    "        try:\n",
    "            _keys[key].append(df['Objecten:voorkomen'][i].get('Historie:Voorkomen').get(key))\n",
    "        except:\n",
    "            _keys[key].append(None)"
   ]
  },
  {
   "cell_type": "code",
   "execution_count": 582,
   "metadata": {},
   "outputs": [],
   "source": [
    "voorkomen = pd.DataFrame(columns = _keys.keys())\n",
    "for index, key in enumerate(_keys.keys()):\n",
    "    voorkomen[key] = _keys[key]\n",
    "    \n",
    "df = pd.concat([df, voorkomen],axis=1)"
   ]
  },
  {
   "cell_type": "code",
   "execution_count": 583,
   "metadata": {},
   "outputs": [
    {
     "name": "stderr",
     "output_type": "stream",
     "text": [
      "100%|█████████████████████████████████████████████████████████████████████████████| 794/794 [00:00<00:00, 98631.05it/s]\n"
     ]
    }
   ],
   "source": [
    "# keynames = list(df['Objecten:heeftAlsHoofdadres'][100].get('Objecten-ref:NummeraanduidingRef').keys())\n",
    "_keys = {k:[] for k in df['Objecten:voorkomen'][100].get('Historie:Voorkomen').get('Historie:BeschikbaarLV').keys()}\n",
    "for i in tqdm(range(len(df)), total=len(df)):\n",
    "    for index, key in enumerate(_keys.keys()):\n",
    "        try:\n",
    "            _keys[key].append(df['Objecten:voorkomen'][i].get('Historie:Voorkomen').get('Historie:BeschikbaarLV').get(key))\n",
    "        except:\n",
    "            _keys[key].append(None)"
   ]
  },
  {
   "cell_type": "code",
   "execution_count": 584,
   "metadata": {},
   "outputs": [],
   "source": [
    "voorkomen = pd.DataFrame(columns = _keys.keys())\n",
    "for index, key in enumerate(_keys.keys()):\n",
    "    voorkomen[key] = _keys[key]\n",
    "    \n",
    "df = pd.concat([df, voorkomen],axis=1)"
   ]
  },
  {
   "cell_type": "code",
   "execution_count": 585,
   "metadata": {},
   "outputs": [
    {
     "name": "stderr",
     "output_type": "stream",
     "text": [
      "100%|████████████████████████████████████████████████████████████████████████████| 794/794 [00:00<00:00, 113355.71it/s]\n"
     ]
    }
   ],
   "source": [
    "# keynames = list(df['Objecten:heeftAlsHoofdadres'][100].get('Objecten-ref:NummeraanduidingRef').keys())\n",
    "_keys = {k:[] for k in df['Objecten:ligtAan'][0].get('Objecten-ref:OpenbareRuimteRef').keys()}\n",
    "for i in tqdm(range(len(df)), total=len(df)):\n",
    "    for index, key in enumerate(_keys.keys()):\n",
    "        try:\n",
    "            _keys[key].append(df['Objecten:ligtAan'][i].get('Objecten-ref:OpenbareRuimteRef').get(key))\n",
    "        except:\n",
    "            _keys[key].append(None)"
   ]
  },
  {
   "cell_type": "code",
   "execution_count": 586,
   "metadata": {},
   "outputs": [],
   "source": [
    "new_keys = [f\"ligtAan-{k}\" for k in _keys.keys()]\n",
    "for key,n_key in zip(_keys.keys(), new_keys):\n",
    "    _keys[n_key] = _keys.pop(key)"
   ]
  },
  {
   "cell_type": "code",
   "execution_count": 587,
   "metadata": {},
   "outputs": [],
   "source": [
    "ligtAan = pd.DataFrame(columns = _keys.keys())\n",
    "for index, key in enumerate(_keys.keys()):\n",
    "    ligtAan[key] = _keys[key]\n",
    "    \n",
    "df = pd.concat([df, ligtAan],axis=1)"
   ]
  },
  {
   "cell_type": "code",
   "execution_count": 589,
   "metadata": {},
   "outputs": [],
   "source": [
    "df.to_csv(\"NBNUM.csv\", index=False)\n",
    "df.to_parquet(\"NBNUM.parquet\")"
   ]
  },
  {
   "cell_type": "code",
   "execution_count": 590,
   "metadata": {},
   "outputs": [
    {
     "data": {
      "text/plain": [
       "{'@xmlns:DatatypenNEN3610': 'www.kadaster.nl/schemas/lvbag/imbag/datatypennen3610/v20200601',\n",
       " '@xmlns:Objecten': 'www.kadaster.nl/schemas/lvbag/imbag/objecten/v20200601',\n",
       " '@xmlns:gml': 'http://www.opengis.net/gml/3.2',\n",
       " '@xmlns:Historie': 'www.kadaster.nl/schemas/lvbag/imbag/historie/v20200601',\n",
       " '@xmlns:Objecten-ref': 'www.kadaster.nl/schemas/lvbag/imbag/objecten-ref/v20200601',\n",
       " '@xmlns:nen5825': 'www.kadaster.nl/schemas/lvbag/imbag/nen5825/v20200601',\n",
       " '@xmlns:KenmerkInOnderzoek': 'www.kadaster.nl/schemas/lvbag/imbag/kenmerkinonderzoek/v20200601',\n",
       " '@xmlns:selecties-extract': 'http://www.kadaster.nl/schemas/lvbag/extract-selecties/v20200601',\n",
       " '@xmlns:sl-bag-extract': 'http://www.kadaster.nl/schemas/lvbag/extract-deelbestand-lvc/v20200601',\n",
       " '@xmlns:sl': 'http://www.kadaster.nl/schemas/standlevering-generiek/1.0',\n",
       " '@xmlns:xsi': 'http://www.w3.org/2001/XMLSchema-instance',\n",
       " '@xmlns:xs': 'http://www.w3.org/2001/XMLSchema',\n",
       " '@xsi:schemaLocation': 'http://www.kadaster.nl/schemas/lvbag/extract-deelbestand-lvc/v20200601 http://www.kadaster.nl/schemas/bag-verstrekkingen/extract-deelbestand-lvc/v20200601/BagvsExtractDeelbestandExtractLvc-2.1.0.xsd',\n",
       " 'sl-bag-extract:bagInfo': {'selecties-extract:Gebied-Registratief': {'selecties-extract:Gebied-GEM': {'selecties-extract:GemeenteCollectie': {'selecties-extract:Gemeente': {'selecties-extract:GemeenteIdentificatie': '0518'}}}},\n",
       "  'selecties-extract:LVC-Extract': {'selecties-extract:StandTechnischeDatum': '2020-12-15'}},\n",
       " 'sl:standBestand': {'sl:dataset': 'LVBAG',\n",
       "  'sl:inhoud': {'sl:gebied': 'GEMEENTE',\n",
       "   'sl:leveringsId': '0000000001',\n",
       "   'sl:objectTypen': {'sl:objectType': 'OPR'}}}}"
      ]
     },
     "execution_count": 590,
     "metadata": {},
     "output_type": "execute_result"
    }
   ],
   "source": [
    "with open('BAGGEM0518L-15122020/0518GEM15122020/0518NietBag15122020/0518NBOPR15122020/0518NBOPR15122020-000001.xml') as xml_file:\n",
    "    data_dict = xmltodict.parse(xml_file.read())\n",
    "\n",
    "json_data = json.dumps(data_dict)\n",
    "res= json.loads(json_data)\n",
    "res.get('sl-bag-extract:bagStand')"
   ]
  },
  {
   "cell_type": "code",
   "execution_count": 592,
   "metadata": {},
   "outputs": [
    {
     "data": {
      "text/plain": [
       "{'@xmlns:DatatypenNEN3610': 'www.kadaster.nl/schemas/lvbag/imbag/datatypennen3610/v20200601',\n",
       " '@xmlns:Objecten': 'www.kadaster.nl/schemas/lvbag/imbag/objecten/v20200601',\n",
       " '@xmlns:gml': 'http://www.opengis.net/gml/3.2',\n",
       " '@xmlns:Historie': 'www.kadaster.nl/schemas/lvbag/imbag/historie/v20200601',\n",
       " '@xmlns:Objecten-ref': 'www.kadaster.nl/schemas/lvbag/imbag/objecten-ref/v20200601',\n",
       " '@xmlns:nen5825': 'www.kadaster.nl/schemas/lvbag/imbag/nen5825/v20200601',\n",
       " '@xmlns:KenmerkInOnderzoek': 'www.kadaster.nl/schemas/lvbag/imbag/kenmerkinonderzoek/v20200601',\n",
       " '@xmlns:selecties-extract': 'http://www.kadaster.nl/schemas/lvbag/extract-selecties/v20200601',\n",
       " '@xmlns:sl-bag-extract': 'http://www.kadaster.nl/schemas/lvbag/extract-deelbestand-lvc/v20200601',\n",
       " '@xmlns:sl': 'http://www.kadaster.nl/schemas/standlevering-generiek/1.0',\n",
       " '@xmlns:xsi': 'http://www.w3.org/2001/XMLSchema-instance',\n",
       " '@xmlns:xs': 'http://www.w3.org/2001/XMLSchema',\n",
       " '@xsi:schemaLocation': 'http://www.kadaster.nl/schemas/lvbag/extract-deelbestand-lvc/v20200601 http://www.kadaster.nl/schemas/bag-verstrekkingen/extract-deelbestand-lvc/v20200601/BagvsExtractDeelbestandExtractLvc-2.1.0.xsd',\n",
       " 'sl-bag-extract:bagInfo': {'selecties-extract:Gebied-Registratief': {'selecties-extract:Gebied-GEM': {'selecties-extract:GemeenteCollectie': {'selecties-extract:Gemeente': {'selecties-extract:GemeenteIdentificatie': '0518'}}}},\n",
       "  'selecties-extract:LVC-Extract': {'selecties-extract:StandTechnischeDatum': '2020-12-15'}},\n",
       " 'sl:standBestand': {'sl:dataset': 'LVBAG',\n",
       "  'sl:inhoud': {'sl:gebied': 'GEMEENTE',\n",
       "   'sl:leveringsId': '0000000001',\n",
       "   'sl:objectTypen': {'sl:objectType': 'STA'}}}}"
      ]
     },
     "execution_count": 592,
     "metadata": {},
     "output_type": "execute_result"
    }
   ],
   "source": [
    "with open('BAGGEM0518L-15122020/0518GEM15122020/0518NietBag15122020/0518NBSTA15122020/0518NBSTA15122020-000001.xml') as xml_file:\n",
    "    data_dict = xmltodict.parse(xml_file.read())\n",
    "\n",
    "json_data = json.dumps(data_dict)\n",
    "res= json.loads(json_data)\n",
    "res.get('sl-bag-extract:bagStand')"
   ]
  },
  {
   "cell_type": "code",
   "execution_count": 594,
   "metadata": {},
   "outputs": [
    {
     "data": {
      "text/plain": [
       "{'@xmlns:DatatypenNEN3610': 'www.kadaster.nl/schemas/lvbag/imbag/datatypennen3610/v20200601',\n",
       " '@xmlns:Objecten': 'www.kadaster.nl/schemas/lvbag/imbag/objecten/v20200601',\n",
       " '@xmlns:gml': 'http://www.opengis.net/gml/3.2',\n",
       " '@xmlns:Historie': 'www.kadaster.nl/schemas/lvbag/imbag/historie/v20200601',\n",
       " '@xmlns:Objecten-ref': 'www.kadaster.nl/schemas/lvbag/imbag/objecten-ref/v20200601',\n",
       " '@xmlns:nen5825': 'www.kadaster.nl/schemas/lvbag/imbag/nen5825/v20200601',\n",
       " '@xmlns:KenmerkInOnderzoek': 'www.kadaster.nl/schemas/lvbag/imbag/kenmerkinonderzoek/v20200601',\n",
       " '@xmlns:selecties-extract': 'http://www.kadaster.nl/schemas/lvbag/extract-selecties/v20200601',\n",
       " '@xmlns:sl-bag-extract': 'http://www.kadaster.nl/schemas/lvbag/extract-deelbestand-lvc/v20200601',\n",
       " '@xmlns:sl': 'http://www.kadaster.nl/schemas/standlevering-generiek/1.0',\n",
       " '@xmlns:xsi': 'http://www.w3.org/2001/XMLSchema-instance',\n",
       " '@xmlns:xs': 'http://www.w3.org/2001/XMLSchema',\n",
       " '@xsi:schemaLocation': 'http://www.kadaster.nl/schemas/lvbag/extract-deelbestand-lvc/v20200601 http://www.kadaster.nl/schemas/bag-verstrekkingen/extract-deelbestand-lvc/v20200601/BagvsExtractDeelbestandExtractLvc-2.1.0.xsd',\n",
       " 'sl-bag-extract:bagInfo': {'selecties-extract:Gebied-Registratief': {'selecties-extract:Gebied-GEM': {'selecties-extract:GemeenteCollectie': {'selecties-extract:Gemeente': {'selecties-extract:GemeenteIdentificatie': '0518'}}}},\n",
       "  'selecties-extract:LVC-Extract': {'selecties-extract:StandTechnischeDatum': '2020-12-15'}},\n",
       " 'sl:standBestand': {'sl:dataset': 'LVBAG',\n",
       "  'sl:inhoud': {'sl:gebied': 'GEMEENTE',\n",
       "   'sl:leveringsId': '0000000001',\n",
       "   'sl:objectTypen': {'sl:objectType': 'WPL'}}}}"
      ]
     },
     "execution_count": 594,
     "metadata": {},
     "output_type": "execute_result"
    }
   ],
   "source": [
    "with open('BAGGEM0518L-15122020/0518GEM15122020/0518NietBag15122020/0518NBWPL15122020/0518NBWPL15122020-000001.xml') as xml_file:\n",
    "    data_dict = xmltodict.parse(xml_file.read())\n",
    "\n",
    "json_data = json.dumps(data_dict)\n",
    "res= json.loads(json_data)\n",
    "res.get('sl-bag-extract:bagStand')"
   ]
  },
  {
   "cell_type": "code",
   "execution_count": 595,
   "metadata": {},
   "outputs": [],
   "source": [
    "with open('BAGGEM0518L-15122020/0518GEM15122020/0518NietBag15122020/0518NBVBO15122020/0518NBVBO15122020-000001.xml') as xml_file:\n",
    "    data_dict = xmltodict.parse(xml_file.read())\n",
    "\n",
    "json_data = json.dumps(data_dict)\n",
    "res= json.loads(json_data)"
   ]
  },
  {
   "cell_type": "code",
   "execution_count": 602,
   "metadata": {},
   "outputs": [
    {
     "data": {
      "text/plain": [
       "dict_keys(['Objecten:heeftAlsHoofdadres', 'Objecten:voorkomen', 'Objecten:identificatie', 'Objecten:geometrie', 'Objecten:gebruiksdoel', 'Objecten:oppervlakte', 'Objecten:status', 'Objecten:geconstateerd', 'Objecten:documentdatum', 'Objecten:documentnummer', 'Objecten:maaktDeelUitVan'])"
      ]
     },
     "execution_count": 602,
     "metadata": {},
     "output_type": "execute_result"
    }
   ],
   "source": [
    "res.get('sl-bag-extract:bagStand').get('sl:standBestand').get('sl:stand')[0].get('sl-bag-extract:bagObject').get('Objecten:Verblijfsobject').keys()"
   ]
  },
  {
   "cell_type": "code",
   "execution_count": 606,
   "metadata": {},
   "outputs": [],
   "source": [
    "issues=[]\n",
    "a = res.get('sl-bag-extract:bagStand').get('sl:standBestand').get('sl:stand')[3].get('sl-bag-extract:bagObject').get('Objecten:Verblijfsobject')\n",
    "dict_keys = list(a.keys())\n",
    "# dict_keys += ['Objecten:huisnummertoevoeging']\n",
    "res_keys = {k:[] for k in dict_keys}\n",
    "k=0\n",
    "for i in range(len(res.get('sl-bag-extract:bagStand').get('sl:standBestand').get('sl:stand'))):\n",
    "    a = res.get('sl-bag-extract:bagStand').get('sl:standBestand').get('sl:stand')[i].get('sl-bag-extract:bagObject').get('Objecten:Verblijfsobject')\n",
    "    for index, key in enumerate(res_keys.keys()):\n",
    "        try:\n",
    "            res_keys[key].append(a[key])\n",
    "        except:\n",
    "            res_keys[key].append(None)\n",
    "            issues.append(k)\n",
    "            continue\n",
    "        k+=1"
   ]
  },
  {
   "cell_type": "code",
   "execution_count": 607,
   "metadata": {},
   "outputs": [],
   "source": [
    "df = pd.DataFrame(columns = list(res_keys.keys()))\n",
    "for index, key in enumerate(res_keys.keys()):\n",
    "    df[key] = res_keys[key]"
   ]
  },
  {
   "cell_type": "code",
   "execution_count": 611,
   "metadata": {},
   "outputs": [
    {
     "name": "stderr",
     "output_type": "stream",
     "text": [
      "100%|█████████████████████████████████████████████████████████████████████████████| 265/265 [00:00<00:00, 88388.91it/s]\n"
     ]
    }
   ],
   "source": [
    "# keynames = list(df['Objecten:heeftAlsHoofdadres'][100].get('Objecten-ref:NummeraanduidingRef').keys())\n",
    "_keys = {k:[] for k in df['Objecten:heeftAlsHoofdadres'][100].get('Objecten-ref:NummeraanduidingRef').keys()}\n",
    "for i in tqdm(range(len(df)), total=len(df)):\n",
    "    for index, key in enumerate(_keys.keys()):\n",
    "        try:\n",
    "            _keys[key].append(df['Objecten:heeftAlsHoofdadres'][i].get('Objecten-ref:NummeraanduidingRef').get(key))\n",
    "        except:\n",
    "            _keys[key].append(None)"
   ]
  },
  {
   "cell_type": "code",
   "execution_count": 612,
   "metadata": {},
   "outputs": [],
   "source": [
    "new_keys = [f\"heeftAlsHoofdadres-{k}\" for k in _keys.keys()]\n",
    "for key,n_key in zip(_keys.keys(), new_keys):\n",
    "    _keys[n_key] = _keys.pop(key)"
   ]
  },
  {
   "cell_type": "code",
   "execution_count": 613,
   "metadata": {},
   "outputs": [],
   "source": [
    "heeftAlsHoofdadres = pd.DataFrame(columns = _keys.keys())\n",
    "for index, key in enumerate(_keys.keys()):\n",
    "    heeftAlsHoofdadres[key] = _keys[key]\n",
    "    \n",
    "df = pd.concat([df, heeftAlsHoofdadres],axis=1)"
   ]
  },
  {
   "cell_type": "code",
   "execution_count": 615,
   "metadata": {},
   "outputs": [
    {
     "name": "stderr",
     "output_type": "stream",
     "text": [
      "100%|█████████████████████████████████████████████████████████████████████████████| 265/265 [00:00<00:00, 44059.56it/s]\n"
     ]
    }
   ],
   "source": [
    "_keys = {k:[] for k in df['Objecten:voorkomen'][100].get('Historie:Voorkomen').keys()}\n",
    "for i in tqdm(range(len(df)), total=len(df)):\n",
    "    for index, key in enumerate(_keys.keys()):\n",
    "        try:\n",
    "            _keys[key].append(df['Objecten:voorkomen'][i].get('Historie:Voorkomen').get(key))\n",
    "        except:\n",
    "            _keys[key].append(None)"
   ]
  },
  {
   "cell_type": "code",
   "execution_count": 616,
   "metadata": {},
   "outputs": [],
   "source": [
    "# new_keys = [f\"voor-{k}\" for k in _keys.keys()]\n",
    "# for key,n_key in zip(_keys.keys(), new_keys):\n",
    "#     _keys[n_key] = _keys.pop(key)"
   ]
  },
  {
   "cell_type": "code",
   "execution_count": 617,
   "metadata": {},
   "outputs": [],
   "source": [
    "voorkomen = pd.DataFrame(columns = _keys.keys())\n",
    "for index, key in enumerate(_keys.keys()):\n",
    "    voorkomen[key] = _keys[key]\n",
    "    \n",
    "df = pd.concat([df, voorkomen],axis=1)"
   ]
  },
  {
   "cell_type": "code",
   "execution_count": 619,
   "metadata": {},
   "outputs": [
    {
     "name": "stderr",
     "output_type": "stream",
     "text": [
      "100%|█████████████████████████████████████████████████████████████████████████████| 265/265 [00:00<00:00, 87774.66it/s]\n"
     ]
    }
   ],
   "source": [
    "_keys = {k:[] for k in df['Historie:BeschikbaarLV'][100].keys()}\n",
    "for i in tqdm(range(len(df)), total=len(df)):\n",
    "    for index, key in enumerate(_keys.keys()):\n",
    "        try:\n",
    "            _keys[key].append(df['Historie:BeschikbaarLV'][i].get(key))\n",
    "        except:\n",
    "            _keys[key].append(None)"
   ]
  },
  {
   "cell_type": "code",
   "execution_count": 620,
   "metadata": {},
   "outputs": [],
   "source": [
    "new_keys = [f\"Historie-{k}\" for k in _keys.keys()]\n",
    "for key,n_key in zip(_keys.keys(), new_keys):\n",
    "    _keys[n_key] = _keys.pop(key)"
   ]
  },
  {
   "cell_type": "code",
   "execution_count": 621,
   "metadata": {},
   "outputs": [],
   "source": [
    "Historie = pd.DataFrame(columns = _keys.keys())\n",
    "for index, key in enumerate(_keys.keys()):\n",
    "    Historie[key] = _keys[key]\n",
    "    \n",
    "df = pd.concat([df, Historie],axis=1)"
   ]
  },
  {
   "cell_type": "code",
   "execution_count": 623,
   "metadata": {},
   "outputs": [
    {
     "name": "stderr",
     "output_type": "stream",
     "text": [
      "100%|█████████████████████████████████████████████████████████████████████████████| 265/265 [00:00<00:00, 88494.47it/s]\n"
     ]
    }
   ],
   "source": [
    "# keynames = list(df[\"Objecten:identificatie\"][100].keys())\n",
    "_keys = {k:[] for k in df[\"Objecten:identificatie\"][100].keys()}\n",
    "for i in tqdm(range(len(df)), total=len(df)):\n",
    "    for index, key in enumerate(_keys.keys()):\n",
    "        try:\n",
    "            _keys[key].append(df[\"Objecten:identificatie\"][i].get(key))\n",
    "        except:\n",
    "            _keys[key.append(None)]"
   ]
  },
  {
   "cell_type": "code",
   "execution_count": 624,
   "metadata": {},
   "outputs": [],
   "source": [
    "new_keys = [f\"identificatie-{k}\" for k in _keys.keys()]\n",
    "for key,n_key in zip(_keys.keys(), new_keys):\n",
    "    _keys[n_key] = _keys.pop(key)"
   ]
  },
  {
   "cell_type": "code",
   "execution_count": 625,
   "metadata": {},
   "outputs": [],
   "source": [
    "identificatie = pd.DataFrame(columns = _keys.keys())\n",
    "for index, key in enumerate(_keys.keys()):\n",
    "    identificatie[key] = _keys[key]\n",
    "    \n",
    "df = pd.concat([df, identificatie],axis=1)"
   ]
  },
  {
   "cell_type": "code",
   "execution_count": 627,
   "metadata": {},
   "outputs": [
    {
     "name": "stderr",
     "output_type": "stream",
     "text": [
      "100%|█████████████████████████████████████████████████████████████████████████████| 265/265 [00:00<00:00, 53097.53it/s]\n"
     ]
    }
   ],
   "source": [
    "# keynames = list(df['Objecten:geometrie'][100].get('Objecten:punt').get(\"gml:Point\").keys())\n",
    "_keys = {k:[] for k in df['Objecten:geometrie'][100].get('Objecten:punt').get(\"gml:Point\").keys()}\n",
    "for i in tqdm(range(len(df)), total=len(df)):\n",
    "    for index, key in enumerate(_keys.keys()):\n",
    "        try:\n",
    "            _keys[key].append(df['Objecten:geometrie'][i].get('Objecten:punt').get(\"gml:Point\").get(key))\n",
    "        except:\n",
    "            _keys[key].append(None)"
   ]
  },
  {
   "cell_type": "code",
   "execution_count": 628,
   "metadata": {},
   "outputs": [],
   "source": [
    "new_keys = [f\"geometrie-{k}\" for k in _keys.keys()]\n",
    "for key,n_key in zip(_keys.keys(), new_keys):\n",
    "    _keys[n_key] = _keys.pop(key)"
   ]
  },
  {
   "cell_type": "code",
   "execution_count": 629,
   "metadata": {},
   "outputs": [],
   "source": [
    "geometries = pd.DataFrame(columns = _keys.keys())\n",
    "for index, key in enumerate(_keys.keys()):\n",
    "    geometries[key] = _keys[key]\n",
    "    \n",
    "df = pd.concat([df, geometries],axis=1)"
   ]
  },
  {
   "cell_type": "code",
   "execution_count": 630,
   "metadata": {},
   "outputs": [
    {
     "name": "stderr",
     "output_type": "stream",
     "text": [
      "100%|█████████████████████████████████████████████████████████████████████████████| 265/265 [00:00<00:00, 88656.82it/s]\n"
     ]
    }
   ],
   "source": [
    "_keys = {k:[] for k in df['Objecten:maaktDeelUitVan'][100].get('Objecten-ref:PandRef').keys()}\n",
    "for i in tqdm(range(len(df)), total=len(df)):\n",
    "    for index, key in enumerate(_keys.keys()):\n",
    "        try:\n",
    "            _keys[key].append(df['Objecten:maaktDeelUitVan'][i].get('Objecten-ref:PandRef').get(key))\n",
    "        except:\n",
    "            _keys[key].append(None)"
   ]
  },
  {
   "cell_type": "code",
   "execution_count": 631,
   "metadata": {},
   "outputs": [],
   "source": [
    "new_keys = [f\"maaktDeelUitVan-{k}\" for k in _keys.keys()]\n",
    "for key,n_key in zip(_keys.keys(), new_keys):\n",
    "    _keys[n_key] = _keys.pop(key)"
   ]
  },
  {
   "cell_type": "code",
   "execution_count": 632,
   "metadata": {},
   "outputs": [],
   "source": [
    "maaktDeelUitVan = pd.DataFrame(columns = _keys.keys())\n",
    "for index, key in enumerate(_keys.keys()):\n",
    "    maaktDeelUitVan[key] = _keys[key]\n",
    "    \n",
    "df = pd.concat([df, maaktDeelUitVan],axis=1)"
   ]
  },
  {
   "cell_type": "code",
   "execution_count": 635,
   "metadata": {},
   "outputs": [],
   "source": [
    "df.to_csv(\"NBVBO.csv\", index=False)\n",
    "df_clear = df.copy()\n",
    "del df[\"Objecten:gebruiksdoel\"]\n",
    "df.to_parquet(\"NBVBO.parquet\")"
   ]
  },
  {
   "cell_type": "code",
   "execution_count": 658,
   "metadata": {},
   "outputs": [],
   "source": [
    "with open('BAGGEM0518L-15122020/0518GEM15122020/0518NietBag15122020/0518NBPND15122020/0518NBPND15122020-000001.xml') as xml_file:\n",
    "    data_dict = xmltodict.parse(xml_file.read())\n",
    "\n",
    "json_data = json.dumps(data_dict)\n",
    "res= json.loads(json_data)"
   ]
  },
  {
   "cell_type": "code",
   "execution_count": 659,
   "metadata": {},
   "outputs": [],
   "source": [
    "issues = []\n",
    "a=res['sl-bag-extract:bagStand']['sl:standBestand']['sl:stand'][0]['sl-bag-extract:bagObject']['Objecten:Pand']\n",
    "res_keys = {k:[] for k in a.keys()}\n",
    "k=0\n",
    "for num in range(len(res['sl-bag-extract:bagStand'].get('sl:standBestand')[\"sl:stand\"])):\n",
    "    k+=1\n",
    "    a=res['sl-bag-extract:bagStand']['sl:standBestand']['sl:stand'][num]['sl-bag-extract:bagObject']['Objecten:Pand']\n",
    "    for index, key in enumerate(a.keys()):\n",
    "        try:\n",
    "            res_keys[key].append(a[key])\n",
    "        except:\n",
    "            issues.append(k)\n",
    "#                 print(k, a[key])\n",
    "            continue"
   ]
  },
  {
   "cell_type": "code",
   "execution_count": 660,
   "metadata": {},
   "outputs": [],
   "source": [
    "df = pd.DataFrame(columns = list(res_keys.keys()))\n",
    "for index, key in enumerate(res_keys.keys()):\n",
    "    df[key] = res_keys[key]"
   ]
  },
  {
   "cell_type": "code",
   "execution_count": 661,
   "metadata": {},
   "outputs": [
    {
     "name": "stderr",
     "output_type": "stream",
     "text": [
      "100%|████████████████████████████████████████████████████████████████████████████| 135/135 [00:00<00:00, 134592.59it/s]\n"
     ]
    }
   ],
   "source": [
    "# keynames = list(df['Objecten:heeftAlsHoofdadres'][100].get('Objecten-ref:NummeraanduidingRef').keys())\n",
    "_keys = {k:[] for k in df['Objecten:identificatie'][100].keys()}\n",
    "for i in tqdm(range(len(df)), total=len(df)):\n",
    "    for index, key in enumerate(_keys.keys()):\n",
    "        try:\n",
    "            _keys[key].append(df['Objecten:identificatie'][i].get(key))\n",
    "        except:\n",
    "            _keys[key].append(None)"
   ]
  },
  {
   "cell_type": "code",
   "execution_count": 662,
   "metadata": {},
   "outputs": [],
   "source": [
    "new_keys = [f\"identificatie-{k}\" for k in _keys.keys()]\n",
    "for key,n_key in zip(_keys.keys(), new_keys):\n",
    "    _keys[n_key] = _keys.pop(key)"
   ]
  },
  {
   "cell_type": "code",
   "execution_count": 663,
   "metadata": {},
   "outputs": [],
   "source": [
    "identificatie = pd.DataFrame(columns = _keys.keys())\n",
    "for index, key in enumerate(_keys.keys()):\n",
    "    identificatie[key] = _keys[key]\n",
    "    \n",
    "df = pd.concat([df, identificatie],axis=1)"
   ]
  },
  {
   "cell_type": "code",
   "execution_count": 665,
   "metadata": {},
   "outputs": [
    {
     "name": "stderr",
     "output_type": "stream",
     "text": [
      "100%|████████████████████████████████████████████████████████████████████████████████████████| 135/135 [00:00<?, ?it/s]\n"
     ]
    }
   ],
   "source": [
    "# keynames = list(df['Objecten:geometrie'][100].get('Objecten:punt').get(\"gml:Point\").keys())\n",
    "_keys = {k:[] for k in df['Objecten:geometrie'][0].get('gml:Polygon').keys()}\n",
    "for i in tqdm(range(len(df)), total=len(df)):\n",
    "    for index, key in enumerate(_keys.keys()):\n",
    "        try:\n",
    "            _keys[key].append(df['Objecten:geometrie'][i].get('gml:Polygon').get(key))\n",
    "        except:\n",
    "            _keys[key].append(None)"
   ]
  },
  {
   "cell_type": "code",
   "execution_count": 666,
   "metadata": {},
   "outputs": [],
   "source": [
    "new_keys = [f\"geometrie-{k}\" for k in _keys.keys()]\n",
    "for key,n_key in zip(_keys.keys(), new_keys):\n",
    "    _keys[n_key] = _keys.pop(key)"
   ]
  },
  {
   "cell_type": "code",
   "execution_count": 667,
   "metadata": {},
   "outputs": [],
   "source": [
    "geometries = pd.DataFrame(columns = _keys.keys())\n",
    "for index, key in enumerate(_keys.keys()):\n",
    "    geometries[key] = _keys[key]\n",
    "    \n",
    "df = pd.concat([df, geometries],axis=1)"
   ]
  },
  {
   "cell_type": "code",
   "execution_count": 668,
   "metadata": {},
   "outputs": [
    {
     "name": "stderr",
     "output_type": "stream",
     "text": [
      "100%|████████████████████████████████████████████████████████████████████████████████████████| 135/135 [00:00<?, ?it/s]\n"
     ]
    }
   ],
   "source": [
    "# keynames = list(df['Objecten:geometrie'][100].get('Objecten:punt').get(\"gml:Point\").keys())\n",
    "_keys = {k:[] for k in df['Objecten:geometrie'][0].get('gml:Polygon').get('gml:exterior').get('gml:LinearRing').get('gml:posList').keys()}\n",
    "for i in tqdm(range(len(df)), total=len(df)):\n",
    "    for index, key in enumerate(_keys.keys()):\n",
    "        try:\n",
    "            _keys[key].append(df['Objecten:geometrie'][i].get('gml:Polygon').get('gml:exterior').get('gml:LinearRing').get('gml:posList').get(key))\n",
    "        except:\n",
    "            _keys[key].append(None)"
   ]
  },
  {
   "cell_type": "code",
   "execution_count": 669,
   "metadata": {},
   "outputs": [],
   "source": [
    "new_keys = [f\"geometrie-{k}\" for k in _keys.keys()]\n",
    "for key,n_key in zip(_keys.keys(), new_keys):\n",
    "    _keys[n_key] = _keys.pop(key)"
   ]
  },
  {
   "cell_type": "code",
   "execution_count": 670,
   "metadata": {},
   "outputs": [],
   "source": [
    "geometries = pd.DataFrame(columns = _keys.keys())\n",
    "for index, key in enumerate(_keys.keys()):\n",
    "    geometries[key] = _keys[key]\n",
    "    \n",
    "df = pd.concat([df, geometries],axis=1)"
   ]
  },
  {
   "cell_type": "code",
   "execution_count": 671,
   "metadata": {},
   "outputs": [
    {
     "name": "stderr",
     "output_type": "stream",
     "text": [
      "100%|█████████████████████████████████████████████████████████████████████████████| 135/135 [00:00<00:00, 36720.56it/s]\n"
     ]
    }
   ],
   "source": [
    "# keynames = list(df['Objecten:geometrie'][100].get('Objecten:punt').get(\"gml:Point\").keys())\n",
    "_keys = {k:[] for k in df['Objecten:voorkomen'][0].get('Historie:Voorkomen').keys()}\n",
    "for i in tqdm(range(len(df)), total=len(df)):\n",
    "    for index, key in enumerate(_keys.keys()):\n",
    "        try:\n",
    "            _keys[key].append(df['Objecten:voorkomen'][i].get('Historie:Voorkomen').get(key))\n",
    "        except:\n",
    "            _keys[key].append(None)"
   ]
  },
  {
   "cell_type": "code",
   "execution_count": 672,
   "metadata": {},
   "outputs": [],
   "source": [
    "voorkomen = pd.DataFrame(columns = _keys.keys())\n",
    "for index, key in enumerate(_keys.keys()):\n",
    "    voorkomen[key] = _keys[key]\n",
    "    \n",
    "df = pd.concat([df, voorkomen],axis=1)"
   ]
  },
  {
   "cell_type": "code",
   "execution_count": 673,
   "metadata": {},
   "outputs": [
    {
     "name": "stderr",
     "output_type": "stream",
     "text": [
      "100%|████████████████████████████████████████████████████████████████████████████| 135/135 [00:00<00:00, 135949.83it/s]\n"
     ]
    }
   ],
   "source": [
    "# keynames = list(df['Objecten:geometrie'][100].get('Objecten:punt').get(\"gml:Point\").keys())\n",
    "_keys = {k:[] for k in df['Objecten:voorkomen'][0].get('Historie:Voorkomen').get(\"Historie:BeschikbaarLV\").keys()}\n",
    "for i in tqdm(range(len(df)), total=len(df)):\n",
    "    for index, key in enumerate(_keys.keys()):\n",
    "        try:\n",
    "            _keys[key].append(df['Objecten:voorkomen'][i].get('Historie:Voorkomen').get('Historie:BeschikbaarLV').get(key))\n",
    "        except:\n",
    "            _keys[key].append(None)"
   ]
  },
  {
   "cell_type": "code",
   "execution_count": 674,
   "metadata": {},
   "outputs": [],
   "source": [
    "voorkomen = pd.DataFrame(columns = _keys.keys())\n",
    "for index, key in enumerate(_keys.keys()):\n",
    "    voorkomen[key] = _keys[key]\n",
    "    \n",
    "df = pd.concat([df, voorkomen],axis=1)"
   ]
  },
  {
   "cell_type": "code",
   "execution_count": 679,
   "metadata": {},
   "outputs": [],
   "source": [
    "df.to_csv(\"NBPND.csv\", index=False)\n",
    "df.to_parquet('NBPND.parquet')"
   ]
  }
 ],
 "metadata": {
  "kernelspec": {
   "display_name": "heros",
   "language": "python",
   "name": "heros"
  },
  "language_info": {
   "codemirror_mode": {
    "name": "ipython",
    "version": 3
   },
   "file_extension": ".py",
   "mimetype": "text/x-python",
   "name": "python",
   "nbconvert_exporter": "python",
   "pygments_lexer": "ipython3",
   "version": "3.8.3"
  }
 },
 "nbformat": 4,
 "nbformat_minor": 4
}
