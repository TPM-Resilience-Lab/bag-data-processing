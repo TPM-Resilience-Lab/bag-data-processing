{
 "cells": [
  {
   "cell_type": "code",
   "execution_count": 1,
   "metadata": {},
   "outputs": [
    {
     "name": "stderr",
     "output_type": "stream",
     "text": [
      "C:\\Users\\Mikhail\\anaconda3\\envs\\heros\\lib\\site-packages\\tqdm\\std.py:701: FutureWarning: The Panel class is removed from pandas. Accessing it from the top-level namespace will also be removed in the next version\n",
      "  from pandas import Panel\n"
     ]
    }
   ],
   "source": [
    "from xml.dom import minidom\n",
    "import pandas as pd\n",
    "pd.options.display.max_columns=100\n",
    "pd.options.display.max_rows=1000\n",
    "import xmltodict\n",
    "import json\n",
    "import glob\n",
    "import os\n",
    "from tqdm import tqdm\n",
    "import geopandas as gpd\n",
    "tqdm.pandas()\n",
    "import shapely\n",
    "from shapely import geometry\n",
    "from shapely import wkt\n",
    "import re"
   ]
  },
  {
   "cell_type": "code",
   "execution_count": null,
   "metadata": {},
   "outputs": [],
   "source": [
    "path = '../../data/'"
   ]
  },
  {
   "cell_type": "code",
   "execution_count": 2,
   "metadata": {},
   "outputs": [
    {
     "ename": "NameError",
     "evalue": "name 'path' is not defined",
     "output_type": "error",
     "traceback": [
      "\u001b[1;31m---------------------------------------------------------------------------\u001b[0m",
      "\u001b[1;31mNameError\u001b[0m                                 Traceback (most recent call last)",
      "\u001b[1;32m<ipython-input-2-87c4980eb4b5>\u001b[0m in \u001b[0;36m<module>\u001b[1;34m\u001b[0m\n\u001b[0;32m      1\u001b[0m \u001b[0mxml_files\u001b[0m \u001b[1;33m=\u001b[0m \u001b[1;33m[\u001b[0m\u001b[1;33m]\u001b[0m\u001b[1;33m\u001b[0m\u001b[1;33m\u001b[0m\u001b[0m\n\u001b[1;32m----> 2\u001b[1;33m \u001b[1;32mfor\u001b[0m \u001b[0mroot\u001b[0m\u001b[1;33m,\u001b[0m \u001b[0mdirs\u001b[0m\u001b[1;33m,\u001b[0m \u001b[0mfiles\u001b[0m \u001b[1;32min\u001b[0m \u001b[0mos\u001b[0m\u001b[1;33m.\u001b[0m\u001b[0mwalk\u001b[0m\u001b[1;33m(\u001b[0m\u001b[0mpath\u001b[0m\u001b[1;33m)\u001b[0m\u001b[1;33m:\u001b[0m\u001b[1;33m\u001b[0m\u001b[1;33m\u001b[0m\u001b[0m\n\u001b[0m\u001b[0;32m      3\u001b[0m     \u001b[1;32mfor\u001b[0m \u001b[0mfile\u001b[0m \u001b[1;32min\u001b[0m \u001b[0mfiles\u001b[0m\u001b[1;33m:\u001b[0m\u001b[1;33m\u001b[0m\u001b[1;33m\u001b[0m\u001b[0m\n\u001b[0;32m      4\u001b[0m         \u001b[1;32mif\u001b[0m \u001b[0mfile\u001b[0m\u001b[1;33m.\u001b[0m\u001b[0mendswith\u001b[0m\u001b[1;33m(\u001b[0m\u001b[1;34m\".xml\"\u001b[0m\u001b[1;33m)\u001b[0m\u001b[1;33m:\u001b[0m\u001b[1;33m\u001b[0m\u001b[1;33m\u001b[0m\u001b[0m\n\u001b[0;32m      5\u001b[0m             \u001b[0mxml_files\u001b[0m\u001b[1;33m.\u001b[0m\u001b[0mappend\u001b[0m\u001b[1;33m(\u001b[0m\u001b[0mos\u001b[0m\u001b[1;33m.\u001b[0m\u001b[0mpath\u001b[0m\u001b[1;33m.\u001b[0m\u001b[0mjoin\u001b[0m\u001b[1;33m(\u001b[0m\u001b[0mroot\u001b[0m\u001b[1;33m,\u001b[0m \u001b[0mfile\u001b[0m\u001b[1;33m)\u001b[0m\u001b[1;33m)\u001b[0m\u001b[1;33m\u001b[0m\u001b[1;33m\u001b[0m\u001b[0m\n",
      "\u001b[1;31mNameError\u001b[0m: name 'path' is not defined"
     ]
    }
   ],
   "source": [
    "xml_files = []\n",
    "for root, dirs, files in os.walk(path):\n",
    "    for file in files:\n",
    "        if file.endswith(\".xml\"):\n",
    "            xml_files.append(os.path.join(root, file))\n",
    "files = xml_files"
   ]
  },
  {
   "cell_type": "code",
   "execution_count": 32,
   "metadata": {},
   "outputs": [
    {
     "name": "stderr",
     "output_type": "stream",
     "text": [
      "100%|████████████████████████████████████████████████████████████████████████████████| 143/143 [04:46<00:00,  2.00s/it]\n"
     ]
    }
   ],
   "source": [
    "res = []\n",
    "for file in tqdm(files, total=len(files)):\n",
    "    with open(file) as xml_file:\n",
    "        data_dict = xmltodict.parse(xml_file.read())\n",
    "    \n",
    "    json_data = json.dumps(data_dict)\n",
    "    res.append(json.loads(json_data))"
   ]
  },
  {
   "cell_type": "code",
   "execution_count": 5,
   "metadata": {},
   "outputs": [],
   "source": [
    "issues = []\n",
    "a=res[0]['sl-bag-extract:bagStand']['sl:standBestand']['sl:stand'][0]['sl-bag-extract:bagObject']['Objecten:Pand']\n",
    "res_keys = {k:[] for k in a.keys()}\n",
    "k=0\n",
    "for data in res:\n",
    "    for num in range(len(data['sl-bag-extract:bagStand'].get('sl:standBestand')[\"sl:stand\"])):\n",
    "        k+=1\n",
    "        a=data['sl-bag-extract:bagStand']['sl:standBestand']['sl:stand'][num]['sl-bag-extract:bagObject']['Objecten:Pand']\n",
    "        for index, key in enumerate(a.keys()):\n",
    "            try:\n",
    "                res_keys[key].append(a[key])\n",
    "            except:\n",
    "                issues.append(k)\n",
    "#                 print(k, a[key])\n",
    "                continue"
   ]
  },
  {
   "cell_type": "code",
   "execution_count": 6,
   "metadata": {},
   "outputs": [],
   "source": [
    "df = pd.DataFrame(columns = list(res_keys.keys()))\n",
    "for index, key in enumerate(res_keys.keys()):\n",
    "    df[key] = res_keys[key]"
   ]
  },
  {
   "cell_type": "code",
   "execution_count": 7,
   "metadata": {},
   "outputs": [
    {
     "name": "stderr",
     "output_type": "stream",
     "text": [
      "100%|███████████████████████████████████████████████████████████████████████| 220242/220242 [00:02<00:00, 98248.65it/s]\n"
     ]
    }
   ],
   "source": [
    "# keynames = list(df['Objecten:heeftAlsHoofdadres'][100].get('Objecten-ref:NummeraanduidingRef').keys())\n",
    "_keys = {k:[] for k in df['Objecten:identificatie'][100].keys()}\n",
    "for i in tqdm(range(len(df)), total=len(df)):\n",
    "    for index, key in enumerate(_keys.keys()):\n",
    "        try:\n",
    "            _keys[key].append(df['Objecten:identificatie'][i].get(key))\n",
    "        except:\n",
    "            _keys[key].append(None)"
   ]
  },
  {
   "cell_type": "code",
   "execution_count": 8,
   "metadata": {},
   "outputs": [],
   "source": [
    "new_keys = [f\"identificatie-{k}\" for k in _keys.keys()]\n",
    "for key,n_key in zip(_keys.keys(), new_keys):\n",
    "    _keys[n_key] = _keys.pop(key)"
   ]
  },
  {
   "cell_type": "code",
   "execution_count": 9,
   "metadata": {},
   "outputs": [],
   "source": [
    "identificatie = pd.DataFrame(columns = _keys.keys())\n",
    "for index, key in enumerate(_keys.keys()):\n",
    "    identificatie[key] = _keys[key]\n",
    "    \n",
    "df = pd.concat([df, identificatie],axis=1)"
   ]
  },
  {
   "cell_type": "code",
   "execution_count": 10,
   "metadata": {},
   "outputs": [
    {
     "name": "stderr",
     "output_type": "stream",
     "text": [
      "100%|███████████████████████████████████████████████████████████████████████| 220242/220242 [00:03<00:00, 67973.63it/s]\n"
     ]
    }
   ],
   "source": [
    "# keynames = list(df['Objecten:geometrie'][100].get('Objecten:punt').get(\"gml:Point\").keys())\n",
    "_keys = {k:[] for k in df['Objecten:geometrie'][0].get('gml:Polygon').keys()}\n",
    "for i in tqdm(range(len(df)), total=len(df)):\n",
    "    for index, key in enumerate(_keys.keys()):\n",
    "        try:\n",
    "            _keys[key].append(df['Objecten:geometrie'][i].get('gml:Polygon').get(key))\n",
    "        except:\n",
    "            _keys[key].append(None)"
   ]
  },
  {
   "cell_type": "code",
   "execution_count": 11,
   "metadata": {},
   "outputs": [],
   "source": [
    "new_keys = [f\"geometrie-{k}\" for k in _keys.keys()]\n",
    "for key,n_key in zip(_keys.keys(), new_keys):\n",
    "    _keys[n_key] = _keys.pop(key)"
   ]
  },
  {
   "cell_type": "code",
   "execution_count": 12,
   "metadata": {},
   "outputs": [],
   "source": [
    "geometries = pd.DataFrame(columns = _keys.keys())\n",
    "for index, key in enumerate(_keys.keys()):\n",
    "    geometries[key] = _keys[key]\n",
    "    \n",
    "df = pd.concat([df, geometries],axis=1)"
   ]
  },
  {
   "cell_type": "code",
   "execution_count": 13,
   "metadata": {},
   "outputs": [
    {
     "name": "stderr",
     "output_type": "stream",
     "text": [
      "100%|███████████████████████████████████████████████████████████████████████| 220242/220242 [00:02<00:00, 92241.45it/s]\n"
     ]
    }
   ],
   "source": [
    "# keynames = list(df['Objecten:geometrie'][100].get('Objecten:punt').get(\"gml:Point\").keys())\n",
    "_keys = {k:[] for k in df['Objecten:geometrie'][0].get('gml:Polygon').get('gml:exterior').get('gml:LinearRing').get('gml:posList').keys()}\n",
    "for i in tqdm(range(len(df)), total=len(df)):\n",
    "    for index, key in enumerate(_keys.keys()):\n",
    "        try:\n",
    "            _keys[key].append(df['Objecten:geometrie'][i].get('gml:Polygon').get('gml:exterior').get('gml:LinearRing').get('gml:posList').get(key))\n",
    "        except:\n",
    "            _keys[key].append(None)"
   ]
  },
  {
   "cell_type": "code",
   "execution_count": 14,
   "metadata": {},
   "outputs": [],
   "source": [
    "new_keys = [f\"geometrie-{k}\" for k in _keys.keys()]\n",
    "for key,n_key in zip(_keys.keys(), new_keys):\n",
    "    _keys[n_key] = _keys.pop(key)"
   ]
  },
  {
   "cell_type": "code",
   "execution_count": 15,
   "metadata": {},
   "outputs": [],
   "source": [
    "geometries = pd.DataFrame(columns = _keys.keys())\n",
    "for index, key in enumerate(_keys.keys()):\n",
    "    geometries[key] = _keys[key]\n",
    "    \n",
    "df = pd.concat([df, geometries],axis=1)"
   ]
  },
  {
   "cell_type": "code",
   "execution_count": 16,
   "metadata": {},
   "outputs": [
    {
     "name": "stderr",
     "output_type": "stream",
     "text": [
      "100%|███████████████████████████████████████████████████████████████████████| 220242/220242 [00:04<00:00, 51076.96it/s]\n"
     ]
    }
   ],
   "source": [
    "# keynames = list(df['Objecten:geometrie'][100].get('Objecten:punt').get(\"gml:Point\").keys())\n",
    "_keys = {k:[] for k in df['Objecten:voorkomen'][0].get('Historie:Voorkomen').keys()}\n",
    "for i in tqdm(range(len(df)), total=len(df)):\n",
    "    for index, key in enumerate(_keys.keys()):\n",
    "        try:\n",
    "            _keys[key].append(df['Objecten:voorkomen'][i].get('Historie:Voorkomen').get(key))\n",
    "        except:\n",
    "            _keys[key].append(None)"
   ]
  },
  {
   "cell_type": "code",
   "execution_count": 17,
   "metadata": {},
   "outputs": [],
   "source": [
    "voorkomen = pd.DataFrame(columns = _keys.keys())\n",
    "for index, key in enumerate(_keys.keys()):\n",
    "    voorkomen[key] = _keys[key]\n",
    "    \n",
    "df = pd.concat([df, voorkomen],axis=1)"
   ]
  },
  {
   "cell_type": "code",
   "execution_count": 18,
   "metadata": {},
   "outputs": [
    {
     "name": "stderr",
     "output_type": "stream",
     "text": [
      "100%|██████████████████████████████████████████████████████████████████████| 220242/220242 [00:01<00:00, 170418.45it/s]\n"
     ]
    }
   ],
   "source": [
    "# keynames = list(df['Objecten:geometrie'][100].get('Objecten:punt').get(\"gml:Point\").keys())\n",
    "_keys = {k:[] for k in df['Objecten:voorkomen'][0].get('Historie:Voorkomen').get(\"Historie:BeschikbaarLV\").keys()}\n",
    "for i in tqdm(range(len(df)), total=len(df)):\n",
    "    for index, key in enumerate(_keys.keys()):\n",
    "        try:\n",
    "            _keys[key].append(df['Objecten:voorkomen'][i].get('Historie:Voorkomen').get('Historie:BeschikbaarLV').get(key))\n",
    "        except:\n",
    "            _keys[key].append(None)"
   ]
  },
  {
   "cell_type": "code",
   "execution_count": 19,
   "metadata": {},
   "outputs": [],
   "source": [
    "voorkomen = pd.DataFrame(columns = _keys.keys())\n",
    "for index, key in enumerate(_keys.keys()):\n",
    "    voorkomen[key] = _keys[key]\n",
    "    \n",
    "df = pd.concat([df, voorkomen],axis=1)"
   ]
  },
  {
   "cell_type": "code",
   "execution_count": 21,
   "metadata": {},
   "outputs": [],
   "source": [
    "df.to_csv(\"PND.csv\", index=False)"
   ]
  },
  {
   "cell_type": "code",
   "execution_count": 80,
   "metadata": {},
   "outputs": [],
   "source": [
    "df_clear = df.copy()"
   ]
  },
  {
   "cell_type": "code",
   "execution_count": 81,
   "metadata": {},
   "outputs": [],
   "source": [
    "del df[\"Objecten:geometrie\"]\n",
    "df.to_parquet('PND.parquet')"
   ]
  },
  {
   "cell_type": "markdown",
   "metadata": {},
   "source": [
    "## Loading from parquet and converting to gdf."
   ]
  },
  {
   "cell_type": "code",
   "execution_count": 194,
   "metadata": {},
   "outputs": [
    {
     "name": "stdout",
     "output_type": "stream",
     "text": [
      "\n"
     ]
    }
   ],
   "source": [
    "df = pd.read_parquet(\"PND.parquet\")"
   ]
  },
  {
   "cell_type": "code",
   "execution_count": 195,
   "metadata": {},
   "outputs": [],
   "source": [
    "def to_polygon(row):\n",
    "    pointList = [f\"POINT({x})\" for x in re.split(r'(.*?\\s.*?\\s.*?)\\s', row) if x]\n",
    "    pointList = [wkt.loads(i) for i in pointList]\n",
    "    return geometry.Polygon([[p.x, p.y] for p in pointList])"
   ]
  },
  {
   "cell_type": "code",
   "execution_count": 200,
   "metadata": {},
   "outputs": [
    {
     "name": "stderr",
     "output_type": "stream",
     "text": [
      "100%|████████████████████████████████████████████████████████████████████████| 220242/220242 [01:22<00:00, 2665.73it/s]\n"
     ]
    }
   ],
   "source": [
    "df['geometry'] = df[\"geometrie-#text\"].progress_apply(lambda x: to_polygon(x))"
   ]
  },
  {
   "cell_type": "code",
   "execution_count": 197,
   "metadata": {},
   "outputs": [],
   "source": [
    "df = gpd.GeoDataFrame(df, geometry='geometry')"
   ]
  },
  {
   "cell_type": "code",
   "execution_count": 198,
   "metadata": {},
   "outputs": [
    {
     "data": {
      "text/plain": [
       "<AxesSubplot:>"
      ]
     },
     "execution_count": 198,
     "metadata": {},
     "output_type": "execute_result"
    },
    {
     "data": {
      "image/png": "[encoded data removed]",
      "text/plain": [
       "<Figure size 432x288 with 1 Axes>"
      ]
     },
     "metadata": {
      "needs_background": "light"
     },
     "output_type": "display_data"
    }
   ],
   "source": [
    "df.plot()"
   ]
  }
 ],
 "metadata": {
  "kernelspec": {
   "display_name": "heros",
   "language": "python",
   "name": "heros"
  },
  "language_info": {
   "codemirror_mode": {
    "name": "ipython",
    "version": 3
   },
   "file_extension": ".py",
   "mimetype": "text/x-python",
   "name": "python",
   "nbconvert_exporter": "python",
   "pygments_lexer": "ipython3",
   "version": "3.8.3"
  }
 },
 "nbformat": 4,
 "nbformat_minor": 4
}
