{
 "cells": [
  {
   "cell_type": "code",
   "execution_count": 1,
   "metadata": {},
   "outputs": [],
   "source": [
    "from xml.dom import minidom\n",
    "import pandas as pd\n",
    "pd.options.display.max_columns=100\n",
    "pd.options.display.max_rows=1000\n",
    "import xmltodict\n",
    "import json\n",
    "import glob\n",
    "from tqdm import tqdm"
   ]
  },
  {
   "cell_type": "code",
   "execution_count": 2,
   "metadata": {},
   "outputs": [],
   "source": [
    "foldername = \"BAGGEM0518L-15122020/0518GEM15122020/0518NUM15122020/\"\n",
    "files = [file for file in glob.glob(f\"{foldername}/*.xml\")]"
   ]
  },
  {
   "cell_type": "code",
   "execution_count": 4,
   "metadata": {},
   "outputs": [
    {
     "name": "stderr",
     "output_type": "stream",
     "text": [
      "100%|██████████████████████████████████████████████████████████████████████████████████| 39/39 [01:25<00:00,  2.20s/it]\n"
     ]
    }
   ],
   "source": [
    "res = []\n",
    "for file in tqdm(files, total=len(files)):\n",
    "    with open(file) as xml_file:\n",
    "        data_dict = xmltodict.parse(xml_file.read())\n",
    "    \n",
    "    json_data = json.dumps(data_dict)\n",
    "    res.append(json.loads(json_data))"
   ]
  },
  {
   "cell_type": "code",
   "execution_count": 143,
   "metadata": {},
   "outputs": [],
   "source": [
    "issues = []\n",
    "a=res[5].get('sl-bag-extract:bagStand').get('sl:standBestand').get('sl:stand')[1438].get('sl-bag-extract:bagObject').get('Objecten:Nummeraanduiding')\n",
    "res_keys = {k:[] for k in a.keys()}\n",
    "k=0\n",
    "for data in res:\n",
    "    for num in range(len(data.get('sl-bag-extract:bagStand').get('sl:standBestand').get('sl:stand'))):\n",
    "        k+=1\n",
    "        a=data.get('sl-bag-extract:bagStand').get('sl:standBestand').get('sl:stand')[num].get('sl-bag-extract:bagObject').get('Objecten:Nummeraanduiding')\n",
    "        for index, key in enumerate(res_keys.keys()):\n",
    "            try:\n",
    "                res_keys[key].append(a[key])\n",
    "            except:\n",
    "                res_keys[key].append(None)\n",
    "#                 print(k, a[key])\n",
    "#                 issues.append(k)\n",
    "                continue"
   ]
  },
  {
   "cell_type": "code",
   "execution_count": 144,
   "metadata": {},
   "outputs": [],
   "source": [
    "df = pd.DataFrame(columns = list(res_keys.keys()))\n",
    "for index, key in enumerate(res_keys.keys()):\n",
    "    df[key] = res_keys[key]"
   ]
  },
  {
   "cell_type": "code",
   "execution_count": 145,
   "metadata": {},
   "outputs": [
    {
     "name": "stderr",
     "output_type": "stream",
     "text": [
      "100%|██████████████████████████████████████████████████████████████████████| 383987/383987 [00:03<00:00, 104272.01it/s]\n"
     ]
    }
   ],
   "source": [
    "_keys = {k:[] for k in df['Objecten:identificatie'][100].keys()}\n",
    "for i in tqdm(range(len(df)), total=len(df)):\n",
    "    for index, key in enumerate(_keys.keys()):\n",
    "        try:\n",
    "            _keys[key].append(df['Objecten:identificatie'][i].get(key))\n",
    "        except:\n",
    "            _keys[key].append(None)"
   ]
  },
  {
   "cell_type": "code",
   "execution_count": 146,
   "metadata": {},
   "outputs": [],
   "source": [
    "new_keys = [f\"identificatie-{k}\" for k in _keys.keys()]\n",
    "for key,n_key in zip(_keys.keys(), new_keys):\n",
    "    _keys[n_key] = _keys.pop(key)"
   ]
  },
  {
   "cell_type": "code",
   "execution_count": 147,
   "metadata": {},
   "outputs": [],
   "source": [
    "identificatie = pd.DataFrame(columns = _keys.keys())\n",
    "for index, key in enumerate(_keys.keys()):\n",
    "    identificatie[key] = _keys[key]\n",
    "    \n",
    "df = pd.concat([df, identificatie],axis=1)"
   ]
  },
  {
   "cell_type": "code",
   "execution_count": 148,
   "metadata": {},
   "outputs": [
    {
     "name": "stderr",
     "output_type": "stream",
     "text": [
      "100%|███████████████████████████████████████████████████████████████████████| 383987/383987 [00:07<00:00, 52721.03it/s]\n"
     ]
    }
   ],
   "source": [
    "_keys = {k:[] for k in df['Objecten:voorkomen'][100].get('Historie:Voorkomen').keys()}\n",
    "for i in tqdm(range(len(df)), total=len(df)):\n",
    "    for index, key in enumerate(_keys.keys()):\n",
    "        try:\n",
    "            _keys[key].append(df['Objecten:voorkomen'][i].get('Historie:Voorkomen').get(key))\n",
    "        except:\n",
    "            _keys[key].append(None)"
   ]
  },
  {
   "cell_type": "code",
   "execution_count": 149,
   "metadata": {},
   "outputs": [],
   "source": [
    "voorkomen = pd.DataFrame(columns = _keys.keys())\n",
    "for index, key in enumerate(_keys.keys()):\n",
    "    voorkomen[key] = _keys[key]\n",
    "    \n",
    "df = pd.concat([df, voorkomen],axis=1)"
   ]
  },
  {
   "cell_type": "code",
   "execution_count": 150,
   "metadata": {},
   "outputs": [
    {
     "name": "stderr",
     "output_type": "stream",
     "text": [
      "100%|██████████████████████████████████████████████████████████████████████| 383987/383987 [00:02<00:00, 176034.05it/s]\n"
     ]
    }
   ],
   "source": [
    "_keys = {k:[] for k in df['Objecten:voorkomen'][100].get('Historie:Voorkomen').get('Historie:BeschikbaarLV').keys()}\n",
    "for i in tqdm(range(len(df)), total=len(df)):\n",
    "    for index, key in enumerate(_keys.keys()):\n",
    "        try:\n",
    "            _keys[key].append(df['Objecten:voorkomen'][i].get('Historie:Voorkomen').get('Historie:BeschikbaarLV').get(key))\n",
    "        except:\n",
    "            _keys[key].append(None)"
   ]
  },
  {
   "cell_type": "code",
   "execution_count": 151,
   "metadata": {},
   "outputs": [],
   "source": [
    "voorkomen = pd.DataFrame(columns = _keys.keys())\n",
    "for index, key in enumerate(_keys.keys()):\n",
    "    voorkomen[key] = _keys[key]\n",
    "    \n",
    "df = pd.concat([df, voorkomen],axis=1)"
   ]
  },
  {
   "cell_type": "code",
   "execution_count": 152,
   "metadata": {},
   "outputs": [
    {
     "name": "stderr",
     "output_type": "stream",
     "text": [
      "100%|██████████████████████████████████████████████████████████████████████| 383987/383987 [00:03<00:00, 100233.65it/s]\n"
     ]
    }
   ],
   "source": [
    "_keys = {k:[] for k in df['Objecten:ligtAan'][100].get('Objecten-ref:OpenbareRuimteRef').keys()}\n",
    "for i in tqdm(range(len(df)), total=len(df)):\n",
    "    for index, key in enumerate(_keys.keys()):\n",
    "        try:\n",
    "            _keys[key].append(df['Objecten:ligtAan'][i].get('Objecten-ref:OpenbareRuimteRef').get(key))\n",
    "        except:\n",
    "            _keys[key].append(None)"
   ]
  },
  {
   "cell_type": "code",
   "execution_count": 153,
   "metadata": {},
   "outputs": [],
   "source": [
    "new_keys = [f\"ligtAan-{k}\" for k in _keys.keys()]\n",
    "for key,n_key in zip(_keys.keys(), new_keys):\n",
    "    _keys[n_key] = _keys.pop(key)"
   ]
  },
  {
   "cell_type": "code",
   "execution_count": 154,
   "metadata": {},
   "outputs": [],
   "source": [
    "ligtAan = pd.DataFrame(columns = _keys.keys())\n",
    "for index, key in enumerate(_keys.keys()):\n",
    "    ligtAan[key] = _keys[key]\n",
    "    \n",
    "df = pd.concat([df, ligtAan],axis=1)"
   ]
  },
  {
   "cell_type": "code",
   "execution_count": 156,
   "metadata": {},
   "outputs": [
    {
     "data": {
      "text/html": [
       "<div>\n",
       "<style scoped>\n",
       "    .dataframe tbody tr th:only-of-type {\n",
       "        vertical-align: middle;\n",
       "    }\n",
       "\n",
       "    .dataframe tbody tr th {\n",
       "        vertical-align: top;\n",
       "    }\n",
       "\n",
       "    .dataframe thead th {\n",
       "        text-align: right;\n",
       "    }\n",
       "</style>\n",
       "<table border=\"1\" class=\"dataframe\">\n",
       "  <thead>\n",
       "    <tr style=\"text-align: right;\">\n",
       "      <th></th>\n",
       "      <th>Objecten:identificatie</th>\n",
       "      <th>Objecten:huisnummer</th>\n",
       "      <th>Objecten:huisletter</th>\n",
       "      <th>Objecten:huisnummertoevoeging</th>\n",
       "      <th>Objecten:postcode</th>\n",
       "      <th>Objecten:typeAdresseerbaarObject</th>\n",
       "      <th>Objecten:status</th>\n",
       "      <th>Objecten:geconstateerd</th>\n",
       "      <th>Objecten:documentdatum</th>\n",
       "      <th>Objecten:documentnummer</th>\n",
       "      <th>Objecten:voorkomen</th>\n",
       "      <th>Objecten:ligtAan</th>\n",
       "      <th>identificatie-@domein</th>\n",
       "      <th>identificatie-#text</th>\n",
       "      <th>Historie:voorkomenidentificatie</th>\n",
       "      <th>Historie:beginGeldigheid</th>\n",
       "      <th>Historie:tijdstipRegistratie</th>\n",
       "      <th>Historie:BeschikbaarLV</th>\n",
       "      <th>Historie:tijdstipRegistratieLV</th>\n",
       "      <th>ligtAan-@domein</th>\n",
       "      <th>ligtAan-#text</th>\n",
       "    </tr>\n",
       "  </thead>\n",
       "  <tbody>\n",
       "    <tr>\n",
       "      <th>0</th>\n",
       "      <td>{'@domein': 'NL.IMBAG.Nummeraanduiding', '#tex...</td>\n",
       "      <td>2</td>\n",
       "      <td>A</td>\n",
       "      <td>None</td>\n",
       "      <td>None</td>\n",
       "      <td>Verblijfsobject</td>\n",
       "      <td>Naamgeving uitgegeven</td>\n",
       "      <td>N</td>\n",
       "      <td>2019-12-02</td>\n",
       "      <td>cr.nr. 29160</td>\n",
       "      <td>{'Historie:Voorkomen': {'Historie:voorkomenide...</td>\n",
       "      <td>{'Objecten-ref:OpenbareRuimteRef': {'@domein':...</td>\n",
       "      <td>NL.IMBAG.Nummeraanduiding</td>\n",
       "      <td>0518200000100000</td>\n",
       "      <td>1</td>\n",
       "      <td>2019-12-02</td>\n",
       "      <td>2019-12-05T12:15:41.958</td>\n",
       "      <td>{'Historie:tijdstipRegistratieLV': '2019-12-05...</td>\n",
       "      <td>2019-12-05T12:16:03.622</td>\n",
       "      <td>NL.IMBAG.Openbareruimte</td>\n",
       "      <td>0518300000202538</td>\n",
       "    </tr>\n",
       "    <tr>\n",
       "      <th>1</th>\n",
       "      <td>{'@domein': 'NL.IMBAG.Nummeraanduiding', '#tex...</td>\n",
       "      <td>2</td>\n",
       "      <td>A</td>\n",
       "      <td>None</td>\n",
       "      <td>2583DM</td>\n",
       "      <td>Verblijfsobject</td>\n",
       "      <td>Naamgeving uitgegeven</td>\n",
       "      <td>N</td>\n",
       "      <td>2019-12-05</td>\n",
       "      <td>T20191605.1</td>\n",
       "      <td>{'Historie:Voorkomen': {'Historie:voorkomenide...</td>\n",
       "      <td>{'Objecten-ref:OpenbareRuimteRef': {'@domein':...</td>\n",
       "      <td>NL.IMBAG.Nummeraanduiding</td>\n",
       "      <td>0518200000100000</td>\n",
       "      <td>2</td>\n",
       "      <td>2019-12-05</td>\n",
       "      <td>2019-12-05T15:26:55.781</td>\n",
       "      <td>{'Historie:tijdstipRegistratieLV': '2019-12-05...</td>\n",
       "      <td>2019-12-05T15:27:04.939</td>\n",
       "      <td>NL.IMBAG.Openbareruimte</td>\n",
       "      <td>0518300000202538</td>\n",
       "    </tr>\n",
       "    <tr>\n",
       "      <th>2</th>\n",
       "      <td>{'@domein': 'NL.IMBAG.Nummeraanduiding', '#tex...</td>\n",
       "      <td>2</td>\n",
       "      <td>C</td>\n",
       "      <td>None</td>\n",
       "      <td>None</td>\n",
       "      <td>Verblijfsobject</td>\n",
       "      <td>Naamgeving uitgegeven</td>\n",
       "      <td>N</td>\n",
       "      <td>2019-12-02</td>\n",
       "      <td>cr.nr.29161</td>\n",
       "      <td>{'Historie:Voorkomen': {'Historie:voorkomenide...</td>\n",
       "      <td>{'Objecten-ref:OpenbareRuimteRef': {'@domein':...</td>\n",
       "      <td>NL.IMBAG.Nummeraanduiding</td>\n",
       "      <td>0518200000100001</td>\n",
       "      <td>1</td>\n",
       "      <td>2019-12-02</td>\n",
       "      <td>2019-12-05T12:21:15.054</td>\n",
       "      <td>{'Historie:tijdstipRegistratieLV': '2019-12-05...</td>\n",
       "      <td>2019-12-05T12:21:51.569</td>\n",
       "      <td>NL.IMBAG.Openbareruimte</td>\n",
       "      <td>0518300000202538</td>\n",
       "    </tr>\n",
       "    <tr>\n",
       "      <th>3</th>\n",
       "      <td>{'@domein': 'NL.IMBAG.Nummeraanduiding', '#tex...</td>\n",
       "      <td>2</td>\n",
       "      <td>C</td>\n",
       "      <td>None</td>\n",
       "      <td>2583DM</td>\n",
       "      <td>Verblijfsobject</td>\n",
       "      <td>Naamgeving uitgegeven</td>\n",
       "      <td>N</td>\n",
       "      <td>2019-12-11</td>\n",
       "      <td>T20191625.1</td>\n",
       "      <td>{'Historie:Voorkomen': {'Historie:voorkomenide...</td>\n",
       "      <td>{'Objecten-ref:OpenbareRuimteRef': {'@domein':...</td>\n",
       "      <td>NL.IMBAG.Nummeraanduiding</td>\n",
       "      <td>0518200000100001</td>\n",
       "      <td>2</td>\n",
       "      <td>2019-12-11</td>\n",
       "      <td>2019-12-11T11:37:22.136</td>\n",
       "      <td>{'Historie:tijdstipRegistratieLV': '2019-12-11...</td>\n",
       "      <td>2019-12-11T11:37:35.454</td>\n",
       "      <td>NL.IMBAG.Openbareruimte</td>\n",
       "      <td>0518300000202538</td>\n",
       "    </tr>\n",
       "    <tr>\n",
       "      <th>4</th>\n",
       "      <td>{'@domein': 'NL.IMBAG.Nummeraanduiding', '#tex...</td>\n",
       "      <td>2</td>\n",
       "      <td>D</td>\n",
       "      <td>None</td>\n",
       "      <td>2583DM</td>\n",
       "      <td>Verblijfsobject</td>\n",
       "      <td>Naamgeving uitgegeven</td>\n",
       "      <td>N</td>\n",
       "      <td>2019-12-17</td>\n",
       "      <td>T20191661.1</td>\n",
       "      <td>{'Historie:Voorkomen': {'Historie:voorkomenide...</td>\n",
       "      <td>{'Objecten-ref:OpenbareRuimteRef': {'@domein':...</td>\n",
       "      <td>NL.IMBAG.Nummeraanduiding</td>\n",
       "      <td>0518200000100001</td>\n",
       "      <td>3</td>\n",
       "      <td>2019-12-17</td>\n",
       "      <td>2019-12-17T10:10:11.831</td>\n",
       "      <td>{'Historie:tijdstipRegistratieLV': '2019-12-17...</td>\n",
       "      <td>2019-12-17T10:10:16.337</td>\n",
       "      <td>NL.IMBAG.Openbareruimte</td>\n",
       "      <td>0518300000202538</td>\n",
       "    </tr>\n",
       "  </tbody>\n",
       "</table>\n",
       "</div>"
      ],
      "text/plain": [
       "                              Objecten:identificatie Objecten:huisnummer  \\\n",
       "0  {'@domein': 'NL.IMBAG.Nummeraanduiding', '#tex...                   2   \n",
       "1  {'@domein': 'NL.IMBAG.Nummeraanduiding', '#tex...                   2   \n",
       "2  {'@domein': 'NL.IMBAG.Nummeraanduiding', '#tex...                   2   \n",
       "3  {'@domein': 'NL.IMBAG.Nummeraanduiding', '#tex...                   2   \n",
       "4  {'@domein': 'NL.IMBAG.Nummeraanduiding', '#tex...                   2   \n",
       "\n",
       "  Objecten:huisletter Objecten:huisnummertoevoeging Objecten:postcode  \\\n",
       "0                   A                          None              None   \n",
       "1                   A                          None            2583DM   \n",
       "2                   C                          None              None   \n",
       "3                   C                          None            2583DM   \n",
       "4                   D                          None            2583DM   \n",
       "\n",
       "  Objecten:typeAdresseerbaarObject        Objecten:status  \\\n",
       "0                  Verblijfsobject  Naamgeving uitgegeven   \n",
       "1                  Verblijfsobject  Naamgeving uitgegeven   \n",
       "2                  Verblijfsobject  Naamgeving uitgegeven   \n",
       "3                  Verblijfsobject  Naamgeving uitgegeven   \n",
       "4                  Verblijfsobject  Naamgeving uitgegeven   \n",
       "\n",
       "  Objecten:geconstateerd Objecten:documentdatum Objecten:documentnummer  \\\n",
       "0                      N             2019-12-02            cr.nr. 29160   \n",
       "1                      N             2019-12-05             T20191605.1   \n",
       "2                      N             2019-12-02             cr.nr.29161   \n",
       "3                      N             2019-12-11             T20191625.1   \n",
       "4                      N             2019-12-17             T20191661.1   \n",
       "\n",
       "                                  Objecten:voorkomen  \\\n",
       "0  {'Historie:Voorkomen': {'Historie:voorkomenide...   \n",
       "1  {'Historie:Voorkomen': {'Historie:voorkomenide...   \n",
       "2  {'Historie:Voorkomen': {'Historie:voorkomenide...   \n",
       "3  {'Historie:Voorkomen': {'Historie:voorkomenide...   \n",
       "4  {'Historie:Voorkomen': {'Historie:voorkomenide...   \n",
       "\n",
       "                                    Objecten:ligtAan  \\\n",
       "0  {'Objecten-ref:OpenbareRuimteRef': {'@domein':...   \n",
       "1  {'Objecten-ref:OpenbareRuimteRef': {'@domein':...   \n",
       "2  {'Objecten-ref:OpenbareRuimteRef': {'@domein':...   \n",
       "3  {'Objecten-ref:OpenbareRuimteRef': {'@domein':...   \n",
       "4  {'Objecten-ref:OpenbareRuimteRef': {'@domein':...   \n",
       "\n",
       "       identificatie-@domein identificatie-#text  \\\n",
       "0  NL.IMBAG.Nummeraanduiding    0518200000100000   \n",
       "1  NL.IMBAG.Nummeraanduiding    0518200000100000   \n",
       "2  NL.IMBAG.Nummeraanduiding    0518200000100001   \n",
       "3  NL.IMBAG.Nummeraanduiding    0518200000100001   \n",
       "4  NL.IMBAG.Nummeraanduiding    0518200000100001   \n",
       "\n",
       "  Historie:voorkomenidentificatie Historie:beginGeldigheid  \\\n",
       "0                               1               2019-12-02   \n",
       "1                               2               2019-12-05   \n",
       "2                               1               2019-12-02   \n",
       "3                               2               2019-12-11   \n",
       "4                               3               2019-12-17   \n",
       "\n",
       "  Historie:tijdstipRegistratie  \\\n",
       "0      2019-12-05T12:15:41.958   \n",
       "1      2019-12-05T15:26:55.781   \n",
       "2      2019-12-05T12:21:15.054   \n",
       "3      2019-12-11T11:37:22.136   \n",
       "4      2019-12-17T10:10:11.831   \n",
       "\n",
       "                              Historie:BeschikbaarLV  \\\n",
       "0  {'Historie:tijdstipRegistratieLV': '2019-12-05...   \n",
       "1  {'Historie:tijdstipRegistratieLV': '2019-12-05...   \n",
       "2  {'Historie:tijdstipRegistratieLV': '2019-12-05...   \n",
       "3  {'Historie:tijdstipRegistratieLV': '2019-12-11...   \n",
       "4  {'Historie:tijdstipRegistratieLV': '2019-12-17...   \n",
       "\n",
       "  Historie:tijdstipRegistratieLV          ligtAan-@domein     ligtAan-#text  \n",
       "0        2019-12-05T12:16:03.622  NL.IMBAG.Openbareruimte  0518300000202538  \n",
       "1        2019-12-05T15:27:04.939  NL.IMBAG.Openbareruimte  0518300000202538  \n",
       "2        2019-12-05T12:21:51.569  NL.IMBAG.Openbareruimte  0518300000202538  \n",
       "3        2019-12-11T11:37:35.454  NL.IMBAG.Openbareruimte  0518300000202538  \n",
       "4        2019-12-17T10:10:16.337  NL.IMBAG.Openbareruimte  0518300000202538  "
      ]
     },
     "execution_count": 156,
     "metadata": {},
     "output_type": "execute_result"
    }
   ],
   "source": [
    "df.head()"
   ]
  },
  {
   "cell_type": "code",
   "execution_count": 157,
   "metadata": {},
   "outputs": [],
   "source": [
    "df.to_csv(\"NUM.csv\", index=False)"
   ]
  },
  {
   "cell_type": "code",
   "execution_count": 8,
   "metadata": {},
   "outputs": [],
   "source": [
    "df.to_parquet('NUM.parquet')"
   ]
  }
 ],
 "metadata": {
  "kernelspec": {
   "display_name": "heros",
   "language": "python",
   "name": "heros"
  },
  "language_info": {
   "codemirror_mode": {
    "name": "ipython",
    "version": 3
   },
   "file_extension": ".py",
   "mimetype": "text/x-python",
   "name": "python",
   "nbconvert_exporter": "python",
   "pygments_lexer": "ipython3",
   "version": "3.8.3"
  }
 },
 "nbformat": 4,
 "nbformat_minor": 4
}
